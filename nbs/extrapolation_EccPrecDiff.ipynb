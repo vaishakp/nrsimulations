{
 "cells": [
  {
   "cell_type": "code",
   "execution_count": 1,
   "metadata": {},
   "outputs": [
    {
     "name": "stdout",
     "output_type": "stream",
     "text": [
      "/mnt/pfs/vaishak.p/Projects/Codes/custom_libraries/waveformtools/waveformtools\n"
     ]
    },
    {
     "name": "stdout",
     "output_type": "stream",
     "text": [
      "No module named 'pycbc'\n"
     ]
    }
   ],
   "source": [
    "from waveformtools.sxs.prepare_waveforms import PrepareSXSWaveform\n",
    "from pathlib import Path\n",
    "import config\n",
    "\n",
    "if config.print_verbosity!=2:\n",
    "    from config.verbosity import levels\n",
    "\n",
    "    lv = levels()\n",
    "\n",
    "    lv.set_print_verbosity(2)"
   ]
  },
  {
   "cell_type": "code",
   "execution_count": 2,
   "metadata": {},
   "outputs": [
    {
     "data": {
      "text/plain": [
       "2"
      ]
     },
     "execution_count": 2,
     "metadata": {},
     "output_type": "execute_result"
    }
   ],
   "source": [
    "config.print_verbosity"
   ]
  },
  {
   "cell_type": "code",
   "execution_count": null,
   "metadata": {},
   "outputs": [],
   "source": [
    "sims1 = {\n",
    "    \"ICTSEccParallel13\": [2, 3],\n",
    "    \"ICTSEccParallel03\": [2, 3],\n",
    "    \"ICTSEccParallel04\": [2, 3],\n",
    "    \"ICTSEccParallel05\": [2, 3],\n",
    "    \"ICTSEccParallel06\": [2, 3],\n",
    "    \"ICTSEccParallel07\": [2, 3],\n",
    "    \"ICTSEccParallel08\": [2, 3],\n",
    "    \"ICTSEccParallel09\": [2, 3],\n",
    "    \"ICTSEccParallel10\": [2, 3],\n",
    "    \"ICTSEccParallel11\": [2, 3],\n",
    "    \"ICTSEccParallel12\": [2, 3],\n",
    "}"
   ]
  },
  {
   "cell_type": "code",
   "execution_count": 4,
   "metadata": {},
   "outputs": [
    {
     "data": {
      "text/plain": [
       "'/mnt/pfs/vaishak.p/Projects/Codes/custom_libraries/nrsimulations/nbs'"
      ]
     },
     "execution_count": 4,
     "metadata": {},
     "output_type": "execute_result"
    }
   ],
   "source": [
    "import os\n",
    "os.getcwd()"
   ]
  },
  {
   "cell_type": "code",
   "execution_count": null,
   "metadata": {},
   "outputs": [
    {
     "name": "stdout",
     "output_type": "stream",
     "text": [
      "Sim ICTSEccParallel13 Lev 2\n",
      "Choosing default directory for output...\n"
     ]
    },
    {
     "name": "stdout",
     "output_type": "stream",
     "text": [
      "Current working directory /mnt/pfs/vaishak.p/Projects/Codes/custom_libraries/nrsimulations/nbs\n",
      "Setting out-directory to (/mnt/pfs/vaishak.p/Projects/Codes/custom_libraries/nrsimulations/nbs/processed_waveforms/ICTSEccParallel13_waveforms_Lev2)...\n",
      "Out directory is set to /mnt/pfs/vaishak.p/Projects/Codes/custom_libraries/nrsimulations/nbs/processed_waveforms/ICTSEccParallel13_waveforms_Lev2\n",
      "Creating directory /mnt/pfs/vaishak.p/Projects/Codes/custom_libraries/nrsimulations/nbs/processed_waveforms/ICTSEccParallel13_waveforms_Lev2\n",
      "Joining waveform h5 files...\n",
      "Running command\n",
      " JoinH5 -o /mnt/pfs/vaishak.p/Projects/Codes/custom_libraries/nrsimulations/nbs/processed_waveforms/ICTSEccParallel13_waveforms_Lev2/joined/ICTSEccParallel13Lev2JoinedWaveform.h5 /mnt/pfs/vaishak.p/sims/SpEC/gcc/bfi/ICTSEccParallel/ICTSEccParallel13/Ecc0/Ev/Lev2*/Run/GW2/rh_FiniteRadii_CodeUnits.h5 \n",
      "Command output \n",
      " \n",
      "Command completed. Please check Errors.txt for details\n",
      "\tChecking if extrapolated files from a previous run exists...\n",
      "\t [Errno 2] No such file or directory: '/mnt/pfs/vaishak.p/Projects/Codes/custom_libraries/nrsimulations/nbs/processed_waveforms/ICTSEccParallel13_waveforms_Lev2/extrapolated'\n",
      "\tNo extrapolated files from previous run found\n",
      "Extrapolating...\n",
      "Reading Waveforms from /mnt/pfs/vaishak.p/Projects/Codes/custom_libraries/nrsimulations/nbs/processed_waveforms/ICTSEccParallel13_waveforms_Lev2/joined/ICTSEccParallel13Lev2JoinedWaveform.h5...\n",
      "/mnt/pfs/vaishak.p/Projects/Codes/custom_libraries/nrsimulations/nbs/processed_waveforms/ICTSEccParallel13_waveforms_Lev2/joined/ICTSEccParallel13Lev2JoinedWaveform.h5 passed the data-integrity tests.\n",
      "R0169.dir, R0174.dir, R0181.dir, R0188.dir, R0195.dir, R0203.dir, R0211.dir, R0221.dir, R0231.dir, \n",
      "R0242.dir, R0255.dir, R0268.dir, R0284.dir, R0301.dir, R0320.dir, R0342.dir, R0367.dir, R0396.dir, \n",
      "R0430.dir, R0470.dir, R0519.dir, R0580.dir, R0656.dir, R0755.dir\n",
      "Interpolating to common times...\n",
      "Rotating into common (outer) frame...\n",
      "Using alignment region (0.1, 0.8)\n",
      "Running extrapolations.\n"
     ]
    },
    {
     "name": "stderr",
     "output_type": "stream",
     "text": [
      "100%|██████████| 29157/29157 [00:28<00:00, 1028.82it/s]\n"
     ]
    },
    {
     "name": "stdout",
     "output_type": "stream",
     "text": [
      "\n",
      "N=-1: Rotating into inertial frame... ☺\n",
      "N=-1: Writing /mnt/pfs/vaishak.p/Projects/Codes/custom_libraries/nrsimulations/nbs/processed_waveforms/ICTSEccParallel13_waveforms_Lev2/extrapolated/Extrapolated_N-1.h5... ☺\n",
      "N=2: Rotating into inertial frame... ☺\n",
      "N=2: Writing /mnt/pfs/vaishak.p/Projects/Codes/custom_libraries/nrsimulations/nbs/processed_waveforms/ICTSEccParallel13_waveforms_Lev2/extrapolated/Extrapolated_N2.h5... ☺\n",
      "N=3: Rotating into inertial frame... ☺\n",
      "N=3: Writing /mnt/pfs/vaishak.p/Projects/Codes/custom_libraries/nrsimulations/nbs/processed_waveforms/ICTSEccParallel13_waveforms_Lev2/extrapolated/Extrapolated_N3.h5... ☺\n",
      "N=4: Rotating into inertial frame... ☺\n",
      "N=4: Writing /mnt/pfs/vaishak.p/Projects/Codes/custom_libraries/nrsimulations/nbs/processed_waveforms/ICTSEccParallel13_waveforms_Lev2/extrapolated/Extrapolated_N4.h5... ☺\n",
      "N=5: Rotating into inertial frame... ☺\n",
      "N=5: Writing /mnt/pfs/vaishak.p/Projects/Codes/custom_libraries/nrsimulations/nbs/processed_waveforms/ICTSEccParallel13_waveforms_Lev2/extrapolated/Extrapolated_N5.h5... ☺\n",
      "N=6: Rotating into inertial frame... ☺\n",
      "N=6: Writing /mnt/pfs/vaishak.p/Projects/Codes/custom_libraries/nrsimulations/nbs/processed_waveforms/ICTSEccParallel13_waveforms_Lev2/extrapolated/Extrapolated_N6.h5... ☺\n",
      "Joining Horizon h5 files...\n",
      "data paths insp /mnt/pfs/vaishak.p/sims/SpEC/gcc/bfi/ICTSEccParallel/ICTSEccParallel13/Ecc0/Ev/Lev2*/Run/ApparentHorizons/Horizons.h5\n",
      "data paths rdown /mnt/pfs/vaishak.p/sims/SpEC/gcc/bfi/ICTSEccParallel/ICTSEccParallel13/Ecc0/Ev/Lev2_Ringdown/Lev2*/Run/ApparentHorizons/Horizons.h5\n",
      "Running command\n",
      " JoinH5 -o /mnt/pfs/vaishak.p/Projects/Codes/custom_libraries/nrsimulations/nbs/processed_waveforms/ICTSEccParallel13_waveforms_Lev2/joined/ICTSEccParallel13Lev2JoinedHorizons.h5 /mnt/pfs/vaishak.p/sims/SpEC/gcc/bfi/ICTSEccParallel/ICTSEccParallel13/Ecc0/Ev/Lev2*/Run/ApparentHorizons/Horizons.h5 /mnt/pfs/vaishak.p/sims/SpEC/gcc/bfi/ICTSEccParallel/ICTSEccParallel13/Ecc0/Ev/Lev2_Ringdown/Lev2*/Run/ApparentHorizons/Horizons.h5\n",
      "Command output \n",
      " \n",
      "Command completed. Please check Errors.txt for details.\n",
      "Transforming to CoM frame...\n",
      "Working on Extrapolated N_-1\n",
      "Optimal x_i: [-0.01077319495960608, -0.009883550134174732, 0.0002345959988749086]\n",
      "Optimal v_i: [4.223789945596668e-06, 3.7471110683816587e-06, -7.951231743227005e-08]\n",
      "t_i, t_f: 191.79, 17261.1\n",
      "Working on Extrapolated N_2\n",
      "Optimal x_i: [-0.01077319495960608, -0.009883550134174732, 0.0002345959988749086]\n",
      "Optimal v_i: [4.223789945596668e-06, 3.7471110683816587e-06, -7.951231743227005e-08]\n",
      "t_i, t_f: 191.79, 17261.1\n",
      "Working on Extrapolated N_3\n",
      "Optimal x_i: [-0.01077319495960608, -0.009883550134174732, 0.0002345959988749086]\n",
      "Optimal v_i: [4.223789945596668e-06, 3.7471110683816587e-06, -7.951231743227005e-08]\n",
      "t_i, t_f: 191.79, 17261.1\n",
      "Working on Extrapolated N_4\n",
      "Optimal x_i: [-0.01077319495960608, -0.009883550134174732, 0.0002345959988749086]\n",
      "Optimal v_i: [4.223789945596668e-06, 3.7471110683816587e-06, -7.951231743227005e-08]\n",
      "t_i, t_f: 191.79, 17261.1\n",
      "Working on Extrapolated N_5\n",
      "Optimal x_i: [-0.01077319495960608, -0.009883550134174732, 0.0002345959988749086]\n",
      "Optimal v_i: [4.223789945596668e-06, 3.7471110683816587e-06, -7.951231743227005e-08]\n",
      "t_i, t_f: 191.79, 17261.1\n",
      "Working on Extrapolated N_6\n",
      "Optimal x_i: [-0.01077319495960608, -0.009883550134174732, 0.0002345959988749086]\n",
      "Optimal v_i: [4.223789945596668e-06, 3.7471110683816587e-06, -7.951231743227005e-08]\n",
      "t_i, t_f: 191.79, 17261.1\n",
      "\n",
      "--------------------------------------------------------\n",
      "\n",
      "Sim ICTSEccParallel13 Lev 3\n",
      "Choosing default directory for output...\n",
      "Current working directory /mnt/pfs/vaishak.p/Projects/Codes/custom_libraries/nrsimulations/nbs\n",
      "Setting out-directory to (/mnt/pfs/vaishak.p/Projects/Codes/custom_libraries/nrsimulations/nbs/processed_waveforms/ICTSEccParallel13_waveforms_Lev3)...\n",
      "Out directory is set to /mnt/pfs/vaishak.p/Projects/Codes/custom_libraries/nrsimulations/nbs/processed_waveforms/ICTSEccParallel13_waveforms_Lev3\n",
      "Creating directory /mnt/pfs/vaishak.p/Projects/Codes/custom_libraries/nrsimulations/nbs/processed_waveforms/ICTSEccParallel13_waveforms_Lev3\n",
      "Joining waveform h5 files...\n",
      "Running command\n",
      " JoinH5 -o /mnt/pfs/vaishak.p/Projects/Codes/custom_libraries/nrsimulations/nbs/processed_waveforms/ICTSEccParallel13_waveforms_Lev3/joined/ICTSEccParallel13Lev3JoinedWaveform.h5 /mnt/pfs/vaishak.p/sims/SpEC/gcc/bfi/ICTSEccParallel/ICTSEccParallel13/Ecc0/Ev/Lev3*/Run/GW2/rh_FiniteRadii_CodeUnits.h5 \n"
     ]
    }
   ],
   "source": [
    "prefix_dir = \"/mnt/pfs/vaishak.p/sims/SpEC/gcc/\"\n",
    "\n",
    "sims1_dir = Path(prefix_dir + \"/bfi/ICTSEccParallel/\")\n",
    "\n",
    "levs = [3, 4]\n",
    "\n",
    "eccs = [0]\n",
    "\n",
    "success_sims = []\n",
    "\n",
    "for sim in sims1.keys():\n",
    "    for lev in sims1[sim]:\n",
    "        print(\"Sim\", sim, \"Lev\", lev)\n",
    "\n",
    "        wfp = PrepareSXSWaveform(sim_name=sim, sim_dir=sims1_dir/sim, lev=lev)\n",
    "\n",
    "        flag = wfp.prepare_waveform()\n",
    "\n",
    "        if flag:\n",
    "            success_sims.append([sim, lev])"
   ]
  },
  {
   "cell_type": "code",
   "execution_count": 6,
   "metadata": {},
   "outputs": [
    {
     "ename": "NameError",
     "evalue": "name 'wfp' is not defined",
     "output_type": "error",
     "traceback": [
      "\u001b[0;31m---------------------------------------------------------------------------\u001b[0m",
      "\u001b[0;31mNameError\u001b[0m                                 Traceback (most recent call last)",
      "Cell \u001b[0;32mIn[6], line 1\u001b[0m\n\u001b[0;32m----> 1\u001b[0m \u001b[43mwfp\u001b[49m\u001b[38;5;241m.\u001b[39msim_dir\n",
      "\u001b[0;31mNameError\u001b[0m: name 'wfp' is not defined"
     ]
    }
   ],
   "source": [
    "wfp.sim_dir"
   ]
  },
  {
   "cell_type": "code",
   "execution_count": null,
   "metadata": {},
   "outputs": [
    {
     "data": {
      "text/plain": [
       "0"
      ]
     },
     "execution_count": 6,
     "metadata": {},
     "output_type": "execute_result"
    }
   ],
   "source": [
    "wfp.ecc_"
   ]
  },
  {
   "cell_type": "code",
   "execution_count": null,
   "metadata": {},
   "outputs": [],
   "source": []
  }
 ],
 "metadata": {
  "kernelspec": {
   "display_name": "wprep",
   "language": "python",
   "name": "python3"
  },
  "language_info": {
   "codemirror_mode": {
    "name": "ipython",
    "version": 3
   },
   "file_extension": ".py",
   "mimetype": "text/x-python",
   "name": "python",
   "nbconvert_exporter": "python",
   "pygments_lexer": "ipython3",
   "version": "3.11.0"
  }
 },
 "nbformat": 4,
 "nbformat_minor": 2
}

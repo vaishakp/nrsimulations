{
 "cells": [
  {
   "cell_type": "code",
   "execution_count": null,
   "metadata": {},
   "outputs": [
    {
     "name": "stdout",
     "output_type": "stream",
     "text": [
      "/home/vaishakprasad/Documents/Projects/Codes/custom_libraries/waveformtools/waveformtools\n",
      "No module named 'pycbc'\n"
     ]
    }
   ],
   "source": [
    "import numpy as np\n",
    "import h5py\n",
    "\n",
    "from waveformtools.sxs.discover_sims import SimulationExplorer\n",
    "\n",
    "from pathlib import Path\n",
    "\n",
    "import configPro\n",
    "\n",
    "from config.verbosity import levels"
   ]
  },
  {
   "cell_type": "code",
   "execution_count": 2,
   "metadata": {},
   "outputs": [],
   "source": [
    "vl = levels()"
   ]
  },
  {
   "cell_type": "code",
   "execution_count": 3,
   "metadata": {},
   "outputs": [
    {
     "name": "stdout",
     "output_type": "stream",
     "text": [
      "print verbosity has been set to 1 at /home/vaishakprasad/Documents/Projects/Codes/custom_libraries/config/config/__init__.py\n"
     ]
    }
   ],
   "source": [
    "vl.set_print_verbosity(1)"
   ]
  },
  {
   "cell_type": "code",
   "execution_count": 4,
   "metadata": {},
   "outputs": [],
   "source": [
    "path_to_sims = Path('/mnt/sonic/sims/SpEC/gcc/bfi/EccPrecDiff')\n",
    "home = Path.home()\n",
    "prepared_waveforms= Path(f'{home}/NR/waveforms')\n",
    "bfi_home = Path('/mnt/sonic/sims/SpEC/BFI/BFI')\n",
    "\n",
    "se = SimulationExplorer(search_dir=path_to_sims, prepared_waveforms_dir=prepared_waveforms, bfi_home_dir=bfi_home, bfi_project_name=\"EccPrecDiff\")"
   ]
  },
  {
   "cell_type": "code",
   "execution_count": 5,
   "metadata": {},
   "outputs": [
    {
     "data": {
      "text/plain": [
       "PosixPath('/home/vaishakprasad/NR/waveforms')"
      ]
     },
     "execution_count": 5,
     "metadata": {},
     "output_type": "execute_result"
    }
   ],
   "source": [
    "prepared_waveforms"
   ]
  },
  {
   "cell_type": "code",
   "execution_count": 4,
   "metadata": {},
   "outputs": [
    {
     "name": "stdout",
     "output_type": "stream",
     "text": [
      "Searching in /mnt/sonic/sims/SpEC/gcc/bfi/EccPrecDiff\n",
      "All subdirs ['eccprecrun4b', 'EccPrecDiff002', 'EccPrecDiff003', 'Errors000.txt', 'EccPrecDiff001', 'EccPrecDiff003a', 'EccPrecDiff004']\n",
      "\tSearching in /mnt/sonic/sims/SpEC/gcc/bfi/EccPrecDiff/eccprecrun4b\n",
      "\tSearching in /mnt/sonic/sims/SpEC/gcc/bfi/EccPrecDiff/EccPrecDiff002\n",
      "\tSearching in /mnt/sonic/sims/SpEC/gcc/bfi/EccPrecDiff/EccPrecDiff003\n",
      "\tSearching in /mnt/sonic/sims/SpEC/gcc/bfi/EccPrecDiff/Errors000.txt\n",
      "\tSearching in /mnt/sonic/sims/SpEC/gcc/bfi/EccPrecDiff/EccPrecDiff001\n",
      "\tSearching in /mnt/sonic/sims/SpEC/gcc/bfi/EccPrecDiff/EccPrecDiff003a\n",
      "\tSearching in /mnt/sonic/sims/SpEC/gcc/bfi/EccPrecDiff/EccPrecDiff004\n"
     ]
    }
   ],
   "source": [
    "se.search_simulations()"
   ]
  },
  {
   "cell_type": "code",
   "execution_count": 5,
   "metadata": {},
   "outputs": [
    {
     "data": {
      "text/plain": [
       "['eccprecrun4b',\n",
       " 'EccPrecDiff002',\n",
       " 'EccPrecDiff003',\n",
       " 'EccPrecDiff001',\n",
       " 'EccPrecDiff003a',\n",
       " 'EccPrecDiff004']"
      ]
     },
     "execution_count": 5,
     "metadata": {},
     "output_type": "execute_result"
    }
   ],
   "source": [
    "se.available_sim_names"
   ]
  },
  {
   "cell_type": "code",
   "execution_count": 6,
   "metadata": {},
   "outputs": [
    {
     "data": {
      "text/plain": [
       "{'eccprecrun4b': PosixPath('/mnt/sonic/sims/SpEC/gcc/bfi/EccPrecDiff/eccprecrun4b'),\n",
       " 'EccPrecDiff002': PosixPath('/mnt/sonic/sims/SpEC/gcc/bfi/EccPrecDiff/EccPrecDiff002'),\n",
       " 'EccPrecDiff003': PosixPath('/mnt/sonic/sims/SpEC/gcc/bfi/EccPrecDiff/EccPrecDiff003'),\n",
       " 'EccPrecDiff001': PosixPath('/mnt/sonic/sims/SpEC/gcc/bfi/EccPrecDiff/EccPrecDiff001'),\n",
       " 'EccPrecDiff003a': PosixPath('/mnt/sonic/sims/SpEC/gcc/bfi/EccPrecDiff/EccPrecDiff003a'),\n",
       " 'EccPrecDiff004': PosixPath('/mnt/sonic/sims/SpEC/gcc/bfi/EccPrecDiff/EccPrecDiff004')}"
      ]
     },
     "execution_count": 6,
     "metadata": {},
     "output_type": "execute_result"
    }
   ],
   "source": [
    "se.available_sim_paths"
   ]
  },
  {
   "cell_type": "code",
   "execution_count": 7,
   "metadata": {},
   "outputs": [
    {
     "name": "stdout",
     "output_type": "stream",
     "text": [
      "Loading segments in eccprecrun4b\n",
      "Available dirs ['Lev3_BG', 'ApparentHorizonFinders.input', 'Lev5_AC', 'Lev4_AM', 'Lev2_AQ', 'Lev3_BE', 'Lev5_AJ', 'EvolutionRingdown.input', 'Lev2_AR', 'Lev3_BL', 'GrSetupAndEvolutionRingdown.input', 'GrObservers.input', 'RefinementOptionHistory.input', 'Lev3_BH', 'Lev3_BC', 'Lev2_AL', 'Lev3_AV', 'Lev2_AN', 'Lev3_AL', 'Lev5_AI', 'DoMultipleRunsRingdown.input', 'Lev4_AQ', 'GrStateChangers.input', 'Lev4_AK', 'Lev3_BI', 'Lev4_AJ', 'Lev4_AP', 'Lev4_AF', 'Lev3_AG', 'Lev3_AX', 'Lev3_BD', 'Lev2_AE', 'Lev3_AE', 'Lev3_AI', 'Lev2_AB', 'HorizonsLev5.h5', 'Lev2_AJ', 'Evolution.input', 'Lev3_BB', 'Lev3_AD', 'Lev3_AA', 'Lev3_AP', 'Lev3_BK', 'Lev4_AC', 'Lev3_AS', 'Lev3_AB', 'Lev2_AH', 'Lev2_AA', 'GrInitialConditions.input', 'Lev5_AK', 'Lev5_AE', 'GrDomain.input', 'Lev3_AU', 'Lev2_AM', 'Lev3_AW', 'Lev3_AJ', 'Lev4_AO', 'AmrDriverRingdown.input', 'Lev3_Ringdown', 'Lev3_AK', 'Lev5_AL', 'StartJob.sh', 'Lev4_AN', 'Lev5_AB', 'Lev2_AO', 'GrDataBoxItemsRingdown.input', 'CombinedObservers.input', 'AmrDriver.input', 'Lev4_AB', 'Lev4_AI', 'Lev3_AQ', 'Lev3_AH', 'Lev5_AH', 'CombinedStateChangers.input', 'Lev2_AC', 'GrVolumeDumps.input', 'Lev3_BJ', 'HorizonsLev3.h5', 'HorizonsLev4.h5', 'Lev2_AF', 'bin', 'ApparentHorizonFindersRingdown.input', 'Lev3_AN', 'GrInitialConditionsRingdown.input', 'Lev3_AC', 'Lev2_AP', 'AmrTolerancesRingdown.input', 'GaugeItems.input', 'GrObserversRingdown.input', 'SpEC', 'Lev5_AG', 'Lev3_BF', 'Lev3_AM', 'AmrTolerances.input', 'Lev4_AL', 'Lev2_AG', 'Lev3_AR', 'Errors000.txt', 'HorizonsLev2.h5', 'Lev3_AF', 'Lev4_AE', 'SpatialCoordMap.input', 'ConstraintDampingRingdown.input', 'Lev2_AK', 'Lev3_AO', 'Lev5_AD', 'Lev3_BA', 'Lev5_AF', 'Lev3_AY', 'GrObservers.input.new', 'Lev4_AA', 'Lev2_AI', 'Lev3_AZ', 'Lev5_AM', 'Lev4_AG', 'Lev5_AN', 'GrDataBoxItems.input', 'waveforms_joined_lev3.h5', 'GrWaveExtraction.input', 'DoMultipleRuns.input', 'Lev3_AT', 'Lev4_AD', 'GrSetupAndEvolution.input', 'Lev4_AH', 'ConstraintDamping.input', 'GrBoundaryConditions.input', 'Lev5_AA', 'Lev2_AD']\n",
      "Available lev dirs ['Lev3_BG', 'Lev5_AC', 'Lev4_AM', 'Lev2_AQ', 'Lev3_BE', 'Lev5_AJ', 'Lev2_AR', 'Lev3_BL', 'Lev3_BH', 'Lev3_BC', 'Lev2_AL', 'Lev3_AV', 'Lev2_AN', 'Lev3_AL', 'Lev5_AI', 'Lev4_AQ', 'Lev4_AK', 'Lev3_BI', 'Lev4_AJ', 'Lev4_AP', 'Lev4_AF', 'Lev3_AG', 'Lev3_AX', 'Lev3_BD', 'Lev2_AE', 'Lev3_AE', 'Lev3_AI', 'Lev2_AB', 'Lev2_AJ', 'Lev3_BB', 'Lev3_AD', 'Lev3_AA', 'Lev3_AP', 'Lev3_BK', 'Lev4_AC', 'Lev3_AS', 'Lev3_AB', 'Lev2_AH', 'Lev2_AA', 'Lev5_AK', 'Lev5_AE', 'Lev3_AU', 'Lev2_AM', 'Lev3_AW', 'Lev3_AJ', 'Lev4_AO', 'Lev3_AK', 'Lev5_AL', 'Lev4_AN', 'Lev5_AB', 'Lev2_AO', 'Lev4_AB', 'Lev4_AI', 'Lev3_AQ', 'Lev3_AH', 'Lev5_AH', 'Lev2_AC', 'Lev3_BJ', 'Lev2_AF', 'Lev3_AN', 'Lev3_AC', 'Lev2_AP', 'Lev5_AG', 'Lev3_BF', 'Lev3_AM', 'Lev4_AL', 'Lev2_AG', 'Lev3_AR', 'Lev3_AF', 'Lev4_AE', 'Lev2_AK', 'Lev3_AO', 'Lev5_AD', 'Lev3_BA', 'Lev5_AF', 'Lev3_AY', 'Lev4_AA', 'Lev2_AI', 'Lev3_AZ', 'Lev5_AM', 'Lev4_AG', 'Lev5_AN', 'Lev3_AT', 'Lev4_AD', 'Lev4_AH', 'Lev5_AA', 'Lev2_AD']\n",
      "Available ringdown lev dirs ['Lev3_Ringdown']\n",
      "Available levs {2, 3, 4, 5}\n",
      "Available ringdown levs {3}\n",
      "Loading segments in EccPrecDiff002\n",
      "Available dirs ['Lev3_AX', 'AmrDriver.input', 'Lev2_AP', 'Lev3_BB', 'bin', 'Lev2_AF', 'SpEC', 'GrVolumeDumps.input', 'Lev3_AR', 'Lev3_AO', 'Lev3_BJ', 'ProhibitStartJobReruns.txt', 'Lev2_BA', 'Evolution.input', 'Lev3_BI', 'Lev3_AC', 'Lev3_AM', 'Lev2_AD', 'Lev3_AP', 'Lev3_AQ', 'Lev2_AT', 'AmrTolerancesRingdown.input', 'Lev2_AM', 'Lev2_AW', 'Lev2_AV', 'Lev3_AE', 'AmrDriverRingdown.input', 'Lev2_Ringdown', 'Lev2_BD', 'Lev3_BD', 'Lev3_AF', 'Lev2_BE', 'EvolutionRingdown.input', 'CombinedStateChangers.input', 'Lev2_AB', 'Lev3_AW', 'Lev3_BF', 'Lev2_AO', 'ApparentHorizonFinders.input', 'Lev3_AU', 'GrDataBoxItems.input', 'Lev3_BE', 'Lev2_AI', 'GrBoundaryConditions.input', 'Lev2_AL', 'Lev3_AK', 'GrSetupAndEvolutionRingdown.input', 'Lev2_AH', 'Lev2_AX', 'Lev3_AV', 'Lev3_BA', 'Lev2_AR', 'Lev3_AD', 'Lev3_AH', 'Lev3_AJ', 'Lev2_AK', 'Lev2_BB', 'Lev3_AB', 'PBandJ_StartJob.sh', 'SpatialCoordMap.input', 'ConstraintDampingRingdown.input', 'GrObserversRingdown.input', 'Lev2_AZ', 'Lev2_AJ', 'Lev2_AS', 'GrObservers.input.new', 'CombinedObservers.input', 'GrDomain.input', 'Lev3_AA', 'StartJob.sh', 'Lev2_AU', 'GrInitialConditions.input', 'Lev2_AN', 'Lev2_AA', 'Lev2_BC', 'Lev3_AY', 'Lev2_AC', 'GrInitialConditionsRingdown.input', 'RefinementOptionHistory.input', 'GaugeItems.input', 'Lev2_AG', 'Lev3_AZ', 'Lev3_AT', 'Lev2_AE', 'Lev3_AL', 'Lev2_AQ', 'Lev2_AY', 'GrObservers.input', 'Lev3_AG', 'GrStateChangers.input', 'Lev3_AN', 'Lev3_BC', 'AmrTolerances.input', 'GrDataBoxItemsRingdown.input', 'Lev3_Ringdown', 'ConstraintDamping.input', 'Lev3_BG', 'Lev3_BH', 'GrWaveExtraction.input', 'ApparentHorizonFindersRingdown.input', 'DoMultipleRunsRingdown.input', 'Lev3_AI', 'GrSetupAndEvolution.input', 'Lev3_AS', 'DoMultipleRuns.input']\n",
      "Available lev dirs ['Lev3_AX', 'Lev2_AP', 'Lev3_BB', 'Lev2_AF', 'Lev3_AR', 'Lev3_AO', 'Lev3_BJ', 'Lev2_BA', 'Lev3_BI', 'Lev3_AC', 'Lev3_AM', 'Lev2_AD', 'Lev3_AP', 'Lev3_AQ', 'Lev2_AT', 'Lev2_AM', 'Lev2_AW', 'Lev2_AV', 'Lev3_AE', 'Lev2_BD', 'Lev3_BD', 'Lev3_AF', 'Lev2_BE', 'Lev2_AB', 'Lev3_AW', 'Lev3_BF', 'Lev2_AO', 'Lev3_AU', 'Lev3_BE', 'Lev2_AI', 'Lev2_AL', 'Lev3_AK', 'Lev2_AH', 'Lev2_AX', 'Lev3_AV', 'Lev3_BA', 'Lev2_AR', 'Lev3_AD', 'Lev3_AH', 'Lev3_AJ', 'Lev2_AK', 'Lev2_BB', 'Lev3_AB', 'Lev2_AZ', 'Lev2_AJ', 'Lev2_AS', 'Lev3_AA', 'Lev2_AU', 'Lev2_AN', 'Lev2_AA', 'Lev2_BC', 'Lev3_AY', 'Lev2_AC', 'Lev2_AG', 'Lev3_AZ', 'Lev3_AT', 'Lev2_AE', 'Lev3_AL', 'Lev2_AQ', 'Lev2_AY', 'Lev3_AG', 'Lev3_AN', 'Lev3_BC', 'Lev3_BG', 'Lev3_BH', 'Lev3_AI', 'Lev3_AS']\n",
      "Available ringdown lev dirs ['Lev2_Ringdown', 'Lev3_Ringdown']\n",
      "Available levs {2, 3}\n",
      "Available ringdown levs {2, 3}\n",
      "Loading segments in EccPrecDiff003\n",
      "Available dirs ['Lev3_AD', 'GrDataBoxItems.input', 'GrStateChangers.input', 'ConstraintDamping.input', 'GrObservers.input.new', 'bin', 'AmrTolerancesRingdown.input', 'SpatialCoordMap.input', 'AmrTolerances.input', 'ConstraintDampingRingdown.input', 'GrInitialConditionsRingdown.input', 'GrDomain.input', 'GrBoundaryConditions.input', 'GrObservers.input', 'GrVolumeDumps.input', 'DoMultipleRuns.input', 'GrSetupAndEvolution.input', 'GaugeItems.input', 'GrObserversRingdown.input', 'Lev3_AE', 'RefinementOptionHistory.input', 'Lev3_AC', 'SpEC', 'ApparentHorizonFinders.input', 'DoMultipleRunsRingdown.input', 'Lev3_AA', 'AmrDriverRingdown.input', 'EvolutionRingdown.input', 'Lev3_AB', 'AmrDriver.input', 'GrWaveExtraction.input', 'GrInitialConditions.input', 'Evolution.input', 'CombinedStateChangers.input', 'GrSetupAndEvolutionRingdown.input', 'ApparentHorizonFindersRingdown.input', 'StartJob.sh', 'GrDataBoxItemsRingdown.input', 'CombinedObservers.input']\n",
      "Available lev dirs ['Lev3_AD', 'Lev3_AE', 'Lev3_AC', 'Lev3_AA', 'Lev3_AB']\n",
      "Available ringdown lev dirs []\n",
      "Available levs {3}\n",
      "Available ringdown levs set()\n",
      "Loading segments in EccPrecDiff001\n",
      "Available dirs ['AmrDriver.input', 'Lev4_AB', 'Lev2_AP', 'bin', 'Lev2_AF', 'SpEC', 'GrVolumeDumps.input', 'ProhibitStartJobReruns.txt', 'Lev2_BA', 'Evolution.input', 'Lev3_AC', 'Lev2_AD', 'Lev2_AT', 'AmrTolerancesRingdown.input', 'Lev2_AM', 'Lev2_AW', 'Lev2_AV', 'Lev3_AE', 'AmrDriverRingdown.input', 'Lev2_Ringdown', 'Lev3_AF', 'EvolutionRingdown.input', 'CombinedStateChangers.input', 'Lev2_AB', 'Lev2_AO', 'ApparentHorizonFinders.input', 'GrDataBoxItems.input', 'Lev2_AI', 'GrBoundaryConditions.input', 'Lev2_AL', 'Lev3_AK', 'GrSetupAndEvolutionRingdown.input', 'Lev2_AH', 'Lev2_AX', 'Lev2_AR', 'Lev3_AD', 'Lev3_AH', 'Lev3_AJ', 'Lev2_AK', 'Lev2_BB', 'Lev3_AB', 'PBandJ_StartJob.sh', 'SpatialCoordMap.input', 'ConstraintDampingRingdown.input', 'GrObserversRingdown.input', 'Lev4_AC', 'Lev2_AZ', 'Lev2_AJ', 'Lev2_AS', 'GrObservers.input.new', 'CombinedObservers.input', 'GrDomain.input', 'Lev4_AA', 'Lev3_AA', 'StartJob.sh', 'Lev2_AU', 'GrInitialConditions.input', 'Lev2_AN', 'Lev2_AA', 'Lev2_BC', 'Lev2_AC', 'GrInitialConditionsRingdown.input', 'RefinementOptionHistory.input', 'GaugeItems.input', 'Lev2_AG', 'Lev2_AE', 'Lev3_AL', 'Lev2_AQ', 'Lev2_AY', 'GrObservers.input', 'Lev3_AG', 'GrStateChangers.input', 'AmrTolerances.input', 'GrDataBoxItemsRingdown.input', 'ConstraintDamping.input', 'GrWaveExtraction.input', 'ApparentHorizonFindersRingdown.input', 'DoMultipleRunsRingdown.input', 'Lev3_AI', 'GrSetupAndEvolution.input', 'Lev4_AD', 'DoMultipleRuns.input']\n",
      "Available lev dirs ['Lev4_AB', 'Lev2_AP', 'Lev2_AF', 'Lev2_BA', 'Lev3_AC', 'Lev2_AD', 'Lev2_AT', 'Lev2_AM', 'Lev2_AW', 'Lev2_AV', 'Lev3_AE', 'Lev3_AF', 'Lev2_AB', 'Lev2_AO', 'Lev2_AI', 'Lev2_AL', 'Lev3_AK', 'Lev2_AH', 'Lev2_AX', 'Lev2_AR', 'Lev3_AD', 'Lev3_AH', 'Lev3_AJ', 'Lev2_AK', 'Lev2_BB', 'Lev3_AB', 'Lev4_AC', 'Lev2_AZ', 'Lev2_AJ', 'Lev2_AS', 'Lev4_AA', 'Lev3_AA', 'Lev2_AU', 'Lev2_AN', 'Lev2_AA', 'Lev2_BC', 'Lev2_AC', 'Lev2_AG', 'Lev2_AE', 'Lev3_AL', 'Lev2_AQ', 'Lev2_AY', 'Lev3_AG', 'Lev3_AI', 'Lev4_AD']\n",
      "Available ringdown lev dirs ['Lev2_Ringdown']\n",
      "Available levs {2, 3, 4}\n",
      "Available ringdown levs {2}\n",
      "Loading segments in EccPrecDiff003a\n",
      "Available dirs ['AmrDriver.input', 'Lev4_AB', 'bin', 'Lev2_AF', 'SpEC', 'GrVolumeDumps.input', 'Evolution.input', 'Lev3_AC', 'Lev2_AD', 'AmrTolerancesRingdown.input', 'Lev3_AE', 'AmrDriverRingdown.input', 'Lev3_AF', 'EvolutionRingdown.input', 'CombinedStateChangers.input', 'Lev2_AB', 'ApparentHorizonFinders.input', 'GrDataBoxItems.input', 'GrBoundaryConditions.input', 'GrSetupAndEvolutionRingdown.input', 'Lev3_AD', 'Lev3_AB', 'SpatialCoordMap.input', 'ConstraintDampingRingdown.input', 'GrObserversRingdown.input', 'Lev4_AC', 'GrObservers.input.new', 'CombinedObservers.input', 'GrDomain.input', 'Lev4_AA', 'Lev3_AA', 'StartJob.sh', 'GrInitialConditions.input', 'Lev2_AA', 'Lev2_AC', 'GrInitialConditionsRingdown.input', 'RefinementOptionHistory.input', 'GaugeItems.input', 'Lev2_AG', 'Lev2_AE', 'GrObservers.input', 'Lev3_AG', 'GrStateChangers.input', 'AmrTolerances.input', 'GrDataBoxItemsRingdown.input', 'ConstraintDamping.input', 'GrWaveExtraction.input', 'ApparentHorizonFindersRingdown.input', 'DoMultipleRunsRingdown.input', 'GrSetupAndEvolution.input', 'Lev4_AD', 'Lev4_AF', 'Lev4_AE', 'Lev4_AG', 'DoMultipleRuns.input']\n",
      "Available lev dirs ['Lev4_AB', 'Lev2_AF', 'Lev3_AC', 'Lev2_AD', 'Lev3_AE', 'Lev3_AF', 'Lev2_AB', 'Lev3_AD', 'Lev3_AB', 'Lev4_AC', 'Lev4_AA', 'Lev3_AA', 'Lev2_AA', 'Lev2_AC', 'Lev2_AG', 'Lev2_AE', 'Lev3_AG', 'Lev4_AD', 'Lev4_AF', 'Lev4_AE', 'Lev4_AG']\n",
      "Available ringdown lev dirs []\n",
      "Available levs {2, 3, 4}\n",
      "Available ringdown levs set()\n",
      "Loading segments in EccPrecDiff004\n",
      "Available dirs ['GrDataBoxItems.input', 'GrStateChangers.input', 'ConstraintDamping.input', 'GrObservers.input.new', 'bin', 'AmrTolerancesRingdown.input', 'SpatialCoordMap.input', 'AmrTolerances.input', 'ConstraintDampingRingdown.input', 'GrInitialConditionsRingdown.input', 'GrDomain.input', 'GrBoundaryConditions.input', 'GrObservers.input', 'GrVolumeDumps.input', 'DoMultipleRuns.input', 'GrSetupAndEvolution.input', 'GaugeItems.input', 'GrObserversRingdown.input', 'RefinementOptionHistory.input', 'SpEC', 'ApparentHorizonFinders.input', 'DoMultipleRunsRingdown.input', 'AmrDriverRingdown.input', 'EvolutionRingdown.input', 'AmrDriver.input', 'GrWaveExtraction.input', 'GrInitialConditions.input', 'Evolution.input', 'CombinedStateChangers.input', 'GrSetupAndEvolutionRingdown.input', 'ApparentHorizonFindersRingdown.input', 'StartJob.sh', 'GrDataBoxItemsRingdown.input', 'CombinedObservers.input']\n",
      "Available lev dirs []\n",
      "Available ringdown lev dirs []\n",
      "Available levs set()\n",
      "Available ringdown levs set()\n"
     ]
    }
   ],
   "source": [
    "se.discover_segments()"
   ]
  },
  {
   "cell_type": "code",
   "execution_count": 8,
   "metadata": {},
   "outputs": [],
   "source": [
    "se.discover_levels()"
   ]
  },
  {
   "cell_type": "code",
   "execution_count": 9,
   "metadata": {},
   "outputs": [
    {
     "data": {
      "text/plain": [
       "{'eccprecrun4b': [2, 3, 4, 5],\n",
       " 'EccPrecDiff002': [2, 3],\n",
       " 'EccPrecDiff003': [3],\n",
       " 'EccPrecDiff001': [2, 3, 4],\n",
       " 'EccPrecDiff003a': [2, 3, 4],\n",
       " 'EccPrecDiff004': []}"
      ]
     },
     "execution_count": 9,
     "metadata": {},
     "output_type": "execute_result"
    }
   ],
   "source": [
    "se.available_sim_levs"
   ]
  },
  {
   "cell_type": "code",
   "execution_count": 10,
   "metadata": {},
   "outputs": [
    {
     "name": "stdout",
     "output_type": "stream",
     "text": [
      "'SimulationExplorer' object has no attribute '_all_sim_params' Data not loaded\n"
     ]
    }
   ],
   "source": [
    "se.delete_empty_sims()"
   ]
  },
  {
   "cell_type": "code",
   "execution_count": 11,
   "metadata": {},
   "outputs": [
    {
     "data": {
      "text/plain": [
       "{'eccprecrun4b': [2, 3, 4, 5],\n",
       " 'EccPrecDiff002': [2, 3],\n",
       " 'EccPrecDiff003': [3],\n",
       " 'EccPrecDiff001': [2, 3, 4],\n",
       " 'EccPrecDiff003a': [2, 3, 4]}"
      ]
     },
     "execution_count": 11,
     "metadata": {},
     "output_type": "execute_result"
    }
   ],
   "source": [
    "se.available_sim_levs"
   ]
  },
  {
   "cell_type": "code",
   "execution_count": 12,
   "metadata": {},
   "outputs": [
    {
     "data": {
      "text/plain": [
       "['Ecc0']"
      ]
     },
     "execution_count": 12,
     "metadata": {},
     "output_type": "execute_result"
    }
   ],
   "source": [
    "se.get_ecc_dirs(se.available_sim_paths['EccPrecDiff002'])"
   ]
  },
  {
   "cell_type": "code",
   "execution_count": 13,
   "metadata": {},
   "outputs": [
    {
     "name": "stdout",
     "output_type": "stream",
     "text": [
      "Parsing simulation parameters.input file for /mnt/sonic/sims/SpEC/gcc/bfi/EccPrecDiff/eccprecrun4b/Ecc0/Params.input\n",
      "Parsing simulation parameters.input file for /mnt/sonic/sims/SpEC/gcc/bfi/EccPrecDiff/EccPrecDiff002/Ecc0/Params.input\n",
      "Parsing simulation parameters.input file for /mnt/sonic/sims/SpEC/gcc/bfi/EccPrecDiff/EccPrecDiff003/Ecc0/Params.input\n"
     ]
    },
    {
     "name": "stdout",
     "output_type": "stream",
     "text": [
      "Parsing simulation parameters.input file for /mnt/sonic/sims/SpEC/gcc/bfi/EccPrecDiff/EccPrecDiff001/Ecc0/Params.input\n",
      "Parsing simulation parameters.input file for /mnt/sonic/sims/SpEC/gcc/bfi/EccPrecDiff/EccPrecDiff003a/Ecc0/Params.input\n",
      "fresults ['RunID=001', 'ZwickyDays=0', 'SemiMajorAxis=18', 'Eccentricity=0.1', 'AnomalyAngle=0.0', 'ReferenceTime=0']\n",
      "fresults ['RunID=002', 'ZwickyDays=0', 'SemiMajorAxis=9', 'Eccentricity=0.1', 'AnomalyAngle=0.0', 'ReferenceTime=0']\n",
      "fresults ['RunID=003', 'ZwickyDays=0', 'SemiMajorAxis=11', 'Eccentricity=0.25', 'AnomalyAngle=0.0', 'ReferenceTime=0']\n",
      "fresults ['RunID=004', 'ZwickyDays=0', 'SemiMajorAxis=18', 'Eccentricity=0.25', 'AnomalyAngle=0.0', 'ReferenceTime=0']\n",
      "Loading segments in eccprecrun4b\n",
      "Available dirs ['Lev3_BG', 'ApparentHorizonFinders.input', 'Lev5_AC', 'Lev4_AM', 'Lev2_AQ', 'Lev3_BE', 'Lev5_AJ', 'EvolutionRingdown.input', 'Lev2_AR', 'Lev3_BL', 'GrSetupAndEvolutionRingdown.input', 'GrObservers.input', 'RefinementOptionHistory.input', 'Lev3_BH', 'Lev3_BC', 'Lev2_AL', 'Lev3_AV', 'Lev2_AN', 'Lev3_AL', 'Lev5_AI', 'DoMultipleRunsRingdown.input', 'Lev4_AQ', 'GrStateChangers.input', 'Lev4_AK', 'Lev3_BI', 'Lev4_AJ', 'Lev4_AP', 'Lev4_AF', 'Lev3_AG', 'Lev3_AX', 'Lev3_BD', 'Lev2_AE', 'Lev3_AE', 'Lev3_AI', 'Lev2_AB', 'HorizonsLev5.h5', 'Lev2_AJ', 'Evolution.input', 'Lev3_BB', 'Lev3_AD', 'Lev3_AA', 'Lev3_AP', 'Lev3_BK', 'Lev4_AC', 'Lev3_AS', 'Lev3_AB', 'Lev2_AH', 'Lev2_AA', 'GrInitialConditions.input', 'Lev5_AK', 'Lev5_AE', 'GrDomain.input', 'Lev3_AU', 'Lev2_AM', 'Lev3_AW', 'Lev3_AJ', 'Lev4_AO', 'AmrDriverRingdown.input', 'Lev3_Ringdown', 'Lev3_AK', 'Lev5_AL', 'StartJob.sh', 'Lev4_AN', 'Lev5_AB', 'Lev2_AO', 'GrDataBoxItemsRingdown.input', 'CombinedObservers.input', 'AmrDriver.input', 'Lev4_AB', 'Lev4_AI', 'Lev3_AQ', 'Lev3_AH', 'Lev5_AH', 'CombinedStateChangers.input', 'Lev2_AC', 'GrVolumeDumps.input', 'Lev3_BJ', 'HorizonsLev3.h5', 'HorizonsLev4.h5', 'Lev2_AF', 'bin', 'ApparentHorizonFindersRingdown.input', 'Lev3_AN', 'GrInitialConditionsRingdown.input', 'Lev3_AC', 'Lev2_AP', 'AmrTolerancesRingdown.input', 'GaugeItems.input', 'GrObserversRingdown.input', 'SpEC', 'Lev5_AG', 'Lev3_BF', 'Lev3_AM', 'AmrTolerances.input', 'Lev4_AL', 'Lev2_AG', 'Lev3_AR', 'Errors000.txt', 'HorizonsLev2.h5', 'Lev3_AF', 'Lev4_AE', 'SpatialCoordMap.input', 'ConstraintDampingRingdown.input', 'Lev2_AK', 'Lev3_AO', 'Lev5_AD', 'Lev3_BA', 'Lev5_AF', 'Lev3_AY', 'GrObservers.input.new', 'Lev4_AA', 'Lev2_AI', 'Lev3_AZ', 'Lev5_AM', 'Lev4_AG', 'Lev5_AN', 'GrDataBoxItems.input', 'waveforms_joined_lev3.h5', 'GrWaveExtraction.input', 'DoMultipleRuns.input', 'Lev3_AT', 'Lev4_AD', 'GrSetupAndEvolution.input', 'Lev4_AH', 'ConstraintDamping.input', 'GrBoundaryConditions.input', 'Lev5_AA', 'Lev2_AD']\n",
      "Available lev dirs ['Lev3_BG', 'Lev5_AC', 'Lev4_AM', 'Lev2_AQ', 'Lev3_BE', 'Lev5_AJ', 'Lev2_AR', 'Lev3_BL', 'Lev3_BH', 'Lev3_BC', 'Lev2_AL', 'Lev3_AV', 'Lev2_AN', 'Lev3_AL', 'Lev5_AI', 'Lev4_AQ', 'Lev4_AK', 'Lev3_BI', 'Lev4_AJ', 'Lev4_AP', 'Lev4_AF', 'Lev3_AG', 'Lev3_AX', 'Lev3_BD', 'Lev2_AE', 'Lev3_AE', 'Lev3_AI', 'Lev2_AB', 'Lev2_AJ', 'Lev3_BB', 'Lev3_AD', 'Lev3_AA', 'Lev3_AP', 'Lev3_BK', 'Lev4_AC', 'Lev3_AS', 'Lev3_AB', 'Lev2_AH', 'Lev2_AA', 'Lev5_AK', 'Lev5_AE', 'Lev3_AU', 'Lev2_AM', 'Lev3_AW', 'Lev3_AJ', 'Lev4_AO', 'Lev3_AK', 'Lev5_AL', 'Lev4_AN', 'Lev5_AB', 'Lev2_AO', 'Lev4_AB', 'Lev4_AI', 'Lev3_AQ', 'Lev3_AH', 'Lev5_AH', 'Lev2_AC', 'Lev3_BJ', 'Lev2_AF', 'Lev3_AN', 'Lev3_AC', 'Lev2_AP', 'Lev5_AG', 'Lev3_BF', 'Lev3_AM', 'Lev4_AL', 'Lev2_AG', 'Lev3_AR', 'Lev3_AF', 'Lev4_AE', 'Lev2_AK', 'Lev3_AO', 'Lev5_AD', 'Lev3_BA', 'Lev5_AF', 'Lev3_AY', 'Lev4_AA', 'Lev2_AI', 'Lev3_AZ', 'Lev5_AM', 'Lev4_AG', 'Lev5_AN', 'Lev3_AT', 'Lev4_AD', 'Lev4_AH', 'Lev5_AA', 'Lev2_AD']\n",
      "Available ringdown lev dirs ['Lev3_Ringdown']\n",
      "Available levs {2, 3, 4, 5}\n",
      "Available ringdown levs {3}\n",
      "Loading segments in EccPrecDiff002\n",
      "Available dirs ['Lev3_AX', 'AmrDriver.input', 'Lev2_AP', 'Lev3_BB', 'bin', 'Lev2_AF', 'SpEC', 'GrVolumeDumps.input', 'Lev3_AR', 'Lev3_AO', 'Lev3_BJ', 'ProhibitStartJobReruns.txt', 'Lev2_BA', 'Evolution.input', 'Lev3_BI', 'Lev3_AC', 'Lev3_AM', 'Lev2_AD', 'Lev3_AP', 'Lev3_AQ', 'Lev2_AT', 'AmrTolerancesRingdown.input', 'Lev2_AM', 'Lev2_AW', 'Lev2_AV', 'Lev3_AE', 'AmrDriverRingdown.input', 'Lev2_Ringdown', 'Lev2_BD', 'Lev3_BD', 'Lev3_AF', 'Lev2_BE', 'EvolutionRingdown.input', 'CombinedStateChangers.input', 'Lev2_AB', 'Lev3_AW', 'Lev3_BF', 'Lev2_AO', 'ApparentHorizonFinders.input', 'Lev3_AU', 'GrDataBoxItems.input', 'Lev3_BE', 'Lev2_AI', 'GrBoundaryConditions.input', 'Lev2_AL', 'Lev3_AK', 'GrSetupAndEvolutionRingdown.input', 'Lev2_AH', 'Lev2_AX', 'Lev3_AV', 'Lev3_BA', 'Lev2_AR', 'Lev3_AD', 'Lev3_AH', 'Lev3_AJ', 'Lev2_AK', 'Lev2_BB', 'Lev3_AB', 'PBandJ_StartJob.sh', 'SpatialCoordMap.input', 'ConstraintDampingRingdown.input', 'GrObserversRingdown.input', 'Lev2_AZ', 'Lev2_AJ', 'Lev2_AS', 'GrObservers.input.new', 'CombinedObservers.input', 'GrDomain.input', 'Lev3_AA', 'StartJob.sh', 'Lev2_AU', 'GrInitialConditions.input', 'Lev2_AN', 'Lev2_AA', 'Lev2_BC', 'Lev3_AY', 'Lev2_AC', 'GrInitialConditionsRingdown.input', 'RefinementOptionHistory.input', 'GaugeItems.input', 'Lev2_AG', 'Lev3_AZ', 'Lev3_AT', 'Lev2_AE', 'Lev3_AL', 'Lev2_AQ', 'Lev2_AY', 'GrObservers.input', 'Lev3_AG', 'GrStateChangers.input', 'Lev3_AN', 'Lev3_BC', 'AmrTolerances.input', 'GrDataBoxItemsRingdown.input', 'Lev3_Ringdown', 'ConstraintDamping.input', 'Lev3_BG', 'Lev3_BH', 'GrWaveExtraction.input', 'ApparentHorizonFindersRingdown.input', 'DoMultipleRunsRingdown.input', 'Lev3_AI', 'GrSetupAndEvolution.input', 'Lev3_AS', 'DoMultipleRuns.input']\n",
      "Available lev dirs ['Lev3_AX', 'Lev2_AP', 'Lev3_BB', 'Lev2_AF', 'Lev3_AR', 'Lev3_AO', 'Lev3_BJ', 'Lev2_BA', 'Lev3_BI', 'Lev3_AC', 'Lev3_AM', 'Lev2_AD', 'Lev3_AP', 'Lev3_AQ', 'Lev2_AT', 'Lev2_AM', 'Lev2_AW', 'Lev2_AV', 'Lev3_AE', 'Lev2_BD', 'Lev3_BD', 'Lev3_AF', 'Lev2_BE', 'Lev2_AB', 'Lev3_AW', 'Lev3_BF', 'Lev2_AO', 'Lev3_AU', 'Lev3_BE', 'Lev2_AI', 'Lev2_AL', 'Lev3_AK', 'Lev2_AH', 'Lev2_AX', 'Lev3_AV', 'Lev3_BA', 'Lev2_AR', 'Lev3_AD', 'Lev3_AH', 'Lev3_AJ', 'Lev2_AK', 'Lev2_BB', 'Lev3_AB', 'Lev2_AZ', 'Lev2_AJ', 'Lev2_AS', 'Lev3_AA', 'Lev2_AU', 'Lev2_AN', 'Lev2_AA', 'Lev2_BC', 'Lev3_AY', 'Lev2_AC', 'Lev2_AG', 'Lev3_AZ', 'Lev3_AT', 'Lev2_AE', 'Lev3_AL', 'Lev2_AQ', 'Lev2_AY', 'Lev3_AG', 'Lev3_AN', 'Lev3_BC', 'Lev3_BG', 'Lev3_BH', 'Lev3_AI', 'Lev3_AS']\n",
      "Available ringdown lev dirs ['Lev2_Ringdown', 'Lev3_Ringdown']\n",
      "Available levs {2, 3}\n",
      "Available ringdown levs {2, 3}\n",
      "Loading segments in EccPrecDiff003\n",
      "Available dirs ['Lev3_AD', 'GrDataBoxItems.input', 'GrStateChangers.input', 'ConstraintDamping.input', 'GrObservers.input.new', 'bin', 'AmrTolerancesRingdown.input', 'SpatialCoordMap.input', 'AmrTolerances.input', 'ConstraintDampingRingdown.input', 'GrInitialConditionsRingdown.input', 'GrDomain.input', 'GrBoundaryConditions.input', 'GrObservers.input', 'GrVolumeDumps.input', 'DoMultipleRuns.input', 'GrSetupAndEvolution.input', 'GaugeItems.input', 'GrObserversRingdown.input', 'Lev3_AE', 'RefinementOptionHistory.input', 'Lev3_AC', 'SpEC', 'ApparentHorizonFinders.input', 'DoMultipleRunsRingdown.input', 'Lev3_AA', 'AmrDriverRingdown.input', 'EvolutionRingdown.input', 'Lev3_AB', 'AmrDriver.input', 'GrWaveExtraction.input', 'GrInitialConditions.input', 'Evolution.input', 'CombinedStateChangers.input', 'GrSetupAndEvolutionRingdown.input', 'ApparentHorizonFindersRingdown.input', 'StartJob.sh', 'GrDataBoxItemsRingdown.input', 'CombinedObservers.input']\n",
      "Available lev dirs ['Lev3_AD', 'Lev3_AE', 'Lev3_AC', 'Lev3_AA', 'Lev3_AB']\n",
      "Available ringdown lev dirs []\n",
      "Available levs {3}\n",
      "Available ringdown levs set()\n",
      "Loading segments in EccPrecDiff001\n",
      "Available dirs ['AmrDriver.input', 'Lev4_AB', 'Lev2_AP', 'bin', 'Lev2_AF', 'SpEC', 'GrVolumeDumps.input', 'ProhibitStartJobReruns.txt', 'Lev2_BA', 'Evolution.input', 'Lev3_AC', 'Lev2_AD', 'Lev2_AT', 'AmrTolerancesRingdown.input', 'Lev2_AM', 'Lev2_AW', 'Lev2_AV', 'Lev3_AE', 'AmrDriverRingdown.input', 'Lev2_Ringdown', 'Lev3_AF', 'EvolutionRingdown.input', 'CombinedStateChangers.input', 'Lev2_AB', 'Lev2_AO', 'ApparentHorizonFinders.input', 'GrDataBoxItems.input', 'Lev2_AI', 'GrBoundaryConditions.input', 'Lev2_AL', 'Lev3_AK', 'GrSetupAndEvolutionRingdown.input', 'Lev2_AH', 'Lev2_AX', 'Lev2_AR', 'Lev3_AD', 'Lev3_AH', 'Lev3_AJ', 'Lev2_AK', 'Lev2_BB', 'Lev3_AB', 'PBandJ_StartJob.sh', 'SpatialCoordMap.input', 'ConstraintDampingRingdown.input', 'GrObserversRingdown.input', 'Lev4_AC', 'Lev2_AZ', 'Lev2_AJ', 'Lev2_AS', 'GrObservers.input.new', 'CombinedObservers.input', 'GrDomain.input', 'Lev4_AA', 'Lev3_AA', 'StartJob.sh', 'Lev2_AU', 'GrInitialConditions.input', 'Lev2_AN', 'Lev2_AA', 'Lev2_BC', 'Lev2_AC', 'GrInitialConditionsRingdown.input', 'RefinementOptionHistory.input', 'GaugeItems.input', 'Lev2_AG', 'Lev2_AE', 'Lev3_AL', 'Lev2_AQ', 'Lev2_AY', 'GrObservers.input', 'Lev3_AG', 'GrStateChangers.input', 'AmrTolerances.input', 'GrDataBoxItemsRingdown.input', 'ConstraintDamping.input', 'GrWaveExtraction.input', 'ApparentHorizonFindersRingdown.input', 'DoMultipleRunsRingdown.input', 'Lev3_AI', 'GrSetupAndEvolution.input', 'Lev4_AD', 'DoMultipleRuns.input']\n",
      "Available lev dirs ['Lev4_AB', 'Lev2_AP', 'Lev2_AF', 'Lev2_BA', 'Lev3_AC', 'Lev2_AD', 'Lev2_AT', 'Lev2_AM', 'Lev2_AW', 'Lev2_AV', 'Lev3_AE', 'Lev3_AF', 'Lev2_AB', 'Lev2_AO', 'Lev2_AI', 'Lev2_AL', 'Lev3_AK', 'Lev2_AH', 'Lev2_AX', 'Lev2_AR', 'Lev3_AD', 'Lev3_AH', 'Lev3_AJ', 'Lev2_AK', 'Lev2_BB', 'Lev3_AB', 'Lev4_AC', 'Lev2_AZ', 'Lev2_AJ', 'Lev2_AS', 'Lev4_AA', 'Lev3_AA', 'Lev2_AU', 'Lev2_AN', 'Lev2_AA', 'Lev2_BC', 'Lev2_AC', 'Lev2_AG', 'Lev2_AE', 'Lev3_AL', 'Lev2_AQ', 'Lev2_AY', 'Lev3_AG', 'Lev3_AI', 'Lev4_AD']\n",
      "Available ringdown lev dirs ['Lev2_Ringdown']\n",
      "Available levs {2, 3, 4}\n",
      "Available ringdown levs {2}\n",
      "Loading segments in EccPrecDiff003a\n",
      "Available dirs ['AmrDriver.input', 'Lev4_AB', 'bin', 'Lev2_AF', 'SpEC', 'GrVolumeDumps.input', 'Evolution.input', 'Lev3_AC', 'Lev2_AD', 'AmrTolerancesRingdown.input', 'Lev3_AE', 'AmrDriverRingdown.input', 'Lev3_AF', 'EvolutionRingdown.input', 'CombinedStateChangers.input', 'Lev2_AB', 'ApparentHorizonFinders.input', 'GrDataBoxItems.input', 'GrBoundaryConditions.input', 'GrSetupAndEvolutionRingdown.input', 'Lev3_AD', 'Lev3_AB', 'SpatialCoordMap.input', 'ConstraintDampingRingdown.input', 'GrObserversRingdown.input', 'Lev4_AC', 'GrObservers.input.new', 'CombinedObservers.input', 'GrDomain.input', 'Lev4_AA', 'Lev3_AA', 'StartJob.sh', 'GrInitialConditions.input', 'Lev2_AA', 'Lev2_AC', 'GrInitialConditionsRingdown.input', 'RefinementOptionHistory.input', 'GaugeItems.input', 'Lev2_AG', 'Lev2_AE', 'GrObservers.input', 'Lev3_AG', 'GrStateChangers.input', 'AmrTolerances.input', 'GrDataBoxItemsRingdown.input', 'ConstraintDamping.input', 'GrWaveExtraction.input', 'ApparentHorizonFindersRingdown.input', 'DoMultipleRunsRingdown.input', 'GrSetupAndEvolution.input', 'Lev4_AD', 'Lev4_AF', 'Lev4_AE', 'Lev4_AG', 'DoMultipleRuns.input']\n",
      "Available lev dirs ['Lev4_AB', 'Lev2_AF', 'Lev3_AC', 'Lev2_AD', 'Lev3_AE', 'Lev3_AF', 'Lev2_AB', 'Lev3_AD', 'Lev3_AB', 'Lev4_AC', 'Lev4_AA', 'Lev3_AA', 'Lev2_AA', 'Lev2_AC', 'Lev2_AG', 'Lev2_AE', 'Lev3_AG', 'Lev4_AD', 'Lev4_AF', 'Lev4_AE', 'Lev4_AG']\n",
      "Available ringdown lev dirs []\n",
      "Available levs {2, 3, 4}\n",
      "Available ringdown levs set()\n",
      "Fetching last segment for sim eccprecrun4b, lev2\n",
      "Lines from SpEC.out ['You may or may not see output from other processes, depending on\\n', 'exactly when Open MPI kills them.\\n', '--------------------------------------------------------------------------\\n']\n",
      "Checking if the sim is running...\n"
     ]
    },
    {
     "name": "stderr",
     "output_type": "stream",
     "text": [
      "/bin/sh: line 1: squeue: command not found\n"
     ]
    },
    {
     "name": "stdout",
     "output_type": "stream",
     "text": [
      "Running jobs  []\n",
      "sim job id 9260\n",
      "Segment runnint 2 False\n",
      "Error files ['Errors000.txt']\n",
      "Fetching last segment for sim eccprecrun4b, lev3\n",
      "Lines from SpEC.out ['t=20908 , step=24849, T=73.5sec, dt/dT=32.8/h, d(CPU-h)/dt=1.4619CPU-h/M\\n', 't=20908 , CpuUsage 3099  CPU-h, 21.8h startup, 3.26h 1st step, CPU-h/t=0.15\\n', 'Termination condition FinalTime\\n']\n",
      "Checking if the sim is running...\n"
     ]
    },
    {
     "name": "stderr",
     "output_type": "stream",
     "text": [
      "/bin/sh: line 1: squeue: command not found\n"
     ]
    },
    {
     "name": "stdout",
     "output_type": "stream",
     "text": [
      "Running jobs  []\n",
      "sim job id 8896\n",
      "Segment runnint 2 False\n",
      "Error files []\n",
      "Sim status is unknown\n",
      "Fetching last segment for sim eccprecrun4b, lev4\n",
      "Lines from SpEC.out ['t=10641 , step=482121, T=2.73sec (just starting evolution) \\n', 't=10683 , step=483843, T=60.0min, dt/dT=43.0/h, d(CPU-h)/dt=1.1173CPU-h/M\\n', 't=10723 , step=485570, T=2.0002h, dt/dT=39.6/h, d(CPU-h)/dt=1.2108CPU-h/M\\n']\n",
      "Checking if the sim is running...\n"
     ]
    },
    {
     "name": "stderr",
     "output_type": "stream",
     "text": [
      "/bin/sh: line 1: squeue: command not found\n"
     ]
    },
    {
     "name": "stdout",
     "output_type": "stream",
     "text": [
      "Running jobs  []\n",
      "sim job id 8467\n",
      "Segment runnint 2 False\n",
      "Error files []\n",
      "Sim status is unknown\n",
      "Fetching last segment for sim eccprecrun4b, lev5\n",
      "Lines from SpEC.out ['\\n', '#  And so it begins...\\n', 't=8046.8, step=408371, T=2.76sec (just starting evolution) \\n']\n",
      "Checking if the sim is running...\n"
     ]
    },
    {
     "name": "stderr",
     "output_type": "stream",
     "text": [
      "/bin/sh: line 1: squeue: command not found\n"
     ]
    },
    {
     "name": "stdout",
     "output_type": "stream",
     "text": [
      "Running jobs  []\n",
      "sim job id 8485\n",
      "Segment runnint 2 False\n",
      "Error files []\n",
      "Sim status is unknown\n",
      "Fetching last segment for sim EccPrecDiff002, lev2\n",
      "Lines from SpEC.out ['t=61634 , step=39559, T=2.72min, dt/dT=37.3/h, d(CPU-h)/dt=1.2862CPU-h/M\\n', 't=61634 , CpuUsage 3116  CPU-h, 11.6h startup, 12.1h 1st step, CPU-h/t=0.05\\n', 'Termination condition FinalTime\\n']\n",
      "Checking if the sim is running...\n"
     ]
    },
    {
     "name": "stderr",
     "output_type": "stream",
     "text": [
      "/bin/sh: line 1: squeue: command not found\n"
     ]
    },
    {
     "name": "stdout",
     "output_type": "stream",
     "text": [
      "Running jobs  []\n",
      "sim job id 8954\n",
      "Segment runnint 2 False\n",
      "Error files ['Errors000.txt']\n",
      "Segment was found to have errors but also complete!\n",
      "Fetching last segment for sim EccPrecDiff002, lev3\n",
      "Lines from SpEC.out ['t=61725 , step=43894, T=3.52min, dt/dT=27.6/h, d(CPU-h)/dt=1.7406CPU-h/M\\n', 't=61725 , CpuUsage 4265  CPU-h, 12.5h startup, 10.8h 1st step, CPU-h/t=0.07\\n', 'Termination condition FinalTime\\n']\n",
      "Checking if the sim is running...\n"
     ]
    },
    {
     "name": "stderr",
     "output_type": "stream",
     "text": [
      "/bin/sh: line 1: squeue: command not found\n"
     ]
    },
    {
     "name": "stdout",
     "output_type": "stream",
     "text": [
      "Running jobs  []\n",
      "sim job id 9031\n",
      "Segment runnint 2 False\n",
      "Error files ['Errors000.txt']\n",
      "Segment was found to have errors but also complete!\n",
      "Fetching last segment for sim EccPrecDiff003, lev3\n",
      "Lines from SpEC.out ['You may or may not see output from other processes, depending on\\n', 'exactly when Open MPI kills them.\\n', '--------------------------------------------------------------------------\\n']\n",
      "Checking if the sim is running...\n"
     ]
    },
    {
     "name": "stderr",
     "output_type": "stream",
     "text": [
      "/bin/sh: line 1: squeue: command not found\n"
     ]
    },
    {
     "name": "stdout",
     "output_type": "stream",
     "text": [
      "Running jobs  []\n",
      "sim job id 8611\n",
      "Segment runnint 2 False\n",
      "Error files ['Errors000.txt']\n",
      "Fetching last segment for sim EccPrecDiff001, lev2\n",
      "Lines from SpEC.out ['t=61557 , step=39513, T=86.9sec, dt/dT=30.3/h, d(CPU-h)/dt=1.5817CPU-h/M\\n', 't=61557 , CpuUsage 3053  CPU-h, 12.4h startup, 13.5h 1st step, CPU-h/t=0.05\\n', 'Termination condition FinalTime\\n']\n",
      "Checking if the sim is running...\n"
     ]
    },
    {
     "name": "stderr",
     "output_type": "stream",
     "text": [
      "/bin/sh: line 1: squeue: command not found\n"
     ]
    },
    {
     "name": "stdout",
     "output_type": "stream",
     "text": [
      "Running jobs  []\n",
      "sim job id 8856\n",
      "Segment runnint 2 False\n",
      "Error files ['Errors000.txt']\n",
      "Segment was found to have errors but also complete!\n",
      "Fetching last segment for sim EccPrecDiff001, lev3\n",
      "Fetching last segment for sim EccPrecDiff001, lev4\n",
      "Lines from SpEC.out ['\\n', '#  And so it begins...\\n', 't=2185.4, step=48089, T=3.09sec (just starting evolution) \\n']\n",
      "Checking if the sim is running...\n"
     ]
    },
    {
     "name": "stderr",
     "output_type": "stream",
     "text": [
      "/bin/sh: line 1: squeue: command not found\n"
     ]
    },
    {
     "name": "stdout",
     "output_type": "stream",
     "text": [
      "Running jobs  []\n",
      "sim job id 8217\n",
      "Segment runnint 2 False\n",
      "Error files []\n",
      "Sim status is unknown\n",
      "Fetching last segment for sim EccPrecDiff003a, lev2\n",
      "Lines from SpEC.out ['Termination condition ShapeMapIsNearlySingular\\n', '\\n', 'This termination is an error.\\n']\n",
      "Checking if the sim is running...\n"
     ]
    },
    {
     "name": "stderr",
     "output_type": "stream",
     "text": [
      "/bin/sh: line 1: squeue: command not found\n"
     ]
    },
    {
     "name": "stdout",
     "output_type": "stream",
     "text": [
      "Running jobs  []\n",
      "sim job id 8613\n",
      "Segment runnint 2 False\n",
      "Error files []\n",
      "Sim status is unknown\n",
      "Fetching last segment for sim EccPrecDiff003a, lev3\n",
      "Lines from SpEC.out ['--------------------------------------------------------------------------\\n', '[sonic1:96189] 1 more process has sent help message help-mpi-api.txt / mpi-abort\\n', '[sonic1:96189] Set MCA parameter \"orte_base_help_aggregate\" to 0 to see all help / error messages\\n']\n",
      "Checking if the sim is running...\n"
     ]
    },
    {
     "name": "stderr",
     "output_type": "stream",
     "text": [
      "/bin/sh: line 1: squeue: command not found\n"
     ]
    },
    {
     "name": "stdout",
     "output_type": "stream",
     "text": [
      "Running jobs  []\n",
      "sim job id 8614\n",
      "Segment runnint 2 False\n",
      "Error files ['Errors000.txt']\n",
      "Fetching last segment for sim EccPrecDiff003a, lev4\n",
      "Lines from SpEC.out ['You may or may not see output from other processes, depending on\\n', 'exactly when Open MPI kills them.\\n', '--------------------------------------------------------------------------\\n']\n",
      "Checking if the sim is running...\n"
     ]
    },
    {
     "name": "stderr",
     "output_type": "stream",
     "text": [
      "/bin/sh: line 1: squeue: command not found\n"
     ]
    },
    {
     "name": "stdout",
     "output_type": "stream",
     "text": [
      "Running jobs  []\n",
      "sim job id 8615\n",
      "Segment runnint 2 False\n",
      "Error files ['Errors000.txt']\n",
      "Computing ncycles for eccprecrun4b Lev2\n",
      "Choosing default directory for output...\n",
      "Out directory is set to /home/vaishakprasad/NR/waveforms\n",
      "Joining Horizon h5 files...\n",
      "data paths insp /mnt/sonic/sims/SpEC/gcc/bfi/EccPrecDiff/eccprecrun4b/Ecc0/Ev/Lev2*/Run/ApparentHorizons/Horizons.h5\n",
      "data paths rdown /mnt/sonic/sims/SpEC/gcc/bfi/EccPrecDiff/eccprecrun4b/Ecc0/Ev/Lev2_Ringdown/Lev2*/Run/ApparentHorizons/Horizons.h5\n",
      "Running command\n",
      " JoinH5 -o /home/vaishakprasad/NR/waveforms/joined/eccprecrun4bLev2JoinedHorizons.h5 /mnt/sonic/sims/SpEC/gcc/bfi/EccPrecDiff/eccprecrun4b/Ecc0/Ev/Lev2*/Run/ApparentHorizons/Horizons.h5 /mnt/sonic/sims/SpEC/gcc/bfi/EccPrecDiff/eccprecrun4b/Ecc0/Ev/Lev2_Ringdown/Lev2*/Run/ApparentHorizons/Horizons.h5\n"
     ]
    },
    {
     "name": "stderr",
     "output_type": "stream",
     "text": [
      "JoinH5: error while loading shared libraries: libhdf5.so.310: cannot open shared object file: No such file or directory\n"
     ]
    },
    {
     "name": "stdout",
     "output_type": "stream",
     "text": [
      "Command output \n",
      " \n",
      "Command completed. Please check Errors.txt for details.\n",
      "[Errno 2] Unable to open file (unable to open file: name = '/home/vaishakprasad/NR/waveforms/joined/eccprecrun4bLev2JoinedHorizons.h5', errno = 2, error message = 'No such file or directory', flags = 0, o_flags = 0) Skipping eccprecrun4b Lev2\n",
      "Computing ncycles for eccprecrun4b Lev3\n",
      "Choosing default directory for output...\n",
      "Out directory is set to /home/vaishakprasad/NR/waveforms\n",
      "Joining Horizon h5 files...\n",
      "data paths insp /mnt/sonic/sims/SpEC/gcc/bfi/EccPrecDiff/eccprecrun4b/Ecc0/Ev/Lev3*/Run/ApparentHorizons/Horizons.h5\n",
      "data paths rdown /mnt/sonic/sims/SpEC/gcc/bfi/EccPrecDiff/eccprecrun4b/Ecc0/Ev/Lev3_Ringdown/Lev3*/Run/ApparentHorizons/Horizons.h5\n",
      "Running command\n",
      " JoinH5 -o /home/vaishakprasad/NR/waveforms/joined/eccprecrun4bLev3JoinedHorizons.h5 /mnt/sonic/sims/SpEC/gcc/bfi/EccPrecDiff/eccprecrun4b/Ecc0/Ev/Lev3*/Run/ApparentHorizons/Horizons.h5 /mnt/sonic/sims/SpEC/gcc/bfi/EccPrecDiff/eccprecrun4b/Ecc0/Ev/Lev3_Ringdown/Lev3*/Run/ApparentHorizons/Horizons.h5\n"
     ]
    },
    {
     "name": "stderr",
     "output_type": "stream",
     "text": [
      "JoinH5: error while loading shared libraries: libhdf5.so.310: cannot open shared object file: No such file or directory\n"
     ]
    },
    {
     "name": "stdout",
     "output_type": "stream",
     "text": [
      "Command output \n",
      " \n",
      "Command completed. Please check Errors.txt for details.\n",
      "[Errno 2] Unable to open file (unable to open file: name = '/home/vaishakprasad/NR/waveforms/joined/eccprecrun4bLev3JoinedHorizons.h5', errno = 2, error message = 'No such file or directory', flags = 0, o_flags = 0) Skipping eccprecrun4b Lev3\n",
      "Computing ncycles for eccprecrun4b Lev4\n",
      "Choosing default directory for output...\n",
      "Out directory is set to /home/vaishakprasad/NR/waveforms\n",
      "Joining Horizon h5 files...\n",
      "data paths insp /mnt/sonic/sims/SpEC/gcc/bfi/EccPrecDiff/eccprecrun4b/Ecc0/Ev/Lev4*/Run/ApparentHorizons/Horizons.h5\n",
      "data paths rdown /mnt/sonic/sims/SpEC/gcc/bfi/EccPrecDiff/eccprecrun4b/Ecc0/Ev/Lev4_Ringdown/Lev4*/Run/ApparentHorizons/Horizons.h5\n",
      "Running command\n",
      " JoinH5 -o /home/vaishakprasad/NR/waveforms/joined/eccprecrun4bLev4JoinedHorizons.h5 /mnt/sonic/sims/SpEC/gcc/bfi/EccPrecDiff/eccprecrun4b/Ecc0/Ev/Lev4*/Run/ApparentHorizons/Horizons.h5 /mnt/sonic/sims/SpEC/gcc/bfi/EccPrecDiff/eccprecrun4b/Ecc0/Ev/Lev4_Ringdown/Lev4*/Run/ApparentHorizons/Horizons.h5\n"
     ]
    },
    {
     "name": "stderr",
     "output_type": "stream",
     "text": [
      "JoinH5: error while loading shared libraries: libhdf5.so.310: cannot open shared object file: No such file or directory\n"
     ]
    },
    {
     "name": "stdout",
     "output_type": "stream",
     "text": [
      "Command output \n",
      " \n",
      "Command completed. Please check Errors.txt for details.\n",
      "[Errno 2] Unable to open file (unable to open file: name = '/home/vaishakprasad/NR/waveforms/joined/eccprecrun4bLev4JoinedHorizons.h5', errno = 2, error message = 'No such file or directory', flags = 0, o_flags = 0) Skipping eccprecrun4b Lev4\n",
      "Computing ncycles for eccprecrun4b Lev5\n",
      "Choosing default directory for output...\n",
      "Out directory is set to /home/vaishakprasad/NR/waveforms\n",
      "Joining Horizon h5 files...\n",
      "data paths insp /mnt/sonic/sims/SpEC/gcc/bfi/EccPrecDiff/eccprecrun4b/Ecc0/Ev/Lev5*/Run/ApparentHorizons/Horizons.h5\n",
      "data paths rdown /mnt/sonic/sims/SpEC/gcc/bfi/EccPrecDiff/eccprecrun4b/Ecc0/Ev/Lev5_Ringdown/Lev5*/Run/ApparentHorizons/Horizons.h5\n",
      "Running command\n",
      " JoinH5 -o /home/vaishakprasad/NR/waveforms/joined/eccprecrun4bLev5JoinedHorizons.h5 /mnt/sonic/sims/SpEC/gcc/bfi/EccPrecDiff/eccprecrun4b/Ecc0/Ev/Lev5*/Run/ApparentHorizons/Horizons.h5 /mnt/sonic/sims/SpEC/gcc/bfi/EccPrecDiff/eccprecrun4b/Ecc0/Ev/Lev5_Ringdown/Lev5*/Run/ApparentHorizons/Horizons.h5\n"
     ]
    },
    {
     "name": "stderr",
     "output_type": "stream",
     "text": [
      "JoinH5: error while loading shared libraries: libhdf5.so.310: cannot open shared object file: No such file or directory\n"
     ]
    },
    {
     "name": "stdout",
     "output_type": "stream",
     "text": [
      "Command output \n",
      " \n",
      "Command completed. Please check Errors.txt for details.\n",
      "[Errno 2] Unable to open file (unable to open file: name = '/home/vaishakprasad/NR/waveforms/joined/eccprecrun4bLev5JoinedHorizons.h5', errno = 2, error message = 'No such file or directory', flags = 0, o_flags = 0) Skipping eccprecrun4b Lev5\n",
      "Computing ncycles for EccPrecDiff002 Lev2\n",
      "Choosing default directory for output...\n",
      "Out directory is set to /home/vaishakprasad/NR/waveforms\n",
      "Joining Horizon h5 files...\n",
      "data paths insp /mnt/sonic/sims/SpEC/gcc/bfi/EccPrecDiff/EccPrecDiff002/Ecc0/Ev/Lev2*/Run/ApparentHorizons/Horizons.h5\n",
      "data paths rdown /mnt/sonic/sims/SpEC/gcc/bfi/EccPrecDiff/EccPrecDiff002/Ecc0/Ev/Lev2_Ringdown/Lev2*/Run/ApparentHorizons/Horizons.h5\n",
      "Running command\n",
      " JoinH5 -o /home/vaishakprasad/NR/waveforms/joined/EccPrecDiff002Lev2JoinedHorizons.h5 /mnt/sonic/sims/SpEC/gcc/bfi/EccPrecDiff/EccPrecDiff002/Ecc0/Ev/Lev2*/Run/ApparentHorizons/Horizons.h5 /mnt/sonic/sims/SpEC/gcc/bfi/EccPrecDiff/EccPrecDiff002/Ecc0/Ev/Lev2_Ringdown/Lev2*/Run/ApparentHorizons/Horizons.h5\n"
     ]
    },
    {
     "name": "stderr",
     "output_type": "stream",
     "text": [
      "JoinH5: error while loading shared libraries: libhdf5.so.310: cannot open shared object file: No such file or directory\n"
     ]
    },
    {
     "name": "stdout",
     "output_type": "stream",
     "text": [
      "Command output \n",
      " \n",
      "Command completed. Please check Errors.txt for details.\n",
      "[Errno 2] Unable to open file (unable to open file: name = '/home/vaishakprasad/NR/waveforms/joined/EccPrecDiff002Lev2JoinedHorizons.h5', errno = 2, error message = 'No such file or directory', flags = 0, o_flags = 0) Skipping EccPrecDiff002 Lev2\n",
      "Computing ncycles for EccPrecDiff002 Lev3\n",
      "Choosing default directory for output...\n",
      "Out directory is set to /home/vaishakprasad/NR/waveforms\n",
      "Joining Horizon h5 files...\n",
      "data paths insp /mnt/sonic/sims/SpEC/gcc/bfi/EccPrecDiff/EccPrecDiff002/Ecc0/Ev/Lev3*/Run/ApparentHorizons/Horizons.h5\n",
      "data paths rdown /mnt/sonic/sims/SpEC/gcc/bfi/EccPrecDiff/EccPrecDiff002/Ecc0/Ev/Lev3_Ringdown/Lev3*/Run/ApparentHorizons/Horizons.h5\n",
      "Running command\n",
      " JoinH5 -o /home/vaishakprasad/NR/waveforms/joined/EccPrecDiff002Lev3JoinedHorizons.h5 /mnt/sonic/sims/SpEC/gcc/bfi/EccPrecDiff/EccPrecDiff002/Ecc0/Ev/Lev3*/Run/ApparentHorizons/Horizons.h5 /mnt/sonic/sims/SpEC/gcc/bfi/EccPrecDiff/EccPrecDiff002/Ecc0/Ev/Lev3_Ringdown/Lev3*/Run/ApparentHorizons/Horizons.h5\n"
     ]
    },
    {
     "name": "stderr",
     "output_type": "stream",
     "text": [
      "JoinH5: error while loading shared libraries: libhdf5.so.310: cannot open shared object file: No such file or directory\n"
     ]
    },
    {
     "name": "stdout",
     "output_type": "stream",
     "text": [
      "Command output \n",
      " \n",
      "Command completed. Please check Errors.txt for details.\n",
      "[Errno 2] Unable to open file (unable to open file: name = '/home/vaishakprasad/NR/waveforms/joined/EccPrecDiff002Lev3JoinedHorizons.h5', errno = 2, error message = 'No such file or directory', flags = 0, o_flags = 0) Skipping EccPrecDiff002 Lev3\n",
      "Computing ncycles for EccPrecDiff003 Lev3\n",
      "Choosing default directory for output...\n",
      "Out directory is set to /home/vaishakprasad/NR/waveforms\n",
      "Joining Horizon h5 files...\n",
      "data paths insp /mnt/sonic/sims/SpEC/gcc/bfi/EccPrecDiff/EccPrecDiff003/Ecc0/Ev/Lev3*/Run/ApparentHorizons/Horizons.h5\n",
      "data paths rdown /mnt/sonic/sims/SpEC/gcc/bfi/EccPrecDiff/EccPrecDiff003/Ecc0/Ev/Lev3_Ringdown/Lev3*/Run/ApparentHorizons/Horizons.h5\n",
      "Running command\n",
      " JoinH5 -o /home/vaishakprasad/NR/waveforms/joined/EccPrecDiff003Lev3JoinedHorizons.h5 /mnt/sonic/sims/SpEC/gcc/bfi/EccPrecDiff/EccPrecDiff003/Ecc0/Ev/Lev3*/Run/ApparentHorizons/Horizons.h5 /mnt/sonic/sims/SpEC/gcc/bfi/EccPrecDiff/EccPrecDiff003/Ecc0/Ev/Lev3_Ringdown/Lev3*/Run/ApparentHorizons/Horizons.h5\n"
     ]
    },
    {
     "name": "stderr",
     "output_type": "stream",
     "text": [
      "JoinH5: error while loading shared libraries: libhdf5.so.310: cannot open shared object file: No such file or directory\n"
     ]
    },
    {
     "name": "stdout",
     "output_type": "stream",
     "text": [
      "Command output \n",
      " \n",
      "Command completed. Please check Errors.txt for details.\n",
      "[Errno 2] Unable to open file (unable to open file: name = '/home/vaishakprasad/NR/waveforms/joined/EccPrecDiff003Lev3JoinedHorizons.h5', errno = 2, error message = 'No such file or directory', flags = 0, o_flags = 0) Skipping EccPrecDiff003 Lev3\n",
      "Computing ncycles for EccPrecDiff001 Lev2\n",
      "Choosing default directory for output...\n",
      "Out directory is set to /home/vaishakprasad/NR/waveforms\n",
      "Joining Horizon h5 files...\n",
      "data paths insp /mnt/sonic/sims/SpEC/gcc/bfi/EccPrecDiff/EccPrecDiff001/Ecc0/Ev/Lev2*/Run/ApparentHorizons/Horizons.h5\n",
      "data paths rdown /mnt/sonic/sims/SpEC/gcc/bfi/EccPrecDiff/EccPrecDiff001/Ecc0/Ev/Lev2_Ringdown/Lev2*/Run/ApparentHorizons/Horizons.h5\n",
      "Running command\n",
      " JoinH5 -o /home/vaishakprasad/NR/waveforms/joined/EccPrecDiff001Lev2JoinedHorizons.h5 /mnt/sonic/sims/SpEC/gcc/bfi/EccPrecDiff/EccPrecDiff001/Ecc0/Ev/Lev2*/Run/ApparentHorizons/Horizons.h5 /mnt/sonic/sims/SpEC/gcc/bfi/EccPrecDiff/EccPrecDiff001/Ecc0/Ev/Lev2_Ringdown/Lev2*/Run/ApparentHorizons/Horizons.h5\n"
     ]
    },
    {
     "name": "stderr",
     "output_type": "stream",
     "text": [
      "JoinH5: error while loading shared libraries: libhdf5.so.310: cannot open shared object file: No such file or directory\n"
     ]
    },
    {
     "name": "stdout",
     "output_type": "stream",
     "text": [
      "Command output \n",
      " \n",
      "Command completed. Please check Errors.txt for details.\n",
      "[Errno 2] Unable to open file (unable to open file: name = '/home/vaishakprasad/NR/waveforms/joined/EccPrecDiff001Lev2JoinedHorizons.h5', errno = 2, error message = 'No such file or directory', flags = 0, o_flags = 0) Skipping EccPrecDiff001 Lev2\n",
      "Computing ncycles for EccPrecDiff001 Lev3\n",
      "Choosing default directory for output...\n",
      "Out directory is set to /home/vaishakprasad/NR/waveforms\n",
      "Joining Horizon h5 files...\n",
      "data paths insp /mnt/sonic/sims/SpEC/gcc/bfi/EccPrecDiff/EccPrecDiff001/Ecc0/Ev/Lev3*/Run/ApparentHorizons/Horizons.h5\n",
      "data paths rdown /mnt/sonic/sims/SpEC/gcc/bfi/EccPrecDiff/EccPrecDiff001/Ecc0/Ev/Lev3_Ringdown/Lev3*/Run/ApparentHorizons/Horizons.h5\n",
      "Running command\n",
      " JoinH5 -o /home/vaishakprasad/NR/waveforms/joined/EccPrecDiff001Lev3JoinedHorizons.h5 /mnt/sonic/sims/SpEC/gcc/bfi/EccPrecDiff/EccPrecDiff001/Ecc0/Ev/Lev3*/Run/ApparentHorizons/Horizons.h5 /mnt/sonic/sims/SpEC/gcc/bfi/EccPrecDiff/EccPrecDiff001/Ecc0/Ev/Lev3_Ringdown/Lev3*/Run/ApparentHorizons/Horizons.h5\n"
     ]
    },
    {
     "name": "stderr",
     "output_type": "stream",
     "text": [
      "JoinH5: error while loading shared libraries: libhdf5.so.310: cannot open shared object file: No such file or directory\n"
     ]
    },
    {
     "name": "stdout",
     "output_type": "stream",
     "text": [
      "Command output \n",
      " \n",
      "Command completed. Please check Errors.txt for details.\n",
      "[Errno 2] Unable to open file (unable to open file: name = '/home/vaishakprasad/NR/waveforms/joined/EccPrecDiff001Lev3JoinedHorizons.h5', errno = 2, error message = 'No such file or directory', flags = 0, o_flags = 0) Skipping EccPrecDiff001 Lev3\n",
      "Computing ncycles for EccPrecDiff001 Lev4\n",
      "Choosing default directory for output...\n",
      "Out directory is set to /home/vaishakprasad/NR/waveforms\n",
      "Joining Horizon h5 files...\n",
      "data paths insp /mnt/sonic/sims/SpEC/gcc/bfi/EccPrecDiff/EccPrecDiff001/Ecc0/Ev/Lev4*/Run/ApparentHorizons/Horizons.h5\n",
      "data paths rdown /mnt/sonic/sims/SpEC/gcc/bfi/EccPrecDiff/EccPrecDiff001/Ecc0/Ev/Lev4_Ringdown/Lev4*/Run/ApparentHorizons/Horizons.h5\n",
      "Running command\n",
      " JoinH5 -o /home/vaishakprasad/NR/waveforms/joined/EccPrecDiff001Lev4JoinedHorizons.h5 /mnt/sonic/sims/SpEC/gcc/bfi/EccPrecDiff/EccPrecDiff001/Ecc0/Ev/Lev4*/Run/ApparentHorizons/Horizons.h5 /mnt/sonic/sims/SpEC/gcc/bfi/EccPrecDiff/EccPrecDiff001/Ecc0/Ev/Lev4_Ringdown/Lev4*/Run/ApparentHorizons/Horizons.h5\n"
     ]
    },
    {
     "name": "stderr",
     "output_type": "stream",
     "text": [
      "JoinH5: error while loading shared libraries: libhdf5.so.310: cannot open shared object file: No such file or directory\n"
     ]
    },
    {
     "name": "stdout",
     "output_type": "stream",
     "text": [
      "Command output \n",
      " \n",
      "Command completed. Please check Errors.txt for details.\n",
      "[Errno 2] Unable to open file (unable to open file: name = '/home/vaishakprasad/NR/waveforms/joined/EccPrecDiff001Lev4JoinedHorizons.h5', errno = 2, error message = 'No such file or directory', flags = 0, o_flags = 0) Skipping EccPrecDiff001 Lev4\n",
      "Computing ncycles for EccPrecDiff003a Lev2\n",
      "Choosing default directory for output...\n",
      "Out directory is set to /home/vaishakprasad/NR/waveforms\n",
      "Joining Horizon h5 files...\n",
      "data paths insp /mnt/sonic/sims/SpEC/gcc/bfi/EccPrecDiff/EccPrecDiff003a/Ecc0/Ev/Lev2*/Run/ApparentHorizons/Horizons.h5\n",
      "data paths rdown /mnt/sonic/sims/SpEC/gcc/bfi/EccPrecDiff/EccPrecDiff003a/Ecc0/Ev/Lev2_Ringdown/Lev2*/Run/ApparentHorizons/Horizons.h5\n",
      "Running command\n",
      " JoinH5 -o /home/vaishakprasad/NR/waveforms/joined/EccPrecDiff003aLev2JoinedHorizons.h5 /mnt/sonic/sims/SpEC/gcc/bfi/EccPrecDiff/EccPrecDiff003a/Ecc0/Ev/Lev2*/Run/ApparentHorizons/Horizons.h5 /mnt/sonic/sims/SpEC/gcc/bfi/EccPrecDiff/EccPrecDiff003a/Ecc0/Ev/Lev2_Ringdown/Lev2*/Run/ApparentHorizons/Horizons.h5\n"
     ]
    },
    {
     "name": "stderr",
     "output_type": "stream",
     "text": [
      "JoinH5: error while loading shared libraries: libhdf5.so.310: cannot open shared object file: No such file or directory\n"
     ]
    },
    {
     "name": "stdout",
     "output_type": "stream",
     "text": [
      "Command output \n",
      " \n",
      "Command completed. Please check Errors.txt for details.\n",
      "[Errno 2] Unable to open file (unable to open file: name = '/home/vaishakprasad/NR/waveforms/joined/EccPrecDiff003aLev2JoinedHorizons.h5', errno = 2, error message = 'No such file or directory', flags = 0, o_flags = 0) Skipping EccPrecDiff003a Lev2\n",
      "Computing ncycles for EccPrecDiff003a Lev3\n",
      "Choosing default directory for output...\n",
      "Out directory is set to /home/vaishakprasad/NR/waveforms\n",
      "Joining Horizon h5 files...\n",
      "data paths insp /mnt/sonic/sims/SpEC/gcc/bfi/EccPrecDiff/EccPrecDiff003a/Ecc0/Ev/Lev3*/Run/ApparentHorizons/Horizons.h5\n",
      "data paths rdown /mnt/sonic/sims/SpEC/gcc/bfi/EccPrecDiff/EccPrecDiff003a/Ecc0/Ev/Lev3_Ringdown/Lev3*/Run/ApparentHorizons/Horizons.h5\n",
      "Running command\n",
      " JoinH5 -o /home/vaishakprasad/NR/waveforms/joined/EccPrecDiff003aLev3JoinedHorizons.h5 /mnt/sonic/sims/SpEC/gcc/bfi/EccPrecDiff/EccPrecDiff003a/Ecc0/Ev/Lev3*/Run/ApparentHorizons/Horizons.h5 /mnt/sonic/sims/SpEC/gcc/bfi/EccPrecDiff/EccPrecDiff003a/Ecc0/Ev/Lev3_Ringdown/Lev3*/Run/ApparentHorizons/Horizons.h5\n"
     ]
    },
    {
     "name": "stderr",
     "output_type": "stream",
     "text": [
      "JoinH5: error while loading shared libraries: libhdf5.so.310: cannot open shared object file: No such file or directory\n"
     ]
    },
    {
     "name": "stdout",
     "output_type": "stream",
     "text": [
      "Command output \n",
      " \n",
      "Command completed. Please check Errors.txt for details.\n",
      "[Errno 2] Unable to open file (unable to open file: name = '/home/vaishakprasad/NR/waveforms/joined/EccPrecDiff003aLev3JoinedHorizons.h5', errno = 2, error message = 'No such file or directory', flags = 0, o_flags = 0) Skipping EccPrecDiff003a Lev3\n",
      "Computing ncycles for EccPrecDiff003a Lev4\n",
      "Choosing default directory for output...\n",
      "Out directory is set to /home/vaishakprasad/NR/waveforms\n",
      "Joining Horizon h5 files...\n",
      "data paths insp /mnt/sonic/sims/SpEC/gcc/bfi/EccPrecDiff/EccPrecDiff003a/Ecc0/Ev/Lev4*/Run/ApparentHorizons/Horizons.h5\n",
      "data paths rdown /mnt/sonic/sims/SpEC/gcc/bfi/EccPrecDiff/EccPrecDiff003a/Ecc0/Ev/Lev4_Ringdown/Lev4*/Run/ApparentHorizons/Horizons.h5\n",
      "Running command\n",
      " JoinH5 -o /home/vaishakprasad/NR/waveforms/joined/EccPrecDiff003aLev4JoinedHorizons.h5 /mnt/sonic/sims/SpEC/gcc/bfi/EccPrecDiff/EccPrecDiff003a/Ecc0/Ev/Lev4*/Run/ApparentHorizons/Horizons.h5 /mnt/sonic/sims/SpEC/gcc/bfi/EccPrecDiff/EccPrecDiff003a/Ecc0/Ev/Lev4_Ringdown/Lev4*/Run/ApparentHorizons/Horizons.h5\n"
     ]
    },
    {
     "name": "stderr",
     "output_type": "stream",
     "text": [
      "JoinH5: error while loading shared libraries: libhdf5.so.310: cannot open shared object file: No such file or directory\n"
     ]
    },
    {
     "name": "stdout",
     "output_type": "stream",
     "text": [
      "Command output \n",
      " \n",
      "Command completed. Please check Errors.txt for details.\n",
      "[Errno 2] Unable to open file (unable to open file: name = '/home/vaishakprasad/NR/waveforms/joined/EccPrecDiff003aLev4JoinedHorizons.h5', errno = 2, error message = 'No such file or directory', flags = 0, o_flags = 0) Skipping EccPrecDiff003a Lev4\n",
      "Computing ncycles for eccprecrun4b Lev2\n",
      "[Errno 2] Unable to open file (unable to open file: name = '/home/vaishakprasad/NR/waveforms/eccprecrun4b_waveforms_Lev2/extrapolated/rhOverM_Extrapolated_N2_CoM.h5', errno = 2, error message = 'No such file or directory', flags = 0, o_flags = 0) Skipping eccprecrun4b Lev2\n",
      "Computing ncycles for eccprecrun4b Lev3\n",
      "[Errno 2] Unable to open file (unable to open file: name = '/home/vaishakprasad/NR/waveforms/eccprecrun4b_waveforms_Lev3/extrapolated/rhOverM_Extrapolated_N2_CoM.h5', errno = 2, error message = 'No such file or directory', flags = 0, o_flags = 0) Skipping eccprecrun4b Lev3\n",
      "Computing ncycles for eccprecrun4b Lev4\n",
      "[Errno 2] Unable to open file (unable to open file: name = '/home/vaishakprasad/NR/waveforms/eccprecrun4b_waveforms_Lev4/extrapolated/rhOverM_Extrapolated_N2_CoM.h5', errno = 2, error message = 'No such file or directory', flags = 0, o_flags = 0) Skipping eccprecrun4b Lev4\n",
      "Computing ncycles for eccprecrun4b Lev5\n",
      "[Errno 2] Unable to open file (unable to open file: name = '/home/vaishakprasad/NR/waveforms/eccprecrun4b_waveforms_Lev5/extrapolated/rhOverM_Extrapolated_N2_CoM.h5', errno = 2, error message = 'No such file or directory', flags = 0, o_flags = 0) Skipping eccprecrun4b Lev5\n",
      "Computing ncycles for EccPrecDiff002 Lev2\n",
      "[Errno 2] Unable to open file (unable to open file: name = '/home/vaishakprasad/NR/waveforms/EccPrecDiff002_waveforms_Lev2/extrapolated/rhOverM_Extrapolated_N2_CoM.h5', errno = 2, error message = 'No such file or directory', flags = 0, o_flags = 0) Skipping EccPrecDiff002 Lev2\n",
      "Computing ncycles for EccPrecDiff002 Lev3\n",
      "[Errno 2] Unable to open file (unable to open file: name = '/home/vaishakprasad/NR/waveforms/EccPrecDiff002_waveforms_Lev3/extrapolated/rhOverM_Extrapolated_N2_CoM.h5', errno = 2, error message = 'No such file or directory', flags = 0, o_flags = 0) Skipping EccPrecDiff002 Lev3\n",
      "Computing ncycles for EccPrecDiff003 Lev3\n",
      "[Errno 2] Unable to open file (unable to open file: name = '/home/vaishakprasad/NR/waveforms/EccPrecDiff003_waveforms_Lev3/extrapolated/rhOverM_Extrapolated_N2_CoM.h5', errno = 2, error message = 'No such file or directory', flags = 0, o_flags = 0) Skipping EccPrecDiff003 Lev3\n",
      "Computing ncycles for EccPrecDiff001 Lev2\n",
      "[Errno 2] Unable to open file (unable to open file: name = '/home/vaishakprasad/NR/waveforms/EccPrecDiff001_waveforms_Lev2/extrapolated/rhOverM_Extrapolated_N2_CoM.h5', errno = 2, error message = 'No such file or directory', flags = 0, o_flags = 0) Skipping EccPrecDiff001 Lev2\n",
      "Computing ncycles for EccPrecDiff001 Lev3\n",
      "[Errno 2] Unable to open file (unable to open file: name = '/home/vaishakprasad/NR/waveforms/EccPrecDiff001_waveforms_Lev3/extrapolated/rhOverM_Extrapolated_N2_CoM.h5', errno = 2, error message = 'No such file or directory', flags = 0, o_flags = 0) Skipping EccPrecDiff001 Lev3\n",
      "Computing ncycles for EccPrecDiff001 Lev4\n",
      "[Errno 2] Unable to open file (unable to open file: name = '/home/vaishakprasad/NR/waveforms/EccPrecDiff001_waveforms_Lev4/extrapolated/rhOverM_Extrapolated_N2_CoM.h5', errno = 2, error message = 'No such file or directory', flags = 0, o_flags = 0) Skipping EccPrecDiff001 Lev4\n",
      "Computing ncycles for EccPrecDiff003a Lev2\n",
      "[Errno 2] Unable to open file (unable to open file: name = '/home/vaishakprasad/NR/waveforms/EccPrecDiff003a_waveforms_Lev2/extrapolated/rhOverM_Extrapolated_N2_CoM.h5', errno = 2, error message = 'No such file or directory', flags = 0, o_flags = 0) Skipping EccPrecDiff003a Lev2\n",
      "Computing ncycles for EccPrecDiff003a Lev3\n",
      "[Errno 2] Unable to open file (unable to open file: name = '/home/vaishakprasad/NR/waveforms/EccPrecDiff003a_waveforms_Lev3/extrapolated/rhOverM_Extrapolated_N2_CoM.h5', errno = 2, error message = 'No such file or directory', flags = 0, o_flags = 0) Skipping EccPrecDiff003a Lev3\n",
      "Computing ncycles for EccPrecDiff003a Lev4\n",
      "[Errno 2] Unable to open file (unable to open file: name = '/home/vaishakprasad/NR/waveforms/EccPrecDiff003a_waveforms_Lev4/extrapolated/rhOverM_Extrapolated_N2_CoM.h5', errno = 2, error message = 'No such file or directory', flags = 0, o_flags = 0) Skipping EccPrecDiff003a Lev4\n"
     ]
    }
   ],
   "source": [
    "se.fetch_sim_params()"
   ]
  },
  {
   "cell_type": "code",
   "execution_count": 14,
   "metadata": {},
   "outputs": [
    {
     "data": {
      "text/plain": [
       "['eccprecrun4b',\n",
       " 'EccPrecDiff002',\n",
       " 'EccPrecDiff003',\n",
       " 'EccPrecDiff001',\n",
       " 'EccPrecDiff003a']"
      ]
     },
     "execution_count": 14,
     "metadata": {},
     "output_type": "execute_result"
    }
   ],
   "source": [
    "se.available_sim_names"
   ]
  },
  {
   "cell_type": "code",
   "execution_count": 15,
   "metadata": {},
   "outputs": [
    {
     "name": "stdout",
     "output_type": "stream",
     "text": [
      "eccprecrun4b\n",
      "<KeysViewHDF5 ['R0165.dir', 'R0171.dir', 'R0177.dir', 'R0184.dir', 'R0192.dir', 'R0200.dir', 'R0209.dir', 'R0219.dir', 'R0230.dir', 'R0241.dir', 'R0255.dir', 'R0269.dir', 'R0286.dir', 'R0305.dir', 'R0326.dir', 'R0350.dir', 'R0379.dir', 'R0413.dir', 'R0453.dir', 'R0501.dir', 'R0562.dir', 'R0639.dir', 'R0740.dir', 'R0880.dir', 'VersionHist.ver']>\n",
      "330\n",
      "EccPrecDiff002\n",
      "<KeysViewHDF5 ['R0365.dir', 'R0377.dir', 'R0391.dir', 'R0406.dir', 'R0422.dir', 'R0439.dir', 'R0457.dir', 'R0478.dir', 'R0500.dir', 'R0524.dir', 'R0551.dir', 'R0580.dir', 'R0613.dir', 'R0650.dir', 'R0692.dir', 'R0739.dir', 'R0794.dir', 'R0857.dir', 'R0930.dir', 'R1018.dir', 'R1124.dir', 'R1255.dir', 'R1420.dir', 'R1635.dir', 'VersionHist.ver']>\n",
      "730\n",
      "EccPrecDiff003\n",
      "<KeysViewHDF5 ['R0100.dir', 'R0103.dir', 'R0107.dir', 'R0111.dir', 'R0116.dir', 'R0121.dir', 'R0126.dir', 'R0132.dir', 'R0139.dir', 'R0146.dir', 'R0154.dir', 'R0163.dir', 'R0173.dir', 'R0185.dir', 'R0198.dir', 'R0213.dir', 'R0230.dir', 'R0251.dir', 'R0275.dir', 'R0305.dir', 'R0343.dir', 'R0390.dir', 'R0453.dir', 'R0540.dir', 'VersionHist.ver']>\n",
      "200\n",
      "EccPrecDiff001\n",
      "<KeysViewHDF5 ['R0365.dir', 'R0377.dir', 'R0391.dir', 'R0406.dir', 'R0422.dir', 'R0439.dir', 'R0457.dir', 'R0478.dir', 'R0500.dir', 'R0524.dir', 'R0551.dir', 'R0580.dir', 'R0613.dir', 'R0650.dir', 'R0692.dir', 'R0739.dir', 'R0794.dir', 'R0857.dir', 'R0930.dir', 'R1018.dir', 'R1124.dir', 'R1255.dir', 'R1420.dir', 'R1635.dir', 'VersionHist.ver']>\n",
      "730\n",
      "EccPrecDiff003a\n",
      "<KeysViewHDF5 ['R0165.dir', 'R0170.dir', 'R0175.dir', 'R0181.dir', 'R0187.dir', 'R0194.dir', 'R0201.dir', 'R0209.dir', 'R0217.dir', 'R0226.dir', 'R0236.dir', 'R0247.dir', 'R0258.dir', 'R0271.dir', 'R0285.dir', 'R0301.dir', 'R0319.dir', 'R0339.dir', 'R0361.dir', 'R0387.dir', 'R0416.dir', 'R0450.dir', 'R0491.dir', 'R0540.dir', 'VersionHist.ver']>\n",
      "330\n"
     ]
    }
   ],
   "source": [
    "se.discover_ref_time()"
   ]
  },
  {
   "cell_type": "code",
   "execution_count": 16,
   "metadata": {},
   "outputs": [
    {
     "data": {
      "text/plain": [
       "{'eccprecrun4b': 330,\n",
       " 'EccPrecDiff002': 730,\n",
       " 'EccPrecDiff003': 200,\n",
       " 'EccPrecDiff001': 730,\n",
       " 'EccPrecDiff003a': 330}"
      ]
     },
     "execution_count": 16,
     "metadata": {},
     "output_type": "execute_result"
    }
   ],
   "source": [
    "se.all_req_ref_times"
   ]
  },
  {
   "cell_type": "code",
   "execution_count": 17,
   "metadata": {},
   "outputs": [
    {
     "data": {
      "text/plain": [
       "{'eccprecrun4b': PosixPath('/mnt/sonic/sims/SpEC/gcc/bfi/EccPrecDiff/eccprecrun4b'),\n",
       " 'EccPrecDiff002': PosixPath('/mnt/sonic/sims/SpEC/gcc/bfi/EccPrecDiff/EccPrecDiff002'),\n",
       " 'EccPrecDiff003': PosixPath('/mnt/sonic/sims/SpEC/gcc/bfi/EccPrecDiff/EccPrecDiff003'),\n",
       " 'EccPrecDiff001': PosixPath('/mnt/sonic/sims/SpEC/gcc/bfi/EccPrecDiff/EccPrecDiff001'),\n",
       " 'EccPrecDiff003a': PosixPath('/mnt/sonic/sims/SpEC/gcc/bfi/EccPrecDiff/EccPrecDiff003a')}"
      ]
     },
     "execution_count": 17,
     "metadata": {},
     "output_type": "execute_result"
    }
   ],
   "source": [
    "se._available_sim_paths"
   ]
  },
  {
   "cell_type": "code",
   "execution_count": 18,
   "metadata": {},
   "outputs": [
    {
     "data": {
      "text/plain": [
       "['eccprecrun4b',\n",
       " 'EccPrecDiff002',\n",
       " 'EccPrecDiff003',\n",
       " 'EccPrecDiff001',\n",
       " 'EccPrecDiff003a']"
      ]
     },
     "execution_count": 18,
     "metadata": {},
     "output_type": "execute_result"
    }
   ],
   "source": [
    "se._available_sim_names"
   ]
  },
  {
   "cell_type": "code",
   "execution_count": 19,
   "metadata": {},
   "outputs": [
    {
     "data": {
      "text/plain": [
       "{'EccPrecDiff001': {'ZwickyDays': 0.0,\n",
       "  'SemiMajorAxis': 18.0,\n",
       "  'Eccentricity': 0.1,\n",
       "  'AnomalyAngle': 0.0,\n",
       "  'ReferenceTime': 0.0},\n",
       " 'EccPrecDiff002': {'ZwickyDays': 0.0,\n",
       "  'SemiMajorAxis': 9.0,\n",
       "  'Eccentricity': 0.1,\n",
       "  'AnomalyAngle': 0.0,\n",
       "  'ReferenceTime': 0.0},\n",
       " 'EccPrecDiff003': {'ZwickyDays': 0.0,\n",
       "  'SemiMajorAxis': 11.0,\n",
       "  'Eccentricity': 0.25,\n",
       "  'AnomalyAngle': 0.0,\n",
       "  'ReferenceTime': 0.0}}"
      ]
     },
     "execution_count": 19,
     "metadata": {},
     "output_type": "execute_result"
    }
   ],
   "source": [
    "se.bfi_sim_params"
   ]
  },
  {
   "cell_type": "code",
   "execution_count": 20,
   "metadata": {},
   "outputs": [
    {
     "data": {
      "text/plain": [
       "{'EccPrecDiff001': {'ZwickyDays': 0.0,\n",
       "  'SemiMajorAxis': 18.0,\n",
       "  'Eccentricity': 0.1,\n",
       "  'AnomalyAngle': 0.0,\n",
       "  'ReferenceTime': 0.0},\n",
       " 'EccPrecDiff002': {'ZwickyDays': 0.0,\n",
       "  'SemiMajorAxis': 9.0,\n",
       "  'Eccentricity': 0.1,\n",
       "  'AnomalyAngle': 0.0,\n",
       "  'ReferenceTime': 0.0},\n",
       " 'EccPrecDiff003': {'ZwickyDays': 0.0,\n",
       "  'SemiMajorAxis': 11.0,\n",
       "  'Eccentricity': 0.25,\n",
       "  'AnomalyAngle': 0.0,\n",
       "  'ReferenceTime': 0.0}}"
      ]
     },
     "execution_count": 20,
     "metadata": {},
     "output_type": "execute_result"
    }
   ],
   "source": [
    "se.bfi_sim_params"
   ]
  },
  {
   "cell_type": "code",
   "execution_count": 21,
   "metadata": {},
   "outputs": [
    {
     "data": {
      "text/plain": [
       "330"
      ]
     },
     "execution_count": 21,
     "metadata": {},
     "output_type": "execute_result"
    }
   ],
   "source": [
    "se.all_req_ref_times['eccprecrun4b']"
   ]
  },
  {
   "cell_type": "code",
   "execution_count": 22,
   "metadata": {},
   "outputs": [
    {
     "data": {
      "text/plain": [
       "{'eccprecrun4b': {'Omega0': 0.019060222959237264,\n",
       "  'adot0': 0.0,\n",
       "  'D0': 14.399999999999999,\n",
       "  'MassRatio': 2.0,\n",
       "  'ChiA': (0.1, 0.1, 0.2),\n",
       "  'ChiB': (0.3, 0.0, 0.3),\n",
       "  'IDType': 'SHK',\n",
       "  'ChiEff': 0.2333333333333333,\n",
       "  'ChiPrec': 0.14142135623730953,\n",
       "  'RequestedReferenceTime': 330},\n",
       " 'EccPrecDiff002': {'Omega0': 0.0145988589216,\n",
       "  'adot0': -3.14159265,\n",
       "  'D0': 18.0,\n",
       "  'MassRatio': 1.0,\n",
       "  'ChiA': (0.0, 0.2, 0.2),\n",
       "  'ChiB': (0.2, 0.0, 0.2),\n",
       "  'IDType': 'SHK',\n",
       "  'ZwickyDays': 0.0,\n",
       "  'SemiMajorAxis': 9.0,\n",
       "  'Eccentricity': 0.1,\n",
       "  'AnomalyAngle': 0.0,\n",
       "  'ReferenceTime': 0.0,\n",
       "  'ChiEff': 0.2,\n",
       "  'ChiPrec': 0.2,\n",
       "  'RequestedReferenceTime': 730},\n",
       " 'EccPrecDiff003': {'Omega0': 0.019060222959237264,\n",
       "  'adot0': 0.0,\n",
       "  'D0': 11.0,\n",
       "  'MassRatio': 2.0,\n",
       "  'ChiA': (0.1, 0.1, 0.2),\n",
       "  'ChiB': (0.3, 0.0, 0.3),\n",
       "  'IDType': 'SHK',\n",
       "  'ZwickyDays': 0.0,\n",
       "  'SemiMajorAxis': 11.0,\n",
       "  'Eccentricity': 0.25,\n",
       "  'AnomalyAngle': 0.0,\n",
       "  'ReferenceTime': 0.0,\n",
       "  'ChiEff': 0.2333333333333333,\n",
       "  'ChiPrec': 0.14142135623730953,\n",
       "  'RequestedReferenceTime': 200},\n",
       " 'EccPrecDiff001': {'Omega0': 0.0145988589216,\n",
       "  'adot0': -3.14159265,\n",
       "  'D0': 18.0,\n",
       "  'MassRatio': 1.0,\n",
       "  'ChiA': (0.0, 0.2, 0.2),\n",
       "  'ChiB': (0.2, 0.0, 0.2),\n",
       "  'IDType': 'SHK',\n",
       "  'ZwickyDays': 0.0,\n",
       "  'SemiMajorAxis': 18.0,\n",
       "  'Eccentricity': 0.1,\n",
       "  'AnomalyAngle': 0.0,\n",
       "  'ReferenceTime': 0.0,\n",
       "  'ChiEff': 0.2,\n",
       "  'ChiPrec': 0.2,\n",
       "  'RequestedReferenceTime': 730},\n",
       " 'EccPrecDiff003a': {'Omega0': 0.019060222959237264,\n",
       "  'adot0': 0.0,\n",
       "  'D0': 11.0,\n",
       "  'MassRatio': 2.0,\n",
       "  'ChiA': (0.1, 0.1, 0.2),\n",
       "  'ChiB': (0.3, 0.0, 0.3),\n",
       "  'IDType': 'SHK',\n",
       "  'ChiEff': 0.2333333333333333,\n",
       "  'ChiPrec': 0.14142135623730953,\n",
       "  'RequestedReferenceTime': 330}}"
      ]
     },
     "execution_count": 22,
     "metadata": {},
     "output_type": "execute_result"
    }
   ],
   "source": [
    "se.all_sim_params"
   ]
  },
  {
   "cell_type": "code",
   "execution_count": 23,
   "metadata": {},
   "outputs": [
    {
     "data": {
      "text/plain": [
       "{'eccprecrun4b': {'Lev2': ['AA',\n",
       "   'AB',\n",
       "   'AC',\n",
       "   'AD',\n",
       "   'AE',\n",
       "   'AF',\n",
       "   'AG',\n",
       "   'AH',\n",
       "   'AI',\n",
       "   'AJ',\n",
       "   'AK',\n",
       "   'AL',\n",
       "   'AM',\n",
       "   'AN',\n",
       "   'AO',\n",
       "   'AP',\n",
       "   'AQ',\n",
       "   'AR'],\n",
       "  'Lev3': ['AA',\n",
       "   'AB',\n",
       "   'AC',\n",
       "   'AD',\n",
       "   'AE',\n",
       "   'AF',\n",
       "   'AG',\n",
       "   'AH',\n",
       "   'AI',\n",
       "   'AJ',\n",
       "   'AK',\n",
       "   'AL',\n",
       "   'AM',\n",
       "   'AN',\n",
       "   'AO',\n",
       "   'AP',\n",
       "   'AQ',\n",
       "   'AR',\n",
       "   'AS',\n",
       "   'AT',\n",
       "   'AU',\n",
       "   'AV',\n",
       "   'AW',\n",
       "   'AX',\n",
       "   'AY',\n",
       "   'AZ',\n",
       "   'BA',\n",
       "   'BB',\n",
       "   'BC',\n",
       "   'BD',\n",
       "   'BE',\n",
       "   'BF',\n",
       "   'BG',\n",
       "   'BH',\n",
       "   'BI',\n",
       "   'BJ',\n",
       "   'BK',\n",
       "   'BL'],\n",
       "  'Lev4': ['AA',\n",
       "   'AB',\n",
       "   'AC',\n",
       "   'AD',\n",
       "   'AE',\n",
       "   'AF',\n",
       "   'AG',\n",
       "   'AH',\n",
       "   'AI',\n",
       "   'AJ',\n",
       "   'AK',\n",
       "   'AL',\n",
       "   'AM',\n",
       "   'AN',\n",
       "   'AO',\n",
       "   'AP',\n",
       "   'AQ'],\n",
       "  'Lev5': ['AA',\n",
       "   'AB',\n",
       "   'AC',\n",
       "   'AD',\n",
       "   'AE',\n",
       "   'AF',\n",
       "   'AG',\n",
       "   'AH',\n",
       "   'AI',\n",
       "   'AJ',\n",
       "   'AK',\n",
       "   'AL',\n",
       "   'AM',\n",
       "   'AN']},\n",
       " 'EccPrecDiff002': {'Lev2': ['AA',\n",
       "   'AB',\n",
       "   'AC',\n",
       "   'AD',\n",
       "   'AE',\n",
       "   'AF',\n",
       "   'AG',\n",
       "   'AH',\n",
       "   'AI',\n",
       "   'AJ',\n",
       "   'AK',\n",
       "   'AL',\n",
       "   'AM',\n",
       "   'AN',\n",
       "   'AO',\n",
       "   'AP',\n",
       "   'AQ',\n",
       "   'AR',\n",
       "   'AS',\n",
       "   'AT',\n",
       "   'AU',\n",
       "   'AV',\n",
       "   'AW',\n",
       "   'AX',\n",
       "   'AY',\n",
       "   'AZ',\n",
       "   'BA',\n",
       "   'BB',\n",
       "   'BC',\n",
       "   'BD',\n",
       "   'BE'],\n",
       "  'Lev3': ['AA',\n",
       "   'AB',\n",
       "   'AC',\n",
       "   'AD',\n",
       "   'AE',\n",
       "   'AF',\n",
       "   'AG',\n",
       "   'AH',\n",
       "   'AI',\n",
       "   'AJ',\n",
       "   'AK',\n",
       "   'AL',\n",
       "   'AM',\n",
       "   'AN',\n",
       "   'AO',\n",
       "   'AP',\n",
       "   'AQ',\n",
       "   'AR',\n",
       "   'AS',\n",
       "   'AT',\n",
       "   'AU',\n",
       "   'AV',\n",
       "   'AW',\n",
       "   'AX',\n",
       "   'AY',\n",
       "   'AZ',\n",
       "   'BA',\n",
       "   'BB',\n",
       "   'BC',\n",
       "   'BD',\n",
       "   'BE',\n",
       "   'BF',\n",
       "   'BG',\n",
       "   'BH',\n",
       "   'BI',\n",
       "   'BJ']},\n",
       " 'EccPrecDiff003': {'Lev3': ['AA', 'AB', 'AC', 'AD', 'AE']},\n",
       " 'EccPrecDiff001': {'Lev2': ['AA',\n",
       "   'AB',\n",
       "   'AC',\n",
       "   'AD',\n",
       "   'AE',\n",
       "   'AF',\n",
       "   'AG',\n",
       "   'AH',\n",
       "   'AI',\n",
       "   'AJ',\n",
       "   'AK',\n",
       "   'AL',\n",
       "   'AM',\n",
       "   'AN',\n",
       "   'AO',\n",
       "   'AP',\n",
       "   'AQ',\n",
       "   'AR',\n",
       "   'AS',\n",
       "   'AT',\n",
       "   'AU',\n",
       "   'AV',\n",
       "   'AW',\n",
       "   'AX',\n",
       "   'AY',\n",
       "   'AZ',\n",
       "   'BA',\n",
       "   'BB',\n",
       "   'BC'],\n",
       "  'Lev3': ['AA',\n",
       "   'AB',\n",
       "   'AC',\n",
       "   'AD',\n",
       "   'AE',\n",
       "   'AF',\n",
       "   'AG',\n",
       "   'AH',\n",
       "   'AI',\n",
       "   'AJ',\n",
       "   'AK',\n",
       "   'AL'],\n",
       "  'Lev4': ['AA', 'AB', 'AC', 'AD']},\n",
       " 'EccPrecDiff003a': {'Lev2': ['AA', 'AB', 'AC', 'AD', 'AE', 'AF', 'AG'],\n",
       "  'Lev3': ['AA', 'AB', 'AC', 'AD', 'AE', 'AF', 'AG'],\n",
       "  'Lev4': ['AA', 'AB', 'AC', 'AD', 'AE', 'AF', 'AG']}}"
      ]
     },
     "execution_count": 23,
     "metadata": {},
     "output_type": "execute_result"
    }
   ],
   "source": [
    "se.inspiral_segments"
   ]
  },
  {
   "cell_type": "code",
   "execution_count": 24,
   "metadata": {},
   "outputs": [
    {
     "data": {
      "text/plain": [
       "{'Lev2': ['AA',\n",
       "  'AB',\n",
       "  'AC',\n",
       "  'AD',\n",
       "  'AE',\n",
       "  'AF',\n",
       "  'AG',\n",
       "  'AH',\n",
       "  'AI',\n",
       "  'AJ',\n",
       "  'AK',\n",
       "  'AL',\n",
       "  'AM',\n",
       "  'AN',\n",
       "  'AO',\n",
       "  'AP',\n",
       "  'AQ',\n",
       "  'AR'],\n",
       " 'Lev3': ['AA',\n",
       "  'AB',\n",
       "  'AC',\n",
       "  'AD',\n",
       "  'AE',\n",
       "  'AF',\n",
       "  'AG',\n",
       "  'AH',\n",
       "  'AI',\n",
       "  'AJ',\n",
       "  'AK',\n",
       "  'AL',\n",
       "  'AM',\n",
       "  'AN',\n",
       "  'AO',\n",
       "  'AP',\n",
       "  'AQ',\n",
       "  'AR',\n",
       "  'AS',\n",
       "  'AT',\n",
       "  'AU',\n",
       "  'AV',\n",
       "  'AW',\n",
       "  'AX',\n",
       "  'AY',\n",
       "  'AZ',\n",
       "  'BA',\n",
       "  'BB',\n",
       "  'BC',\n",
       "  'BD',\n",
       "  'BE',\n",
       "  'BF',\n",
       "  'BG',\n",
       "  'BH',\n",
       "  'BI',\n",
       "  'BJ',\n",
       "  'BK',\n",
       "  'BL'],\n",
       " 'Lev4': ['AA',\n",
       "  'AB',\n",
       "  'AC',\n",
       "  'AD',\n",
       "  'AE',\n",
       "  'AF',\n",
       "  'AG',\n",
       "  'AH',\n",
       "  'AI',\n",
       "  'AJ',\n",
       "  'AK',\n",
       "  'AL',\n",
       "  'AM',\n",
       "  'AN',\n",
       "  'AO',\n",
       "  'AP',\n",
       "  'AQ'],\n",
       " 'Lev5': ['AA',\n",
       "  'AB',\n",
       "  'AC',\n",
       "  'AD',\n",
       "  'AE',\n",
       "  'AF',\n",
       "  'AG',\n",
       "  'AH',\n",
       "  'AI',\n",
       "  'AJ',\n",
       "  'AK',\n",
       "  'AL',\n",
       "  'AM',\n",
       "  'AN']}"
      ]
     },
     "execution_count": 24,
     "metadata": {},
     "output_type": "execute_result"
    }
   ],
   "source": [
    "se.inspiral_segments['eccprecrun4b']"
   ]
  },
  {
   "cell_type": "code",
   "execution_count": 25,
   "metadata": {},
   "outputs": [
    {
     "name": "stdout",
     "output_type": "stream",
     "text": [
      "Looking in sim eccprecrun4b\n",
      "Searching in Lev3_AA\n",
      "Searching in Lev3_AB\n",
      "Searching in Lev3_AC\n",
      "Segment found for eccprecrun4b\n"
     ]
    },
    {
     "name": "stdout",
     "output_type": "stream",
     "text": [
      "Looking in sim EccPrecDiff002\n",
      "Searching in Lev3_AA\n",
      "Searching in Lev3_AB\n",
      "Searching in Lev3_AC\n",
      "Segment found for EccPrecDiff002\n",
      "Looking in sim EccPrecDiff003\n",
      "Searching in Lev3_AA\n",
      "Searching in Lev3_AB\n",
      "Searching in Lev3_AC\n",
      "Searching in Lev3_AD\n",
      "Searching in Lev3_AE\n",
      "Skipping segment AE as Traj file is missing\n",
      "Looking in sim EccPrecDiff001\n",
      "Searching in Lev3_AA\n",
      "Searching in Lev3_AB\n",
      "Skipping segment AB as Traj file is missing\n",
      "Searching in Lev3_AC\n",
      "Segment found for EccPrecDiff001\n",
      "Looking in sim EccPrecDiff003a\n",
      "Searching in Lev3_AA\n",
      "Searching in Lev3_AB\n",
      "Searching in Lev3_AC\n",
      "Searching in Lev3_AD\n",
      "Searching in Lev3_AE\n",
      "Searching in Lev3_AF\n",
      "Skipping segment AF as Traj file is missing\n",
      "Searching in Lev3_AG\n",
      "Skipping segment AG as Traj file is missing\n"
     ]
    }
   ],
   "source": [
    "se.get_segment_at_req_ref_time()"
   ]
  },
  {
   "cell_type": "code",
   "execution_count": 26,
   "metadata": {},
   "outputs": [
    {
     "data": {
      "text/plain": [
       "{'eccprecrun4b': 330,\n",
       " 'EccPrecDiff002': 730,\n",
       " 'EccPrecDiff003': 200,\n",
       " 'EccPrecDiff001': 730,\n",
       " 'EccPrecDiff003a': 330}"
      ]
     },
     "execution_count": 26,
     "metadata": {},
     "output_type": "execute_result"
    }
   ],
   "source": [
    "se.all_req_ref_times"
   ]
  },
  {
   "cell_type": "code",
   "execution_count": 27,
   "metadata": {},
   "outputs": [
    {
     "data": {
      "text/plain": [
       "{'eccprecrun4b': 'Lev3_AC',\n",
       " 'EccPrecDiff002': 'Lev3_AC',\n",
       " 'EccPrecDiff001': 'Lev3_AC'}"
      ]
     },
     "execution_count": 27,
     "metadata": {},
     "output_type": "execute_result"
    }
   ],
   "source": [
    "se.all_req_ref_time_segments"
   ]
  },
  {
   "cell_type": "code",
   "execution_count": 28,
   "metadata": {},
   "outputs": [
    {
     "data": {
      "text/plain": [
       "['eccprecrun4b',\n",
       " 'EccPrecDiff002',\n",
       " 'EccPrecDiff003',\n",
       " 'EccPrecDiff001',\n",
       " 'EccPrecDiff003a']"
      ]
     },
     "execution_count": 28,
     "metadata": {},
     "output_type": "execute_result"
    }
   ],
   "source": [
    "se.available_sim_names"
   ]
  },
  {
   "cell_type": "code",
   "execution_count": 29,
   "metadata": {},
   "outputs": [
    {
     "data": {
      "text/plain": [
       "0.2413344184623291"
      ]
     },
     "execution_count": 29,
     "metadata": {},
     "output_type": "execute_result"
    }
   ],
   "source": [
    "0.10886784347869742/(0.6716456061879306)**2 "
   ]
  },
  {
   "cell_type": "code",
   "execution_count": 30,
   "metadata": {},
   "outputs": [
    {
     "name": "stdout",
     "output_type": "stream",
     "text": [
      "eccprecrun4b\n"
     ]
    },
    {
     "name": "stdout",
     "output_type": "stream",
     "text": [
      "No interpolation required.\n",
      "Reference parameters at tref= 330 are\n",
      "------------------------\n",
      " Christodlou Masses : M1 0.6666641338314906 M2 0.33333605209826855\n",
      " Horizon Masses : M1 0.6716456224564863 M2 0.34075251530082173\n",
      " Chi magnitudes : |Chi1| 0.24495189194890862 |Chi2| 0.24495189194890862\n",
      " J magnitudes : |J1| 0.10886668030406184 |J2| 0.04713778672079664\n",
      " Chi : Chi1 (0.08876219950458164, 0.10947183167093205, 0.20034624872722168) Chi2 (0.08876219950458164, 0.10947183167093205, 0.20034624872722168)\n",
      " J : J1 (0.039449566687021875, 0.048653777711197346, 0.08904210062134887) Chi2 (0.032607118571944836, 0.005753512606455638, 0.033550616209807496)\n",
      " Omega_i : 0.004286104262001642\n",
      "------------------------\n"
     ]
    },
    {
     "data": {
      "image/png": "[encoded data removed]",
      "text/plain": [
       "<Figure size 640x480 with 1 Axes>"
      ]
     },
     "metadata": {},
     "output_type": "display_data"
    },
    {
     "name": "stdout",
     "output_type": "stream",
     "text": [
      "EccPrecDiff002\n",
      "No interpolation required.\n",
      "Reference parameters at tref= 730 are\n",
      "------------------------\n",
      " Christodlou Masses : M1 0.5000014380220927 M2 0.5000016072597998\n",
      " Horizon Masses : M1 0.5049765582499683 M2 0.5049766593825719\n",
      " Chi magnitudes : |Chi1| 0.2828386847136408 |Chi2| 0.2828386847136408\n",
      " J magnitudes : |J1| 0.07071007790727239 |J2| 0.0707096273705683\n",
      " Chi : Chi1 (-0.021810898440235697, 0.19930589944782595, 0.19949727999415218) Chi2 (-0.021810898440235697, 0.19930589944782595, 0.19949727999415218)\n",
      " J : J1 (-0.005452755974657846, 0.04982676146865526, 0.049874606880446655) Chi2 (0.04971270344722817, 0.00541796441635726, 0.04999144107180404)\n",
      " Omega_i : 0.0016691523427831514\n",
      "------------------------\n"
     ]
    },
    {
     "data": {
      "image/png": "[encoded data removed]",
      "text/plain": [
       "<Figure size 640x480 with 1 Axes>"
      ]
     },
     "metadata": {},
     "output_type": "display_data"
    },
    {
     "name": "stdout",
     "output_type": "stream",
     "text": [
      "EccPrecDiff001\n",
      "No interpolation required.\n",
      "Reference parameters at tref= 730 are\n",
      "------------------------\n",
      " Christodlou Masses : M1 0.5000003717057498 M2 0.5000004704188501\n",
      " Horizon Masses : M1 0.5049755191958316 M2 0.5049755935277506\n",
      " Chi magnitudes : |Chi1| 0.2828397665746095 |Chi2| 0.2828397665746095\n",
      " J magnitudes : |J1| 0.07071004677685895 |J2| 0.07070989356368416\n",
      " Chi : Chi1 (-0.021810970174438775, 0.19930650117807813, 0.19949820481443462) Chi2 (-0.021810970174438775, 0.19930650117807813, 0.19949820481443462)\n",
      " J : J1 (-0.005452750650875728, 0.04982669937791952, 0.049874625358266006) Chi2 (0.04971287743948888, 0.005417965761645217, 0.04999164441663767)\n",
      " Omega_i : 0.0016693645562049079\n",
      "------------------------\n"
     ]
    },
    {
     "data": {
      "image/png": "[encoded data removed]",
      "text/plain": [
       "<Figure size 640x480 with 1 Axes>"
      ]
     },
     "metadata": {},
     "output_type": "display_data"
    }
   ],
   "source": [
    "se.parse_sim_params_at_req_ref_times()"
   ]
  },
  {
   "cell_type": "code",
   "execution_count": null,
   "metadata": {},
   "outputs": [
    {
     "data": {
      "text/plain": [
       "{'eccprecrun4b': [2, 3, 4, 5],\n",
       " 'EccPrecDiff002': [2, 3],\n",
       " 'EccPrecDiff003': [3],\n",
       " 'EccPrecDiff001': [2, 3, 4],\n",
       " 'EccPrecDiff003a': [2, 3, 4]}"
      ]
     },
     "execution_count": 29,
     "metadata": {},
     "output_type": "execute_result"
    }
   ],
   "source": [
    "se.available_sim_levs"
   ]
  },
  {
   "cell_type": "code",
   "execution_count": null,
   "metadata": {},
   "outputs": [],
   "source": [
    "se.available_sim_paths"
   ]
  },
  {
   "cell_type": "code",
   "execution_count": null,
   "metadata": {},
   "outputs": [],
   "source": [
    "se.out_dir"
   ]
  },
  {
   "cell_type": "code",
   "execution_count": null,
   "metadata": {},
   "outputs": [],
   "source": [
    "se.all_sim_params['EccPrecDiff002']"
   ]
  },
  {
   "cell_type": "code",
   "execution_count": null,
   "metadata": {},
   "outputs": [],
   "source": [
    "ok = 'R0165.dir'"
   ]
  },
  {
   "cell_type": "code",
   "execution_count": null,
   "metadata": {},
   "outputs": [],
   "source": [
    "import re"
   ]
  },
  {
   "cell_type": "code",
   "execution_count": null,
   "metadata": {},
   "outputs": [],
   "source": [
    "re.search(\"R\")"
   ]
  },
  {
   "cell_type": "code",
   "execution_count": null,
   "metadata": {},
   "outputs": [],
   "source": [
    "import os\n",
    "os.mkdir(\"/home/vaishakprasad/NR/waveforms\")"
   ]
  },
  {
   "cell_type": "code",
   "execution_count": null,
   "metadata": {},
   "outputs": [],
   "source": [
    "Path.home()"
   ]
  },
  {
   "cell_type": "code",
   "execution_count": null,
   "metadata": {},
   "outputs": [],
   "source": [
    "se.inspiral_segments"
   ]
  },
  {
   "cell_type": "code",
   "execution_count": null,
   "metadata": {},
   "outputs": [],
   "source": [
    "se.available_sim_levs"
   ]
  },
  {
   "cell_type": "code",
   "execution_count": null,
   "metadata": {},
   "outputs": [],
   "source": [
    "aa = []\n",
    "ab = {}"
   ]
  },
  {
   "cell_type": "code",
   "execution_count": null,
   "metadata": {},
   "outputs": [],
   "source": [
    "if aa==[]:\n",
    "    print(1)"
   ]
  },
  {
   "cell_type": "code",
   "execution_count": null,
   "metadata": {},
   "outputs": [],
   "source": [
    "ab.pop(\"A\")"
   ]
  },
  {
   "cell_type": "code",
   "execution_count": null,
   "metadata": {},
   "outputs": [],
   "source": [
    "se.available_sim_levs."
   ]
  },
  {
   "cell_type": "code",
   "execution_count": 3,
   "metadata": {},
   "outputs": [
    {
     "data": {
      "text/plain": [
       "1"
      ]
     },
     "execution_count": 3,
     "metadata": {},
     "output_type": "execute_result"
    }
   ],
   "source": [
    "config.print_verbosity"
   ]
  },
  {
   "cell_type": "code",
   "execution_count": 5,
   "metadata": {},
   "outputs": [
    {
     "name": "stdout",
     "output_type": "stream",
     "text": [
      "Searching in /mnt/sonic/sims/SpEC/gcc/bfi/EccPrecDiff\n"
     ]
    },
    {
     "name": "stderr",
     "output_type": "stream",
     "text": [
      "/bin/sh: line 1: squeue: command not found\n",
      "/bin/sh: line 1: squeue: command not found\n",
      "/bin/sh: line 1: squeue: command not found\n",
      "/bin/sh: line 1: squeue: command not found\n",
      "/bin/sh: line 1: squeue: command not found\n",
      "/bin/sh: line 1: squeue: command not found\n",
      "/bin/sh: line 1: squeue: command not found\n",
      "/bin/sh: line 1: squeue: command not found\n",
      "/bin/sh: line 1: squeue: command not found\n",
      "/bin/sh: line 1: squeue: command not found\n",
      "/bin/sh: line 1: squeue: command not found\n",
      "/bin/sh: line 1: squeue: command not found\n"
     ]
    },
    {
     "name": "stdout",
     "output_type": "stream",
     "text": [
      "Choosing default directory for output...\n",
      "Out directory is set to /home/vaishakprasad/NR/waveforms\n",
      "Joining Horizon h5 files...\n",
      "Running command\n",
      " JoinH5 -o /home/vaishakprasad/NR/waveforms/joined/eccprecrun4bLev2JoinedHorizons.h5 /mnt/sonic/sims/SpEC/gcc/bfi/EccPrecDiff/eccprecrun4b/Ecc0/Ev/Lev2*/Run/ApparentHorizons/Horizons.h5 /mnt/sonic/sims/SpEC/gcc/bfi/EccPrecDiff/eccprecrun4b/Ecc0/Ev/Lev2_Ringdown/Lev2*/Run/ApparentHorizons/Horizons.h5\n"
     ]
    },
    {
     "name": "stderr",
     "output_type": "stream",
     "text": [
      "JoinH5: error while loading shared libraries: libhdf5.so.310: cannot open shared object file: No such file or directory\n"
     ]
    },
    {
     "name": "stdout",
     "output_type": "stream",
     "text": [
      "Command output \n",
      " \n",
      "Command completed. Please check Errors.txt for details.\n",
      "Choosing default directory for output...\n",
      "Out directory is set to /home/vaishakprasad/NR/waveforms\n",
      "Joining Horizon h5 files...\n",
      "Running command\n",
      " JoinH5 -o /home/vaishakprasad/NR/waveforms/joined/eccprecrun4bLev3JoinedHorizons.h5 /mnt/sonic/sims/SpEC/gcc/bfi/EccPrecDiff/eccprecrun4b/Ecc0/Ev/Lev3*/Run/ApparentHorizons/Horizons.h5 /mnt/sonic/sims/SpEC/gcc/bfi/EccPrecDiff/eccprecrun4b/Ecc0/Ev/Lev3_Ringdown/Lev3*/Run/ApparentHorizons/Horizons.h5\n"
     ]
    },
    {
     "name": "stderr",
     "output_type": "stream",
     "text": [
      "JoinH5: error while loading shared libraries: libhdf5.so.310: cannot open shared object file: No such file or directory\n"
     ]
    },
    {
     "name": "stdout",
     "output_type": "stream",
     "text": [
      "Command output \n",
      " \n",
      "Command completed. Please check Errors.txt for details.\n",
      "Choosing default directory for output...\n",
      "Out directory is set to /home/vaishakprasad/NR/waveforms\n",
      "Joining Horizon h5 files...\n",
      "Running command\n",
      " JoinH5 -o /home/vaishakprasad/NR/waveforms/joined/eccprecrun4bLev4JoinedHorizons.h5 /mnt/sonic/sims/SpEC/gcc/bfi/EccPrecDiff/eccprecrun4b/Ecc0/Ev/Lev4*/Run/ApparentHorizons/Horizons.h5 /mnt/sonic/sims/SpEC/gcc/bfi/EccPrecDiff/eccprecrun4b/Ecc0/Ev/Lev4_Ringdown/Lev4*/Run/ApparentHorizons/Horizons.h5\n"
     ]
    },
    {
     "name": "stderr",
     "output_type": "stream",
     "text": [
      "JoinH5: error while loading shared libraries: libhdf5.so.310: cannot open shared object file: No such file or directory\n"
     ]
    },
    {
     "name": "stdout",
     "output_type": "stream",
     "text": [
      "Command output \n",
      " \n",
      "Command completed. Please check Errors.txt for details.\n",
      "Choosing default directory for output...\n",
      "Out directory is set to /home/vaishakprasad/NR/waveforms\n",
      "Joining Horizon h5 files...\n",
      "Running command\n",
      " JoinH5 -o /home/vaishakprasad/NR/waveforms/joined/eccprecrun4bLev5JoinedHorizons.h5 /mnt/sonic/sims/SpEC/gcc/bfi/EccPrecDiff/eccprecrun4b/Ecc0/Ev/Lev5*/Run/ApparentHorizons/Horizons.h5 /mnt/sonic/sims/SpEC/gcc/bfi/EccPrecDiff/eccprecrun4b/Ecc0/Ev/Lev5_Ringdown/Lev5*/Run/ApparentHorizons/Horizons.h5\n"
     ]
    },
    {
     "name": "stderr",
     "output_type": "stream",
     "text": [
      "JoinH5: error while loading shared libraries: libhdf5.so.310: cannot open shared object file: No such file or directory\n"
     ]
    },
    {
     "name": "stdout",
     "output_type": "stream",
     "text": [
      "Command output \n",
      " \n",
      "Command completed. Please check Errors.txt for details.\n",
      "Choosing default directory for output...\n",
      "Out directory is set to /home/vaishakprasad/NR/waveforms\n",
      "Joining Horizon h5 files...\n",
      "Running command\n",
      " JoinH5 -o /home/vaishakprasad/NR/waveforms/joined/EccPrecDiff002Lev2JoinedHorizons.h5 /mnt/sonic/sims/SpEC/gcc/bfi/EccPrecDiff/EccPrecDiff002/Ecc0/Ev/Lev2*/Run/ApparentHorizons/Horizons.h5 /mnt/sonic/sims/SpEC/gcc/bfi/EccPrecDiff/EccPrecDiff002/Ecc0/Ev/Lev2_Ringdown/Lev2*/Run/ApparentHorizons/Horizons.h5\n"
     ]
    },
    {
     "name": "stderr",
     "output_type": "stream",
     "text": [
      "JoinH5: error while loading shared libraries: libhdf5.so.310: cannot open shared object file: No such file or directory\n"
     ]
    },
    {
     "name": "stdout",
     "output_type": "stream",
     "text": [
      "Command output \n",
      " \n",
      "Command completed. Please check Errors.txt for details.\n",
      "Choosing default directory for output...\n",
      "Out directory is set to /home/vaishakprasad/NR/waveforms\n",
      "Joining Horizon h5 files...\n",
      "Running command\n",
      " JoinH5 -o /home/vaishakprasad/NR/waveforms/joined/EccPrecDiff002Lev3JoinedHorizons.h5 /mnt/sonic/sims/SpEC/gcc/bfi/EccPrecDiff/EccPrecDiff002/Ecc0/Ev/Lev3*/Run/ApparentHorizons/Horizons.h5 /mnt/sonic/sims/SpEC/gcc/bfi/EccPrecDiff/EccPrecDiff002/Ecc0/Ev/Lev3_Ringdown/Lev3*/Run/ApparentHorizons/Horizons.h5\n"
     ]
    },
    {
     "name": "stderr",
     "output_type": "stream",
     "text": [
      "JoinH5: error while loading shared libraries: libhdf5.so.310: cannot open shared object file: No such file or directory\n"
     ]
    },
    {
     "name": "stdout",
     "output_type": "stream",
     "text": [
      "Command output \n",
      " \n",
      "Command completed. Please check Errors.txt for details.\n",
      "Choosing default directory for output...\n",
      "Out directory is set to /home/vaishakprasad/NR/waveforms\n",
      "Joining Horizon h5 files...\n",
      "Running command\n",
      " JoinH5 -o /home/vaishakprasad/NR/waveforms/joined/EccPrecDiff003Lev3JoinedHorizons.h5 /mnt/sonic/sims/SpEC/gcc/bfi/EccPrecDiff/EccPrecDiff003/Ecc0/Ev/Lev3*/Run/ApparentHorizons/Horizons.h5 /mnt/sonic/sims/SpEC/gcc/bfi/EccPrecDiff/EccPrecDiff003/Ecc0/Ev/Lev3_Ringdown/Lev3*/Run/ApparentHorizons/Horizons.h5\n"
     ]
    },
    {
     "name": "stderr",
     "output_type": "stream",
     "text": [
      "JoinH5: error while loading shared libraries: libhdf5.so.310: cannot open shared object file: No such file or directory\n"
     ]
    },
    {
     "name": "stdout",
     "output_type": "stream",
     "text": [
      "Command output \n",
      " \n",
      "Command completed. Please check Errors.txt for details.\n",
      "Choosing default directory for output...\n",
      "Out directory is set to /home/vaishakprasad/NR/waveforms\n",
      "Joining Horizon h5 files...\n",
      "Running command\n",
      " JoinH5 -o /home/vaishakprasad/NR/waveforms/joined/EccPrecDiff001Lev2JoinedHorizons.h5 /mnt/sonic/sims/SpEC/gcc/bfi/EccPrecDiff/EccPrecDiff001/Ecc0/Ev/Lev2*/Run/ApparentHorizons/Horizons.h5 /mnt/sonic/sims/SpEC/gcc/bfi/EccPrecDiff/EccPrecDiff001/Ecc0/Ev/Lev2_Ringdown/Lev2*/Run/ApparentHorizons/Horizons.h5\n"
     ]
    },
    {
     "name": "stderr",
     "output_type": "stream",
     "text": [
      "JoinH5: error while loading shared libraries: libhdf5.so.310: cannot open shared object file: No such file or directory\n"
     ]
    },
    {
     "name": "stdout",
     "output_type": "stream",
     "text": [
      "Command output \n",
      " \n",
      "Command completed. Please check Errors.txt for details.\n",
      "Choosing default directory for output...\n",
      "Out directory is set to /home/vaishakprasad/NR/waveforms\n",
      "Joining Horizon h5 files...\n",
      "Running command\n",
      " JoinH5 -o /home/vaishakprasad/NR/waveforms/joined/EccPrecDiff001Lev3JoinedHorizons.h5 /mnt/sonic/sims/SpEC/gcc/bfi/EccPrecDiff/EccPrecDiff001/Ecc0/Ev/Lev3*/Run/ApparentHorizons/Horizons.h5 /mnt/sonic/sims/SpEC/gcc/bfi/EccPrecDiff/EccPrecDiff001/Ecc0/Ev/Lev3_Ringdown/Lev3*/Run/ApparentHorizons/Horizons.h5\n"
     ]
    },
    {
     "name": "stderr",
     "output_type": "stream",
     "text": [
      "JoinH5: error while loading shared libraries: libhdf5.so.310: cannot open shared object file: No such file or directory\n"
     ]
    },
    {
     "name": "stdout",
     "output_type": "stream",
     "text": [
      "Command output \n",
      " \n",
      "Command completed. Please check Errors.txt for details.\n",
      "Choosing default directory for output...\n",
      "Out directory is set to /home/vaishakprasad/NR/waveforms\n",
      "Joining Horizon h5 files...\n",
      "Running command\n",
      " JoinH5 -o /home/vaishakprasad/NR/waveforms/joined/EccPrecDiff001Lev4JoinedHorizons.h5 /mnt/sonic/sims/SpEC/gcc/bfi/EccPrecDiff/EccPrecDiff001/Ecc0/Ev/Lev4*/Run/ApparentHorizons/Horizons.h5 /mnt/sonic/sims/SpEC/gcc/bfi/EccPrecDiff/EccPrecDiff001/Ecc0/Ev/Lev4_Ringdown/Lev4*/Run/ApparentHorizons/Horizons.h5\n"
     ]
    },
    {
     "name": "stderr",
     "output_type": "stream",
     "text": [
      "JoinH5: error while loading shared libraries: libhdf5.so.310: cannot open shared object file: No such file or directory\n"
     ]
    },
    {
     "name": "stdout",
     "output_type": "stream",
     "text": [
      "Command output \n",
      " \n",
      "Command completed. Please check Errors.txt for details.\n",
      "Choosing default directory for output...\n",
      "Out directory is set to /home/vaishakprasad/NR/waveforms\n",
      "Joining Horizon h5 files...\n",
      "Running command\n",
      " JoinH5 -o /home/vaishakprasad/NR/waveforms/joined/EccPrecDiff003aLev2JoinedHorizons.h5 /mnt/sonic/sims/SpEC/gcc/bfi/EccPrecDiff/EccPrecDiff003a/Ecc0/Ev/Lev2*/Run/ApparentHorizons/Horizons.h5 /mnt/sonic/sims/SpEC/gcc/bfi/EccPrecDiff/EccPrecDiff003a/Ecc0/Ev/Lev2_Ringdown/Lev2*/Run/ApparentHorizons/Horizons.h5\n"
     ]
    },
    {
     "name": "stderr",
     "output_type": "stream",
     "text": [
      "JoinH5: error while loading shared libraries: libhdf5.so.310: cannot open shared object file: No such file or directory\n"
     ]
    },
    {
     "name": "stdout",
     "output_type": "stream",
     "text": [
      "Command output \n",
      " \n",
      "Command completed. Please check Errors.txt for details.\n",
      "Choosing default directory for output...\n",
      "Out directory is set to /home/vaishakprasad/NR/waveforms\n",
      "Joining Horizon h5 files...\n",
      "Running command\n",
      " JoinH5 -o /home/vaishakprasad/NR/waveforms/joined/EccPrecDiff003aLev3JoinedHorizons.h5 /mnt/sonic/sims/SpEC/gcc/bfi/EccPrecDiff/EccPrecDiff003a/Ecc0/Ev/Lev3*/Run/ApparentHorizons/Horizons.h5 /mnt/sonic/sims/SpEC/gcc/bfi/EccPrecDiff/EccPrecDiff003a/Ecc0/Ev/Lev3_Ringdown/Lev3*/Run/ApparentHorizons/Horizons.h5\n"
     ]
    },
    {
     "name": "stderr",
     "output_type": "stream",
     "text": [
      "JoinH5: error while loading shared libraries: libhdf5.so.310: cannot open shared object file: No such file or directory\n"
     ]
    },
    {
     "name": "stdout",
     "output_type": "stream",
     "text": [
      "Command output \n",
      " \n",
      "Command completed. Please check Errors.txt for details.\n",
      "Choosing default directory for output...\n",
      "Out directory is set to /home/vaishakprasad/NR/waveforms\n",
      "Joining Horizon h5 files...\n",
      "Running command\n",
      " JoinH5 -o /home/vaishakprasad/NR/waveforms/joined/EccPrecDiff003aLev4JoinedHorizons.h5 /mnt/sonic/sims/SpEC/gcc/bfi/EccPrecDiff/EccPrecDiff003a/Ecc0/Ev/Lev4*/Run/ApparentHorizons/Horizons.h5 /mnt/sonic/sims/SpEC/gcc/bfi/EccPrecDiff/EccPrecDiff003a/Ecc0/Ev/Lev4_Ringdown/Lev4*/Run/ApparentHorizons/Horizons.h5\n"
     ]
    },
    {
     "name": "stderr",
     "output_type": "stream",
     "text": [
      "JoinH5: error while loading shared libraries: libhdf5.so.310: cannot open shared object file: No such file or directory\n"
     ]
    },
    {
     "name": "stdout",
     "output_type": "stream",
     "text": [
      "Command output \n",
      " \n",
      "Command completed. Please check Errors.txt for details.\n",
      "eccprecrun4b\n",
      "<KeysViewHDF5 ['R0165.dir', 'R0171.dir', 'R0177.dir', 'R0184.dir', 'R0192.dir', 'R0200.dir', 'R0209.dir', 'R0219.dir', 'R0230.dir', 'R0241.dir', 'R0255.dir', 'R0269.dir', 'R0286.dir', 'R0305.dir', 'R0326.dir', 'R0350.dir', 'R0379.dir', 'R0413.dir', 'R0453.dir', 'R0501.dir', 'R0562.dir', 'R0639.dir', 'R0740.dir', 'R0880.dir', 'VersionHist.ver']>\n",
      "330\n",
      "EccPrecDiff002\n",
      "<KeysViewHDF5 ['R0365.dir', 'R0377.dir', 'R0391.dir', 'R0406.dir', 'R0422.dir', 'R0439.dir', 'R0457.dir', 'R0478.dir', 'R0500.dir', 'R0524.dir', 'R0551.dir', 'R0580.dir', 'R0613.dir', 'R0650.dir', 'R0692.dir', 'R0739.dir', 'R0794.dir', 'R0857.dir', 'R0930.dir', 'R1018.dir', 'R1124.dir', 'R1255.dir', 'R1420.dir', 'R1635.dir', 'VersionHist.ver']>\n",
      "730\n",
      "EccPrecDiff003\n",
      "<KeysViewHDF5 ['R0100.dir', 'R0103.dir', 'R0107.dir', 'R0111.dir', 'R0116.dir', 'R0121.dir', 'R0126.dir', 'R0132.dir', 'R0139.dir', 'R0146.dir', 'R0154.dir', 'R0163.dir', 'R0173.dir', 'R0185.dir', 'R0198.dir', 'R0213.dir', 'R0230.dir', 'R0251.dir', 'R0275.dir', 'R0305.dir', 'R0343.dir', 'R0390.dir', 'R0453.dir', 'R0540.dir', 'VersionHist.ver']>\n",
      "200\n",
      "EccPrecDiff001\n",
      "<KeysViewHDF5 ['R0365.dir', 'R0377.dir', 'R0391.dir', 'R0406.dir', 'R0422.dir', 'R0439.dir', 'R0457.dir', 'R0478.dir', 'R0500.dir', 'R0524.dir', 'R0551.dir', 'R0580.dir', 'R0613.dir', 'R0650.dir', 'R0692.dir', 'R0739.dir', 'R0794.dir', 'R0857.dir', 'R0930.dir', 'R1018.dir', 'R1124.dir', 'R1255.dir', 'R1420.dir', 'R1635.dir', 'VersionHist.ver']>\n",
      "730\n",
      "EccPrecDiff003a\n",
      "<KeysViewHDF5 ['R0165.dir', 'R0170.dir', 'R0175.dir', 'R0181.dir', 'R0187.dir', 'R0194.dir', 'R0201.dir', 'R0209.dir', 'R0217.dir', 'R0226.dir', 'R0236.dir', 'R0247.dir', 'R0258.dir', 'R0271.dir', 'R0285.dir', 'R0301.dir', 'R0319.dir', 'R0339.dir', 'R0361.dir', 'R0387.dir', 'R0416.dir', 'R0450.dir', 'R0491.dir', 'R0540.dir', 'VersionHist.ver']>\n",
      "330\n",
      "0.6666641338314906 <class 'float'>\n",
      "0.33333605209826855 <class 'float'>\n",
      "0.039449566687021875 <class 'float'>\n",
      "0.048653777711197346 <class 'float'>\n",
      "0.08904210062134887 <class 'float'>\n",
      "0.032607118571944836 <class 'float'>\n",
      "0.005753512606455638 <class 'float'>\n",
      "0.033550616209807496 <class 'float'>\n",
      "0.08876219950458164 <class 'float'>\n",
      "0.10947183167093205 <class 'float'>\n",
      "0.20034624872722168 <class 'float'>\n",
      "0.08876219950458164 <class 'float'>\n",
      "0.10947183167093205 <class 'float'>\n",
      "0.20034624872722168 <class 'float'>\n",
      "0.004286104262001642 <class 'float'>\n",
      "0.5000014380220927 <class 'float'>\n",
      "0.5000016072597998 <class 'float'>\n",
      "-0.005452755974657846 <class 'float'>\n",
      "0.04982676146865526 <class 'float'>\n",
      "0.049874606880446655 <class 'float'>\n",
      "0.04971270344722817 <class 'float'>\n",
      "0.00541796441635726 <class 'float'>\n",
      "0.04999144107180404 <class 'float'>\n",
      "-0.021810898440235697 <class 'float'>\n",
      "0.19930589944782595 <class 'float'>\n",
      "0.19949727999415218 <class 'float'>\n",
      "-0.021810898440235697 <class 'float'>\n",
      "0.19930589944782595 <class 'float'>\n",
      "0.19949727999415218 <class 'float'>\n",
      "0.0016691523427831514 <class 'float'>\n",
      "0.5000003717057498 <class 'float'>\n",
      "0.5000004704188501 <class 'float'>\n",
      "-0.005452750650875728 <class 'float'>\n",
      "0.04982669937791952 <class 'float'>\n",
      "0.049874625358266006 <class 'float'>\n",
      "0.04971287743948888 <class 'float'>\n",
      "0.005417965761645217 <class 'float'>\n",
      "0.04999164441663767 <class 'float'>\n",
      "-0.021810970174438775 <class 'float'>\n",
      "0.19930650117807813 <class 'float'>\n",
      "0.19949820481443462 <class 'float'>\n",
      "-0.021810970174438775 <class 'float'>\n",
      "0.19930650117807813 <class 'float'>\n",
      "0.19949820481443462 <class 'float'>\n",
      "0.0016693645562049079 <class 'float'>\n"
     ]
    }
   ],
   "source": [
    "se.run()"
   ]
  },
  {
   "cell_type": "code",
   "execution_count": 6,
   "metadata": {},
   "outputs": [
    {
     "data": {
      "text/html": [
       "<div>\n",
       "<style scoped>\n",
       "    .dataframe tbody tr th:only-of-type {\n",
       "        vertical-align: middle;\n",
       "    }\n",
       "\n",
       "    .dataframe tbody tr th {\n",
       "        vertical-align: top;\n",
       "    }\n",
       "\n",
       "    .dataframe thead th {\n",
       "        text-align: right;\n",
       "    }\n",
       "</style>\n",
       "<table border=\"1\" class=\"dataframe\">\n",
       "  <thead>\n",
       "    <tr style=\"text-align: right;\">\n",
       "      <th></th>\n",
       "      <th>ReqRefTime</th>\n",
       "      <th>Omega0</th>\n",
       "      <th>Omega_ref</th>\n",
       "      <th>D0</th>\n",
       "      <th>MassRatio</th>\n",
       "      <th>ChiA</th>\n",
       "      <th>ChiA_ref</th>\n",
       "      <th>ChiB</th>\n",
       "      <th>ChiB_ref</th>\n",
       "      <th>ChiEff</th>\n",
       "      <th>ChiPrec</th>\n",
       "    </tr>\n",
       "  </thead>\n",
       "  <tbody>\n",
       "    <tr>\n",
       "      <th>eccprecrun4b</th>\n",
       "      <td>330</td>\n",
       "      <td>0.01906</td>\n",
       "      <td>0.00429</td>\n",
       "      <td>14.4</td>\n",
       "      <td>2.0</td>\n",
       "      <td>(0.1, 0.1, 0.2)</td>\n",
       "      <td>(0.08876, 0.10947, 0.20035)</td>\n",
       "      <td>(0.3, 0.0, 0.3)</td>\n",
       "      <td>(0.08876, 0.10947, 0.20035)</td>\n",
       "      <td>0.233333</td>\n",
       "      <td>0.141421</td>\n",
       "    </tr>\n",
       "    <tr>\n",
       "      <th>EccPrecDiff002</th>\n",
       "      <td>730</td>\n",
       "      <td>0.014599</td>\n",
       "      <td>0.00167</td>\n",
       "      <td>18.0</td>\n",
       "      <td>1.0</td>\n",
       "      <td>(0.0, 0.2, 0.2)</td>\n",
       "      <td>(-0.02181, 0.19931, 0.1995)</td>\n",
       "      <td>(0.2, 0.0, 0.2)</td>\n",
       "      <td>(-0.02181, 0.19931, 0.1995)</td>\n",
       "      <td>0.2</td>\n",
       "      <td>0.2</td>\n",
       "    </tr>\n",
       "    <tr>\n",
       "      <th>EccPrecDiff003</th>\n",
       "      <td>NaN</td>\n",
       "      <td>0.01906</td>\n",
       "      <td>NaN</td>\n",
       "      <td>11.0</td>\n",
       "      <td>2.0</td>\n",
       "      <td>(0.1, 0.1, 0.2)</td>\n",
       "      <td>NaN</td>\n",
       "      <td>(0.3, 0.0, 0.3)</td>\n",
       "      <td>NaN</td>\n",
       "      <td>0.233333</td>\n",
       "      <td>0.141421</td>\n",
       "    </tr>\n",
       "    <tr>\n",
       "      <th>EccPrecDiff001</th>\n",
       "      <td>730</td>\n",
       "      <td>0.014599</td>\n",
       "      <td>0.00167</td>\n",
       "      <td>18.0</td>\n",
       "      <td>1.0</td>\n",
       "      <td>(0.0, 0.2, 0.2)</td>\n",
       "      <td>(-0.02181, 0.19931, 0.1995)</td>\n",
       "      <td>(0.2, 0.0, 0.2)</td>\n",
       "      <td>(-0.02181, 0.19931, 0.1995)</td>\n",
       "      <td>0.2</td>\n",
       "      <td>0.2</td>\n",
       "    </tr>\n",
       "    <tr>\n",
       "      <th>EccPrecDiff003a</th>\n",
       "      <td>NaN</td>\n",
       "      <td>0.01906</td>\n",
       "      <td>NaN</td>\n",
       "      <td>11.0</td>\n",
       "      <td>2.0</td>\n",
       "      <td>(0.1, 0.1, 0.2)</td>\n",
       "      <td>NaN</td>\n",
       "      <td>(0.3, 0.0, 0.3)</td>\n",
       "      <td>NaN</td>\n",
       "      <td>0.233333</td>\n",
       "      <td>0.141421</td>\n",
       "    </tr>\n",
       "  </tbody>\n",
       "</table>\n",
       "</div>"
      ],
      "text/plain": [
       "                ReqRefTime    Omega0 Omega_ref    D0 MassRatio  \\\n",
       "eccprecrun4b           330   0.01906   0.00429  14.4       2.0   \n",
       "EccPrecDiff002         730  0.014599   0.00167  18.0       1.0   \n",
       "EccPrecDiff003         NaN   0.01906       NaN  11.0       2.0   \n",
       "EccPrecDiff001         730  0.014599   0.00167  18.0       1.0   \n",
       "EccPrecDiff003a        NaN   0.01906       NaN  11.0       2.0   \n",
       "\n",
       "                            ChiA                     ChiA_ref  \\\n",
       "eccprecrun4b     (0.1, 0.1, 0.2)  (0.08876, 0.10947, 0.20035)   \n",
       "EccPrecDiff002   (0.0, 0.2, 0.2)  (-0.02181, 0.19931, 0.1995)   \n",
       "EccPrecDiff003   (0.1, 0.1, 0.2)                          NaN   \n",
       "EccPrecDiff001   (0.0, 0.2, 0.2)  (-0.02181, 0.19931, 0.1995)   \n",
       "EccPrecDiff003a  (0.1, 0.1, 0.2)                          NaN   \n",
       "\n",
       "                            ChiB                     ChiB_ref    ChiEff  \\\n",
       "eccprecrun4b     (0.3, 0.0, 0.3)  (0.08876, 0.10947, 0.20035)  0.233333   \n",
       "EccPrecDiff002   (0.2, 0.0, 0.2)  (-0.02181, 0.19931, 0.1995)       0.2   \n",
       "EccPrecDiff003   (0.3, 0.0, 0.3)                          NaN  0.233333   \n",
       "EccPrecDiff001   (0.2, 0.0, 0.2)  (-0.02181, 0.19931, 0.1995)       0.2   \n",
       "EccPrecDiff003a  (0.3, 0.0, 0.3)                          NaN  0.233333   \n",
       "\n",
       "                  ChiPrec  \n",
       "eccprecrun4b     0.141421  \n",
       "EccPrecDiff002        0.2  \n",
       "EccPrecDiff003   0.141421  \n",
       "EccPrecDiff001        0.2  \n",
       "EccPrecDiff003a  0.141421  "
      ]
     },
     "execution_count": 6,
     "metadata": {},
     "output_type": "execute_result"
    }
   ],
   "source": [
    "se.get_filtered_dataframe()"
   ]
  },
  {
   "cell_type": "code",
   "execution_count": 9,
   "metadata": {},
   "outputs": [
    {
     "name": "stdout",
     "output_type": "stream",
     "text": [
      "|                 |   ReqRefTime |    Omega0 |   Omega_ref |   D0 |   MassRatio | ChiA            | ChiA_ref                    | ChiB            | ChiB_ref                    |   ChiEff |   ChiPrec |\n",
      "|:----------------|-------------:|----------:|------------:|-----:|------------:|:----------------|:----------------------------|:----------------|:----------------------------|---------:|----------:|\n",
      "| eccprecrun4b    |          330 | 0.0190602 |     0.00429 | 14.4 |           2 | (0.1, 0.1, 0.2) | (0.08876, 0.10947, 0.20035) | (0.3, 0.0, 0.3) | (0.08876, 0.10947, 0.20035) | 0.233333 |  0.141421 |\n",
      "| EccPrecDiff002  |          730 | 0.0145989 |     0.00167 | 18   |           1 | (0.0, 0.2, 0.2) | (-0.02181, 0.19931, 0.1995) | (0.2, 0.0, 0.2) | (-0.02181, 0.19931, 0.1995) | 0.2      |  0.2      |\n",
      "| EccPrecDiff003  |          nan | 0.0190602 |   nan       | 11   |           2 | (0.1, 0.1, 0.2) | nan                         | (0.3, 0.0, 0.3) | nan                         | 0.233333 |  0.141421 |\n",
      "| EccPrecDiff001  |          730 | 0.0145989 |     0.00167 | 18   |           1 | (0.0, 0.2, 0.2) | (-0.02181, 0.19931, 0.1995) | (0.2, 0.0, 0.2) | (-0.02181, 0.19931, 0.1995) | 0.2      |  0.2      |\n",
      "| EccPrecDiff003a |          nan | 0.0190602 |   nan       | 11   |           2 | (0.1, 0.1, 0.2) | nan                         | (0.3, 0.0, 0.3) | nan                         | 0.233333 |  0.141421 |\n"
     ]
    }
   ],
   "source": [
    "print(se.get_filtered_dataframe().to_markdown())"
   ]
  },
  {
   "cell_type": "code",
   "execution_count": 13,
   "metadata": {},
   "outputs": [],
   "source": [
    "path_to_sims = Path('/mnt/sonic/sims/SpEC/gcc/bfi/ICTSEccParallel')\n",
    "home = Path.home()\n",
    "prepared_waveforms= Path(f'{home}/NR/waveforms')\n",
    "bfi_home = Path('/mnt/sonic/sims/SpEC/BFI/BFI')\n",
    "\n",
    "se = SimulationExplorer(search_dir=path_to_sims, prepared_waveforms_dir=prepared_waveforms, bfi_home_dir=bfi_home, bfi_project_name=\"ICTSEccParallel\")"
   ]
  },
  {
   "cell_type": "code",
   "execution_count": 14,
   "metadata": {},
   "outputs": [
    {
     "name": "stdout",
     "output_type": "stream",
     "text": [
      "Searching in /mnt/sonic/sims/SpEC/gcc/bfi/ICTSEccParallel\n"
     ]
    },
    {
     "name": "stderr",
     "output_type": "stream",
     "text": [
      "/bin/sh: line 1: squeue: command not found\n",
      "/bin/sh: line 1: squeue: command not found\n",
      "/bin/sh: line 1: squeue: command not found\n",
      "/bin/sh: line 1: squeue: command not found\n",
      "/bin/sh: line 1: squeue: command not found\n",
      "/bin/sh: line 1: squeue: command not found\n",
      "/bin/sh: line 1: squeue: command not found\n",
      "/bin/sh: line 1: squeue: command not found\n",
      "/bin/sh: line 1: squeue: command not found\n",
      "/bin/sh: line 1: squeue: command not found\n",
      "/bin/sh: line 1: squeue: command not found\n",
      "/bin/sh: line 1: squeue: command not found\n",
      "/bin/sh: line 1: squeue: command not found\n",
      "/bin/sh: line 1: squeue: command not found\n",
      "/bin/sh: line 1: squeue: command not found\n",
      "/bin/sh: line 1: squeue: command not found\n",
      "/bin/sh: line 1: squeue: command not found\n",
      "/bin/sh: line 1: squeue: command not found\n",
      "/bin/sh: line 1: squeue: command not found\n",
      "/bin/sh: line 1: squeue: command not found\n",
      "/bin/sh: line 1: squeue: command not found\n",
      "/bin/sh: line 1: squeue: command not found\n",
      "/bin/sh: line 1: squeue: command not found\n",
      "/bin/sh: line 1: squeue: command not found\n",
      "/bin/sh: line 1: squeue: command not found\n",
      "/bin/sh: line 1: squeue: command not found\n",
      "/bin/sh: line 1: squeue: command not found\n",
      "/bin/sh: line 1: squeue: command not found\n",
      "/bin/sh: line 1: squeue: command not found\n"
     ]
    },
    {
     "name": "stdout",
     "output_type": "stream",
     "text": [
      "Choosing default directory for output...\n",
      "Out directory is set to /home/vaishakprasad/NR/waveforms\n",
      "Joining Horizon h5 files...\n",
      "Running command\n",
      " JoinH5 -o /home/vaishakprasad/NR/waveforms/joined/ICTSEccParallel13Lev2JoinedHorizons.h5 /mnt/sonic/sims/SpEC/gcc/bfi/ICTSEccParallel/ICTSEccParallel13/Ecc0/Ev/Lev2*/Run/ApparentHorizons/Horizons.h5 /mnt/sonic/sims/SpEC/gcc/bfi/ICTSEccParallel/ICTSEccParallel13/Ecc0/Ev/Lev2_Ringdown/Lev2*/Run/ApparentHorizons/Horizons.h5\n"
     ]
    },
    {
     "name": "stderr",
     "output_type": "stream",
     "text": [
      "JoinH5: error while loading shared libraries: libhdf5.so.310: cannot open shared object file: No such file or directory\n"
     ]
    },
    {
     "name": "stdout",
     "output_type": "stream",
     "text": [
      "Command output \n",
      " \n",
      "Command completed. Please check Errors.txt for details.\n",
      "Choosing default directory for output...\n",
      "Out directory is set to /home/vaishakprasad/NR/waveforms\n",
      "Joining Horizon h5 files...\n",
      "Running command\n",
      " JoinH5 -o /home/vaishakprasad/NR/waveforms/joined/ICTSEccParallel13Lev3JoinedHorizons.h5 /mnt/sonic/sims/SpEC/gcc/bfi/ICTSEccParallel/ICTSEccParallel13/Ecc0/Ev/Lev3*/Run/ApparentHorizons/Horizons.h5 /mnt/sonic/sims/SpEC/gcc/bfi/ICTSEccParallel/ICTSEccParallel13/Ecc0/Ev/Lev3_Ringdown/Lev3*/Run/ApparentHorizons/Horizons.h5\n"
     ]
    },
    {
     "name": "stderr",
     "output_type": "stream",
     "text": [
      "JoinH5: error while loading shared libraries: libhdf5.so.310: cannot open shared object file: No such file or directory\n"
     ]
    },
    {
     "name": "stdout",
     "output_type": "stream",
     "text": [
      "Command output \n",
      " \n",
      "Command completed. Please check Errors.txt for details.\n",
      "Choosing default directory for output...\n",
      "Out directory is set to /home/vaishakprasad/NR/waveforms\n",
      "Joining Horizon h5 files...\n",
      "Running command\n",
      " JoinH5 -o /home/vaishakprasad/NR/waveforms/joined/ICTSEccParallel12Lev2JoinedHorizons.h5 /mnt/sonic/sims/SpEC/gcc/bfi/ICTSEccParallel/ICTSEccParallel12/Ecc0/Ev/Lev2*/Run/ApparentHorizons/Horizons.h5 /mnt/sonic/sims/SpEC/gcc/bfi/ICTSEccParallel/ICTSEccParallel12/Ecc0/Ev/Lev2_Ringdown/Lev2*/Run/ApparentHorizons/Horizons.h5\n"
     ]
    },
    {
     "name": "stderr",
     "output_type": "stream",
     "text": [
      "JoinH5: error while loading shared libraries: libhdf5.so.310: cannot open shared object file: No such file or directory\n"
     ]
    },
    {
     "name": "stdout",
     "output_type": "stream",
     "text": [
      "Command output \n",
      " \n",
      "Command completed. Please check Errors.txt for details.\n",
      "Choosing default directory for output...\n",
      "Out directory is set to /home/vaishakprasad/NR/waveforms\n",
      "Joining Horizon h5 files...\n",
      "Running command\n",
      " JoinH5 -o /home/vaishakprasad/NR/waveforms/joined/ICTSEccParallel12Lev3JoinedHorizons.h5 /mnt/sonic/sims/SpEC/gcc/bfi/ICTSEccParallel/ICTSEccParallel12/Ecc0/Ev/Lev3*/Run/ApparentHorizons/Horizons.h5 /mnt/sonic/sims/SpEC/gcc/bfi/ICTSEccParallel/ICTSEccParallel12/Ecc0/Ev/Lev3_Ringdown/Lev3*/Run/ApparentHorizons/Horizons.h5\n"
     ]
    },
    {
     "name": "stderr",
     "output_type": "stream",
     "text": [
      "JoinH5: error while loading shared libraries: libhdf5.so.310: cannot open shared object file: No such file or directory\n"
     ]
    },
    {
     "name": "stdout",
     "output_type": "stream",
     "text": [
      "Command output \n",
      " \n",
      "Command completed. Please check Errors.txt for details.\n",
      "Choosing default directory for output...\n",
      "Out directory is set to /home/vaishakprasad/NR/waveforms\n",
      "Joining Horizon h5 files...\n",
      "Running command\n",
      " JoinH5 -o /home/vaishakprasad/NR/waveforms/joined/ICTSEccParallel01Lev2JoinedHorizons.h5 /mnt/sonic/sims/SpEC/gcc/bfi/ICTSEccParallel/ICTSEccParallel01/Ecc0/Ev/Lev2*/Run/ApparentHorizons/Horizons.h5 /mnt/sonic/sims/SpEC/gcc/bfi/ICTSEccParallel/ICTSEccParallel01/Ecc0/Ev/Lev2_Ringdown/Lev2*/Run/ApparentHorizons/Horizons.h5\n"
     ]
    },
    {
     "name": "stderr",
     "output_type": "stream",
     "text": [
      "JoinH5: error while loading shared libraries: libhdf5.so.310: cannot open shared object file: No such file or directory\n"
     ]
    },
    {
     "name": "stdout",
     "output_type": "stream",
     "text": [
      "Command output \n",
      " \n",
      "Command completed. Please check Errors.txt for details.\n",
      "Choosing default directory for output...\n",
      "Out directory is set to /home/vaishakprasad/NR/waveforms\n",
      "Joining Horizon h5 files...\n",
      "Running command\n",
      " JoinH5 -o /home/vaishakprasad/NR/waveforms/joined/ICTSEccParallel01Lev3JoinedHorizons.h5 /mnt/sonic/sims/SpEC/gcc/bfi/ICTSEccParallel/ICTSEccParallel01/Ecc0/Ev/Lev3*/Run/ApparentHorizons/Horizons.h5 /mnt/sonic/sims/SpEC/gcc/bfi/ICTSEccParallel/ICTSEccParallel01/Ecc0/Ev/Lev3_Ringdown/Lev3*/Run/ApparentHorizons/Horizons.h5\n"
     ]
    },
    {
     "name": "stderr",
     "output_type": "stream",
     "text": [
      "JoinH5: error while loading shared libraries: libhdf5.so.310: cannot open shared object file: No such file or directory\n"
     ]
    },
    {
     "name": "stdout",
     "output_type": "stream",
     "text": [
      "Command output \n",
      " \n",
      "Command completed. Please check Errors.txt for details.\n",
      "Choosing default directory for output...\n",
      "Out directory is set to /home/vaishakprasad/NR/waveforms\n",
      "Joining Horizon h5 files...\n",
      "Running command\n",
      " JoinH5 -o /home/vaishakprasad/NR/waveforms/joined/ICTSEccParallel15Lev2JoinedHorizons.h5 /mnt/sonic/sims/SpEC/gcc/bfi/ICTSEccParallel/ICTSEccParallel15/Ecc0/Ev/Lev2*/Run/ApparentHorizons/Horizons.h5 /mnt/sonic/sims/SpEC/gcc/bfi/ICTSEccParallel/ICTSEccParallel15/Ecc0/Ev/Lev2_Ringdown/Lev2*/Run/ApparentHorizons/Horizons.h5\n"
     ]
    },
    {
     "name": "stderr",
     "output_type": "stream",
     "text": [
      "JoinH5: error while loading shared libraries: libhdf5.so.310: cannot open shared object file: No such file or directory\n"
     ]
    },
    {
     "name": "stdout",
     "output_type": "stream",
     "text": [
      "Command output \n",
      " \n",
      "Command completed. Please check Errors.txt for details.\n",
      "Choosing default directory for output...\n",
      "Out directory is set to /home/vaishakprasad/NR/waveforms\n",
      "Joining Horizon h5 files...\n",
      "Running command\n",
      " JoinH5 -o /home/vaishakprasad/NR/waveforms/joined/ICTSEccParallel15Lev3JoinedHorizons.h5 /mnt/sonic/sims/SpEC/gcc/bfi/ICTSEccParallel/ICTSEccParallel15/Ecc0/Ev/Lev3*/Run/ApparentHorizons/Horizons.h5 /mnt/sonic/sims/SpEC/gcc/bfi/ICTSEccParallel/ICTSEccParallel15/Ecc0/Ev/Lev3_Ringdown/Lev3*/Run/ApparentHorizons/Horizons.h5\n"
     ]
    },
    {
     "name": "stderr",
     "output_type": "stream",
     "text": [
      "JoinH5: error while loading shared libraries: libhdf5.so.310: cannot open shared object file: No such file or directory\n"
     ]
    },
    {
     "name": "stdout",
     "output_type": "stream",
     "text": [
      "Command output \n",
      " \n",
      "Command completed. Please check Errors.txt for details.\n",
      "Choosing default directory for output...\n",
      "Out directory is set to /home/vaishakprasad/NR/waveforms\n",
      "Joining Horizon h5 files...\n",
      "Running command\n",
      " JoinH5 -o /home/vaishakprasad/NR/waveforms/joined/ICTSEccParallel10Lev2JoinedHorizons.h5 /mnt/sonic/sims/SpEC/gcc/bfi/ICTSEccParallel/ICTSEccParallel10/Ecc0/Ev/Lev2*/Run/ApparentHorizons/Horizons.h5 /mnt/sonic/sims/SpEC/gcc/bfi/ICTSEccParallel/ICTSEccParallel10/Ecc0/Ev/Lev2_Ringdown/Lev2*/Run/ApparentHorizons/Horizons.h5\n"
     ]
    },
    {
     "name": "stderr",
     "output_type": "stream",
     "text": [
      "JoinH5: error while loading shared libraries: libhdf5.so.310: cannot open shared object file: No such file or directory\n"
     ]
    },
    {
     "name": "stdout",
     "output_type": "stream",
     "text": [
      "Command output \n",
      " \n",
      "Command completed. Please check Errors.txt for details.\n",
      "Choosing default directory for output...\n",
      "Out directory is set to /home/vaishakprasad/NR/waveforms\n",
      "Joining Horizon h5 files...\n",
      "Running command\n",
      " JoinH5 -o /home/vaishakprasad/NR/waveforms/joined/ICTSEccParallel10Lev3JoinedHorizons.h5 /mnt/sonic/sims/SpEC/gcc/bfi/ICTSEccParallel/ICTSEccParallel10/Ecc0/Ev/Lev3*/Run/ApparentHorizons/Horizons.h5 /mnt/sonic/sims/SpEC/gcc/bfi/ICTSEccParallel/ICTSEccParallel10/Ecc0/Ev/Lev3_Ringdown/Lev3*/Run/ApparentHorizons/Horizons.h5\n",
      "Command output \n",
      " \n",
      "Command completed. Please check Errors.txt for details.\n",
      "Choosing default directory for output...\n",
      "Out directory is set to /home/vaishakprasad/NR/waveforms\n",
      "Joining Horizon h5 files...\n",
      "Running command\n",
      " JoinH5 -o /home/vaishakprasad/NR/waveforms/joined/ICTSEccParallel02Lev2JoinedHorizons.h5 /mnt/sonic/sims/SpEC/gcc/bfi/ICTSEccParallel/ICTSEccParallel02/Ecc0/Ev/Lev2*/Run/ApparentHorizons/Horizons.h5 /mnt/sonic/sims/SpEC/gcc/bfi/ICTSEccParallel/ICTSEccParallel02/Ecc0/Ev/Lev2_Ringdown/Lev2*/Run/ApparentHorizons/Horizons.h5\n"
     ]
    },
    {
     "name": "stderr",
     "output_type": "stream",
     "text": [
      "JoinH5: error while loading shared libraries: libhdf5.so.310: cannot open shared object file: No such file or directory\n",
      "JoinH5: error while loading shared libraries: libhdf5.so.310: cannot open shared object file: No such file or directory\n"
     ]
    },
    {
     "name": "stdout",
     "output_type": "stream",
     "text": [
      "Command output \n",
      " \n",
      "Command completed. Please check Errors.txt for details.\n",
      "Choosing default directory for output...\n",
      "Out directory is set to /home/vaishakprasad/NR/waveforms\n",
      "Joining Horizon h5 files...\n",
      "Running command\n",
      " JoinH5 -o /home/vaishakprasad/NR/waveforms/joined/ICTSEccParallel02Lev3JoinedHorizons.h5 /mnt/sonic/sims/SpEC/gcc/bfi/ICTSEccParallel/ICTSEccParallel02/Ecc0/Ev/Lev3*/Run/ApparentHorizons/Horizons.h5 /mnt/sonic/sims/SpEC/gcc/bfi/ICTSEccParallel/ICTSEccParallel02/Ecc0/Ev/Lev3_Ringdown/Lev3*/Run/ApparentHorizons/Horizons.h5\n"
     ]
    },
    {
     "name": "stderr",
     "output_type": "stream",
     "text": [
      "JoinH5: error while loading shared libraries: libhdf5.so.310: cannot open shared object file: No such file or directory\n"
     ]
    },
    {
     "name": "stdout",
     "output_type": "stream",
     "text": [
      "Command output \n",
      " \n",
      "Command completed. Please check Errors.txt for details.\n",
      "Choosing default directory for output...\n",
      "Out directory is set to /home/vaishakprasad/NR/waveforms\n",
      "Joining Horizon h5 files...\n",
      "Running command\n",
      " JoinH5 -o /home/vaishakprasad/NR/waveforms/joined/ICTSEccParallel06Lev2JoinedHorizons.h5 /mnt/sonic/sims/SpEC/gcc/bfi/ICTSEccParallel/ICTSEccParallel06/Ecc0/Ev/Lev2*/Run/ApparentHorizons/Horizons.h5 /mnt/sonic/sims/SpEC/gcc/bfi/ICTSEccParallel/ICTSEccParallel06/Ecc0/Ev/Lev2_Ringdown/Lev2*/Run/ApparentHorizons/Horizons.h5\n"
     ]
    },
    {
     "name": "stderr",
     "output_type": "stream",
     "text": [
      "JoinH5: error while loading shared libraries: libhdf5.so.310: cannot open shared object file: No such file or directory\n"
     ]
    },
    {
     "name": "stdout",
     "output_type": "stream",
     "text": [
      "Command output \n",
      " \n",
      "Command completed. Please check Errors.txt for details.\n",
      "Choosing default directory for output...\n",
      "Out directory is set to /home/vaishakprasad/NR/waveforms\n",
      "Joining Horizon h5 files...\n",
      "Running command\n",
      " JoinH5 -o /home/vaishakprasad/NR/waveforms/joined/ICTSEccParallel06Lev3JoinedHorizons.h5 /mnt/sonic/sims/SpEC/gcc/bfi/ICTSEccParallel/ICTSEccParallel06/Ecc0/Ev/Lev3*/Run/ApparentHorizons/Horizons.h5 /mnt/sonic/sims/SpEC/gcc/bfi/ICTSEccParallel/ICTSEccParallel06/Ecc0/Ev/Lev3_Ringdown/Lev3*/Run/ApparentHorizons/Horizons.h5\n"
     ]
    },
    {
     "name": "stderr",
     "output_type": "stream",
     "text": [
      "JoinH5: error while loading shared libraries: libhdf5.so.310: cannot open shared object file: No such file or directory\n"
     ]
    },
    {
     "name": "stdout",
     "output_type": "stream",
     "text": [
      "Command output \n",
      " \n",
      "Command completed. Please check Errors.txt for details.\n",
      "Choosing default directory for output...\n",
      "Out directory is set to /home/vaishakprasad/NR/waveforms\n",
      "Joining Horizon h5 files...\n",
      "Running command\n",
      " JoinH5 -o /home/vaishakprasad/NR/waveforms/joined/ICTSEccParallel09Lev3JoinedHorizons.h5 /mnt/sonic/sims/SpEC/gcc/bfi/ICTSEccParallel/ICTSEccParallel09/Ecc0/Ev/Lev3*/Run/ApparentHorizons/Horizons.h5 /mnt/sonic/sims/SpEC/gcc/bfi/ICTSEccParallel/ICTSEccParallel09/Ecc0/Ev/Lev3_Ringdown/Lev3*/Run/ApparentHorizons/Horizons.h5\n"
     ]
    },
    {
     "name": "stderr",
     "output_type": "stream",
     "text": [
      "JoinH5: error while loading shared libraries: libhdf5.so.310: cannot open shared object file: No such file or directory\n"
     ]
    },
    {
     "name": "stdout",
     "output_type": "stream",
     "text": [
      "Command output \n",
      " \n",
      "Command completed. Please check Errors.txt for details.\n",
      "Choosing default directory for output...\n",
      "Out directory is set to /home/vaishakprasad/NR/waveforms\n",
      "Joining Horizon h5 files...\n",
      "Running command\n",
      " JoinH5 -o /home/vaishakprasad/NR/waveforms/joined/ICTSEccParallel17Lev2JoinedHorizons.h5 /mnt/sonic/sims/SpEC/gcc/bfi/ICTSEccParallel/ICTSEccParallel17/Ecc0/Ev/Lev2*/Run/ApparentHorizons/Horizons.h5 /mnt/sonic/sims/SpEC/gcc/bfi/ICTSEccParallel/ICTSEccParallel17/Ecc0/Ev/Lev2_Ringdown/Lev2*/Run/ApparentHorizons/Horizons.h5\n"
     ]
    },
    {
     "name": "stderr",
     "output_type": "stream",
     "text": [
      "JoinH5: error while loading shared libraries: libhdf5.so.310: cannot open shared object file: No such file or directory\n"
     ]
    },
    {
     "name": "stdout",
     "output_type": "stream",
     "text": [
      "Command output \n",
      " \n",
      "Command completed. Please check Errors.txt for details.\n",
      "Choosing default directory for output...\n",
      "Out directory is set to /home/vaishakprasad/NR/waveforms\n",
      "Joining Horizon h5 files...\n",
      "Running command\n",
      " JoinH5 -o /home/vaishakprasad/NR/waveforms/joined/ICTSEccParallel17Lev3JoinedHorizons.h5 /mnt/sonic/sims/SpEC/gcc/bfi/ICTSEccParallel/ICTSEccParallel17/Ecc0/Ev/Lev3*/Run/ApparentHorizons/Horizons.h5 /mnt/sonic/sims/SpEC/gcc/bfi/ICTSEccParallel/ICTSEccParallel17/Ecc0/Ev/Lev3_Ringdown/Lev3*/Run/ApparentHorizons/Horizons.h5\n"
     ]
    },
    {
     "name": "stderr",
     "output_type": "stream",
     "text": [
      "JoinH5: error while loading shared libraries: libhdf5.so.310: cannot open shared object file: No such file or directory\n"
     ]
    },
    {
     "name": "stdout",
     "output_type": "stream",
     "text": [
      "Command output \n",
      " \n",
      "Command completed. Please check Errors.txt for details.\n",
      "Choosing default directory for output...\n",
      "Out directory is set to /home/vaishakprasad/NR/waveforms\n",
      "Joining Horizon h5 files...\n",
      "Running command\n",
      " JoinH5 -o /home/vaishakprasad/NR/waveforms/joined/ICTSEccParallel11Lev3JoinedHorizons.h5 /mnt/sonic/sims/SpEC/gcc/bfi/ICTSEccParallel/ICTSEccParallel11/Ecc0/Ev/Lev3*/Run/ApparentHorizons/Horizons.h5 /mnt/sonic/sims/SpEC/gcc/bfi/ICTSEccParallel/ICTSEccParallel11/Ecc0/Ev/Lev3_Ringdown/Lev3*/Run/ApparentHorizons/Horizons.h5\n"
     ]
    },
    {
     "name": "stderr",
     "output_type": "stream",
     "text": [
      "JoinH5: error while loading shared libraries: libhdf5.so.310: cannot open shared object file: No such file or directory\n"
     ]
    },
    {
     "name": "stdout",
     "output_type": "stream",
     "text": [
      "Command output \n",
      " \n",
      "Command completed. Please check Errors.txt for details.\n",
      "Choosing default directory for output...\n",
      "Out directory is set to /home/vaishakprasad/NR/waveforms\n",
      "Joining Horizon h5 files...\n",
      "Running command\n",
      " JoinH5 -o /home/vaishakprasad/NR/waveforms/joined/ICTSEccParallel04Lev2JoinedHorizons.h5 /mnt/sonic/sims/SpEC/gcc/bfi/ICTSEccParallel/ICTSEccParallel04/Ecc0/Ev/Lev2*/Run/ApparentHorizons/Horizons.h5 /mnt/sonic/sims/SpEC/gcc/bfi/ICTSEccParallel/ICTSEccParallel04/Ecc0/Ev/Lev2_Ringdown/Lev2*/Run/ApparentHorizons/Horizons.h5\n"
     ]
    },
    {
     "name": "stderr",
     "output_type": "stream",
     "text": [
      "JoinH5: error while loading shared libraries: libhdf5.so.310: cannot open shared object file: No such file or directory\n"
     ]
    },
    {
     "name": "stdout",
     "output_type": "stream",
     "text": [
      "Command output \n",
      " \n",
      "Command completed. Please check Errors.txt for details.\n",
      "Choosing default directory for output...\n",
      "Out directory is set to /home/vaishakprasad/NR/waveforms\n",
      "Joining Horizon h5 files...\n",
      "Running command\n",
      " JoinH5 -o /home/vaishakprasad/NR/waveforms/joined/ICTSEccParallel04Lev3JoinedHorizons.h5 /mnt/sonic/sims/SpEC/gcc/bfi/ICTSEccParallel/ICTSEccParallel04/Ecc0/Ev/Lev3*/Run/ApparentHorizons/Horizons.h5 /mnt/sonic/sims/SpEC/gcc/bfi/ICTSEccParallel/ICTSEccParallel04/Ecc0/Ev/Lev3_Ringdown/Lev3*/Run/ApparentHorizons/Horizons.h5\n"
     ]
    },
    {
     "name": "stderr",
     "output_type": "stream",
     "text": [
      "JoinH5: error while loading shared libraries: libhdf5.so.310: cannot open shared object file: No such file or directory\n"
     ]
    },
    {
     "name": "stdout",
     "output_type": "stream",
     "text": [
      "Command output \n",
      " \n",
      "Command completed. Please check Errors.txt for details.\n",
      "Choosing default directory for output...\n",
      "Out directory is set to /home/vaishakprasad/NR/waveforms\n",
      "Joining Horizon h5 files...\n",
      "Running command\n",
      " JoinH5 -o /home/vaishakprasad/NR/waveforms/joined/ICTSEccParallel03Lev2JoinedHorizons.h5 /mnt/sonic/sims/SpEC/gcc/bfi/ICTSEccParallel/ICTSEccParallel03/Ecc0/Ev/Lev2*/Run/ApparentHorizons/Horizons.h5 /mnt/sonic/sims/SpEC/gcc/bfi/ICTSEccParallel/ICTSEccParallel03/Ecc0/Ev/Lev2_Ringdown/Lev2*/Run/ApparentHorizons/Horizons.h5\n"
     ]
    },
    {
     "name": "stderr",
     "output_type": "stream",
     "text": [
      "JoinH5: error while loading shared libraries: libhdf5.so.310: cannot open shared object file: No such file or directory\n"
     ]
    },
    {
     "name": "stdout",
     "output_type": "stream",
     "text": [
      "Command output \n",
      " \n",
      "Command completed. Please check Errors.txt for details.\n",
      "Choosing default directory for output...\n",
      "Out directory is set to /home/vaishakprasad/NR/waveforms\n",
      "Joining Horizon h5 files...\n",
      "Running command\n",
      " JoinH5 -o /home/vaishakprasad/NR/waveforms/joined/ICTSEccParallel03Lev3JoinedHorizons.h5 /mnt/sonic/sims/SpEC/gcc/bfi/ICTSEccParallel/ICTSEccParallel03/Ecc0/Ev/Lev3*/Run/ApparentHorizons/Horizons.h5 /mnt/sonic/sims/SpEC/gcc/bfi/ICTSEccParallel/ICTSEccParallel03/Ecc0/Ev/Lev3_Ringdown/Lev3*/Run/ApparentHorizons/Horizons.h5\n"
     ]
    },
    {
     "name": "stderr",
     "output_type": "stream",
     "text": [
      "JoinH5: error while loading shared libraries: libhdf5.so.310: cannot open shared object file: No such file or directory\n"
     ]
    },
    {
     "name": "stdout",
     "output_type": "stream",
     "text": [
      "Command output \n",
      " \n",
      "Command completed. Please check Errors.txt for details.\n",
      "Choosing default directory for output...\n",
      "Out directory is set to /home/vaishakprasad/NR/waveforms\n",
      "Joining Horizon h5 files...\n",
      "Running command\n",
      " JoinH5 -o /home/vaishakprasad/NR/waveforms/joined/ICTSEccParallel08Lev2JoinedHorizons.h5 /mnt/sonic/sims/SpEC/gcc/bfi/ICTSEccParallel/ICTSEccParallel08/Ecc0/Ev/Lev2*/Run/ApparentHorizons/Horizons.h5 /mnt/sonic/sims/SpEC/gcc/bfi/ICTSEccParallel/ICTSEccParallel08/Ecc0/Ev/Lev2_Ringdown/Lev2*/Run/ApparentHorizons/Horizons.h5\n"
     ]
    },
    {
     "name": "stderr",
     "output_type": "stream",
     "text": [
      "JoinH5: error while loading shared libraries: libhdf5.so.310: cannot open shared object file: No such file or directory\n"
     ]
    },
    {
     "name": "stdout",
     "output_type": "stream",
     "text": [
      "Command output \n",
      " \n",
      "Command completed. Please check Errors.txt for details.\n",
      "Choosing default directory for output...\n",
      "Out directory is set to /home/vaishakprasad/NR/waveforms\n",
      "Joining Horizon h5 files...\n",
      "Running command\n",
      " JoinH5 -o /home/vaishakprasad/NR/waveforms/joined/ICTSEccParallel08Lev3JoinedHorizons.h5 /mnt/sonic/sims/SpEC/gcc/bfi/ICTSEccParallel/ICTSEccParallel08/Ecc0/Ev/Lev3*/Run/ApparentHorizons/Horizons.h5 /mnt/sonic/sims/SpEC/gcc/bfi/ICTSEccParallel/ICTSEccParallel08/Ecc0/Ev/Lev3_Ringdown/Lev3*/Run/ApparentHorizons/Horizons.h5\n"
     ]
    },
    {
     "name": "stderr",
     "output_type": "stream",
     "text": [
      "JoinH5: error while loading shared libraries: libhdf5.so.310: cannot open shared object file: No such file or directory\n"
     ]
    },
    {
     "name": "stdout",
     "output_type": "stream",
     "text": [
      "Command output \n",
      " \n",
      "Command completed. Please check Errors.txt for details.\n",
      "Choosing default directory for output...\n",
      "Out directory is set to /home/vaishakprasad/NR/waveforms\n",
      "Joining Horizon h5 files...\n",
      "Running command\n",
      " JoinH5 -o /home/vaishakprasad/NR/waveforms/joined/ICTSEccParallel07Lev2JoinedHorizons.h5 /mnt/sonic/sims/SpEC/gcc/bfi/ICTSEccParallel/ICTSEccParallel07/Ecc0/Ev/Lev2*/Run/ApparentHorizons/Horizons.h5 /mnt/sonic/sims/SpEC/gcc/bfi/ICTSEccParallel/ICTSEccParallel07/Ecc0/Ev/Lev2_Ringdown/Lev2*/Run/ApparentHorizons/Horizons.h5\n"
     ]
    },
    {
     "name": "stderr",
     "output_type": "stream",
     "text": [
      "JoinH5: error while loading shared libraries: libhdf5.so.310: cannot open shared object file: No such file or directory\n"
     ]
    },
    {
     "name": "stdout",
     "output_type": "stream",
     "text": [
      "Command output \n",
      " \n",
      "Command completed. Please check Errors.txt for details.\n",
      "Choosing default directory for output...\n",
      "Out directory is set to /home/vaishakprasad/NR/waveforms\n",
      "Joining Horizon h5 files...\n",
      "Running command\n",
      " JoinH5 -o /home/vaishakprasad/NR/waveforms/joined/ICTSEccParallel07Lev3JoinedHorizons.h5 /mnt/sonic/sims/SpEC/gcc/bfi/ICTSEccParallel/ICTSEccParallel07/Ecc0/Ev/Lev3*/Run/ApparentHorizons/Horizons.h5 /mnt/sonic/sims/SpEC/gcc/bfi/ICTSEccParallel/ICTSEccParallel07/Ecc0/Ev/Lev3_Ringdown/Lev3*/Run/ApparentHorizons/Horizons.h5\n"
     ]
    },
    {
     "name": "stderr",
     "output_type": "stream",
     "text": [
      "JoinH5: error while loading shared libraries: libhdf5.so.310: cannot open shared object file: No such file or directory\n"
     ]
    },
    {
     "name": "stdout",
     "output_type": "stream",
     "text": [
      "Command output \n",
      " \n",
      "Command completed. Please check Errors.txt for details.\n",
      "Choosing default directory for output...\n",
      "Out directory is set to /home/vaishakprasad/NR/waveforms\n",
      "Joining Horizon h5 files...\n",
      "Running command\n",
      " JoinH5 -o /home/vaishakprasad/NR/waveforms/joined/ICTSEccParallel05Lev2JoinedHorizons.h5 /mnt/sonic/sims/SpEC/gcc/bfi/ICTSEccParallel/ICTSEccParallel05/Ecc0/Ev/Lev2*/Run/ApparentHorizons/Horizons.h5 /mnt/sonic/sims/SpEC/gcc/bfi/ICTSEccParallel/ICTSEccParallel05/Ecc0/Ev/Lev2_Ringdown/Lev2*/Run/ApparentHorizons/Horizons.h5\n"
     ]
    },
    {
     "name": "stderr",
     "output_type": "stream",
     "text": [
      "JoinH5: error while loading shared libraries: libhdf5.so.310: cannot open shared object file: No such file or directory\n"
     ]
    },
    {
     "name": "stdout",
     "output_type": "stream",
     "text": [
      "Command output \n",
      " \n",
      "Command completed. Please check Errors.txt for details.\n",
      "Choosing default directory for output...\n",
      "Out directory is set to /home/vaishakprasad/NR/waveforms\n",
      "Joining Horizon h5 files...\n",
      "Running command\n",
      " JoinH5 -o /home/vaishakprasad/NR/waveforms/joined/ICTSEccParallel05Lev3JoinedHorizons.h5 /mnt/sonic/sims/SpEC/gcc/bfi/ICTSEccParallel/ICTSEccParallel05/Ecc0/Ev/Lev3*/Run/ApparentHorizons/Horizons.h5 /mnt/sonic/sims/SpEC/gcc/bfi/ICTSEccParallel/ICTSEccParallel05/Ecc0/Ev/Lev3_Ringdown/Lev3*/Run/ApparentHorizons/Horizons.h5\n"
     ]
    },
    {
     "name": "stderr",
     "output_type": "stream",
     "text": [
      "JoinH5: error while loading shared libraries: libhdf5.so.310: cannot open shared object file: No such file or directory\n"
     ]
    },
    {
     "name": "stdout",
     "output_type": "stream",
     "text": [
      "Command output \n",
      " \n",
      "Command completed. Please check Errors.txt for details.\n",
      "Choosing default directory for output...\n",
      "Out directory is set to /home/vaishakprasad/NR/waveforms\n",
      "Joining Horizon h5 files...\n",
      "Running command\n",
      " JoinH5 -o /home/vaishakprasad/NR/waveforms/joined/ICTSEccParallel14Lev2JoinedHorizons.h5 /mnt/sonic/sims/SpEC/gcc/bfi/ICTSEccParallel/ICTSEccParallel14/Ecc0/Ev/Lev2*/Run/ApparentHorizons/Horizons.h5 /mnt/sonic/sims/SpEC/gcc/bfi/ICTSEccParallel/ICTSEccParallel14/Ecc0/Ev/Lev2_Ringdown/Lev2*/Run/ApparentHorizons/Horizons.h5\n"
     ]
    },
    {
     "name": "stderr",
     "output_type": "stream",
     "text": [
      "JoinH5: error while loading shared libraries: libhdf5.so.310: cannot open shared object file: No such file or directory\n"
     ]
    },
    {
     "name": "stdout",
     "output_type": "stream",
     "text": [
      "Command output \n",
      " \n",
      "Command completed. Please check Errors.txt for details.\n",
      "Choosing default directory for output...\n",
      "Out directory is set to /home/vaishakprasad/NR/waveforms\n",
      "Joining Horizon h5 files...\n",
      "Running command\n",
      " JoinH5 -o /home/vaishakprasad/NR/waveforms/joined/ICTSEccParallel14Lev3JoinedHorizons.h5 /mnt/sonic/sims/SpEC/gcc/bfi/ICTSEccParallel/ICTSEccParallel14/Ecc0/Ev/Lev3*/Run/ApparentHorizons/Horizons.h5 /mnt/sonic/sims/SpEC/gcc/bfi/ICTSEccParallel/ICTSEccParallel14/Ecc0/Ev/Lev3_Ringdown/Lev3*/Run/ApparentHorizons/Horizons.h5\n"
     ]
    },
    {
     "name": "stderr",
     "output_type": "stream",
     "text": [
      "JoinH5: error while loading shared libraries: libhdf5.so.310: cannot open shared object file: No such file or directory\n"
     ]
    },
    {
     "name": "stdout",
     "output_type": "stream",
     "text": [
      "Command output \n",
      " \n",
      "Command completed. Please check Errors.txt for details.\n",
      "Choosing default directory for output...\n",
      "Out directory is set to /home/vaishakprasad/NR/waveforms\n",
      "Joining Horizon h5 files...\n",
      "Running command\n",
      " JoinH5 -o /home/vaishakprasad/NR/waveforms/joined/ICTSEccParallel16Lev2JoinedHorizons.h5 /mnt/sonic/sims/SpEC/gcc/bfi/ICTSEccParallel/ICTSEccParallel16/Ecc0/Ev/Lev2*/Run/ApparentHorizons/Horizons.h5 /mnt/sonic/sims/SpEC/gcc/bfi/ICTSEccParallel/ICTSEccParallel16/Ecc0/Ev/Lev2_Ringdown/Lev2*/Run/ApparentHorizons/Horizons.h5\n"
     ]
    },
    {
     "name": "stderr",
     "output_type": "stream",
     "text": [
      "JoinH5: error while loading shared libraries: libhdf5.so.310: cannot open shared object file: No such file or directory\n"
     ]
    },
    {
     "name": "stdout",
     "output_type": "stream",
     "text": [
      "Command output \n",
      " \n",
      "Command completed. Please check Errors.txt for details.\n",
      "Choosing default directory for output...\n",
      "Out directory is set to /home/vaishakprasad/NR/waveforms\n",
      "Joining Horizon h5 files...\n",
      "Running command\n",
      " JoinH5 -o /home/vaishakprasad/NR/waveforms/joined/ICTSEccParallel16Lev3JoinedHorizons.h5 /mnt/sonic/sims/SpEC/gcc/bfi/ICTSEccParallel/ICTSEccParallel16/Ecc0/Ev/Lev3*/Run/ApparentHorizons/Horizons.h5 /mnt/sonic/sims/SpEC/gcc/bfi/ICTSEccParallel/ICTSEccParallel16/Ecc0/Ev/Lev3_Ringdown/Lev3*/Run/ApparentHorizons/Horizons.h5\n"
     ]
    },
    {
     "name": "stderr",
     "output_type": "stream",
     "text": [
      "JoinH5: error while loading shared libraries: libhdf5.so.310: cannot open shared object file: No such file or directory\n"
     ]
    },
    {
     "name": "stdout",
     "output_type": "stream",
     "text": [
      "Command output \n",
      " \n",
      "Command completed. Please check Errors.txt for details.\n",
      "ICTSEccParallel13\n",
      "<KeysViewHDF5 ['R0169.dir', 'R0174.dir', 'R0181.dir', 'R0188.dir', 'R0195.dir', 'R0203.dir', 'R0211.dir', 'R0221.dir', 'R0231.dir', 'R0242.dir', 'R0255.dir', 'R0268.dir', 'R0284.dir', 'R0301.dir', 'R0320.dir', 'R0342.dir', 'R0367.dir', 'R0396.dir', 'R0430.dir', 'R0470.dir', 'R0519.dir', 'R0580.dir', 'R0656.dir', 'R0755.dir', 'VersionHist.ver']>\n",
      "338\n",
      "ICTSEccParallel12\n",
      "<KeysViewHDF5 ['R0169.dir', 'R0174.dir', 'R0181.dir', 'R0188.dir', 'R0195.dir', 'R0203.dir', 'R0211.dir', 'R0221.dir', 'R0231.dir', 'R0242.dir', 'R0255.dir', 'R0268.dir', 'R0284.dir', 'R0301.dir', 'R0320.dir', 'R0342.dir', 'R0367.dir', 'R0396.dir', 'R0430.dir', 'R0470.dir', 'R0519.dir', 'R0580.dir', 'R0656.dir', 'R0755.dir', 'VersionHist.ver']>\n",
      "338\n",
      "ICTSEccParallel01\n",
      "<KeysViewHDF5 ['R0154.dir', 'R0159.dir', 'R0165.dir', 'R0171.dir', 'R0178.dir', 'R0185.dir', 'R0193.dir', 'R0201.dir', 'R0211.dir', 'R0221.dir', 'R0232.dir', 'R0245.dir', 'R0258.dir', 'R0274.dir', 'R0292.dir', 'R0312.dir', 'R0335.dir', 'R0361.dir', 'R0392.dir', 'R0429.dir', 'R0474.dir', 'R0529.dir', 'R0599.dir', 'R0690.dir', 'VersionHist.ver']>\n",
      "308\n",
      "ICTSEccParallel15\n",
      "<KeysViewHDF5 ['R0169.dir', 'R0174.dir', 'R0181.dir', 'R0188.dir', 'R0195.dir', 'R0203.dir', 'R0211.dir', 'R0221.dir', 'R0231.dir', 'R0242.dir', 'R0255.dir', 'R0268.dir', 'R0284.dir', 'R0301.dir', 'R0320.dir', 'R0342.dir', 'R0367.dir', 'R0396.dir', 'R0430.dir', 'R0470.dir', 'R0519.dir', 'R0580.dir', 'R0656.dir', 'R0755.dir', 'VersionHist.ver']>\n",
      "338\n",
      "ICTSEccParallel10\n",
      "<KeysViewHDF5 ['R0142.dir', 'R0146.dir', 'R0152.dir', 'R0158.dir', 'R0164.dir', 'R0170.dir', 'R0178.dir', 'R0185.dir', 'R0194.dir', 'R0203.dir', 'R0214.dir', 'R0225.dir', 'R0238.dir', 'R0253.dir', 'R0269.dir', 'R0287.dir', 'R0308.dir', 'R0333.dir', 'R0361.dir', 'R0395.dir', 'R0437.dir', 'R0487.dir', 'R0551.dir', 'R0635.dir', 'VersionHist.ver']>\n",
      "284\n",
      "ICTSEccParallel02\n",
      "<KeysViewHDF5 ['R0195.dir', 'R0201.dir', 'R0209.dir', 'R0216.dir', 'R0225.dir', 'R0234.dir', 'R0244.dir', 'R0255.dir', 'R0267.dir', 'R0280.dir', 'R0294.dir', 'R0310.dir', 'R0327.dir', 'R0347.dir', 'R0370.dir', 'R0395.dir', 'R0424.dir', 'R0458.dir', 'R0497.dir', 'R0544.dir', 'R0601.dir', 'R0671.dir', 'R0759.dir', 'R0875.dir', 'VersionHist.ver']>\n",
      "390\n",
      "ICTSEccParallel06\n",
      "<KeysViewHDF5 ['R0100.dir', 'R0103.dir', 'R0107.dir', 'R0111.dir', 'R0116.dir', 'R0121.dir', 'R0126.dir', 'R0132.dir', 'R0139.dir', 'R0146.dir', 'R0154.dir', 'R0163.dir', 'R0173.dir', 'R0185.dir', 'R0198.dir', 'R0213.dir', 'R0230.dir', 'R0251.dir', 'R0275.dir', 'R0305.dir', 'R0343.dir', 'R0390.dir', 'R0453.dir', 'R0540.dir', 'VersionHist.ver']>\n",
      "200\n",
      "ICTSEccParallel09\n",
      "<KeysViewHDF5 ['R0441.dir', 'R0457.dir', 'R0474.dir', 'R0491.dir', 'R0511.dir', 'R0531.dir', 'R0554.dir', 'R0578.dir', 'R0605.dir', 'R0635.dir', 'R0667.dir', 'R0703.dir', 'R0743.dir', 'R0787.dir', 'R0838.dir', 'R0895.dir', 'R0961.dir', 'R1037.dir', 'R1127.dir', 'R1233.dir', 'R1361.dir', 'R1520.dir', 'R1719.dir', 'R1980.dir', 'VersionHist.ver']>\n",
      "882\n",
      "ICTSEccParallel17\n",
      "<KeysViewHDF5 ['R0169.dir', 'R0174.dir', 'R0181.dir', 'R0188.dir', 'R0195.dir', 'R0203.dir', 'R0211.dir', 'R0221.dir', 'R0231.dir', 'R0242.dir', 'R0255.dir', 'R0268.dir', 'R0284.dir', 'R0301.dir', 'R0320.dir', 'R0342.dir', 'R0367.dir', 'R0396.dir', 'R0430.dir', 'R0470.dir', 'R0519.dir', 'R0580.dir', 'R0656.dir', 'R0755.dir', 'VersionHist.ver']>\n",
      "338\n",
      "ICTSEccParallel11\n",
      "<KeysViewHDF5 ['R0169.dir', 'R0174.dir', 'R0181.dir', 'R0188.dir', 'R0195.dir', 'R0203.dir', 'R0211.dir', 'R0221.dir', 'R0231.dir', 'R0242.dir', 'R0255.dir', 'R0268.dir', 'R0284.dir', 'R0301.dir', 'R0320.dir', 'R0342.dir', 'R0367.dir', 'R0396.dir', 'R0430.dir', 'R0470.dir', 'R0519.dir', 'R0580.dir', 'R0656.dir', 'R0755.dir', 'VersionHist.ver']>\n",
      "338\n",
      "ICTSEccParallel04\n",
      "<KeysViewHDF5 ['R0100.dir', 'R0103.dir', 'R0107.dir', 'R0111.dir', 'R0116.dir', 'R0121.dir', 'R0126.dir', 'R0132.dir', 'R0139.dir', 'R0146.dir', 'R0154.dir', 'R0163.dir', 'R0173.dir', 'R0185.dir', 'R0198.dir', 'R0213.dir', 'R0230.dir', 'R0251.dir', 'R0275.dir', 'R0305.dir', 'R0343.dir', 'R0390.dir', 'R0453.dir', 'R0540.dir', 'VersionHist.ver']>\n",
      "200\n",
      "ICTSEccParallel03\n",
      "<KeysViewHDF5 ['R0100.dir', 'R0103.dir', 'R0107.dir', 'R0111.dir', 'R0116.dir', 'R0121.dir', 'R0126.dir', 'R0132.dir', 'R0139.dir', 'R0146.dir', 'R0154.dir', 'R0163.dir', 'R0173.dir', 'R0185.dir', 'R0198.dir', 'R0213.dir', 'R0230.dir', 'R0251.dir', 'R0275.dir', 'R0305.dir', 'R0343.dir', 'R0390.dir', 'R0453.dir', 'R0540.dir', 'VersionHist.ver']>\n",
      "200\n",
      "ICTSEccParallel08\n",
      "<KeysViewHDF5 ['R0100.dir', 'R0103.dir', 'R0107.dir', 'R0111.dir', 'R0116.dir', 'R0121.dir', 'R0126.dir', 'R0132.dir', 'R0139.dir', 'R0146.dir', 'R0154.dir', 'R0163.dir', 'R0173.dir', 'R0185.dir', 'R0198.dir', 'R0213.dir', 'R0230.dir', 'R0251.dir', 'R0275.dir', 'R0305.dir', 'R0343.dir', 'R0390.dir', 'R0453.dir', 'R0540.dir', 'VersionHist.ver']>\n",
      "200\n",
      "ICTSEccParallel07\n",
      "<KeysViewHDF5 ['R0098.dir', 'R0102.dir', 'R0106.dir', 'R0110.dir', 'R0115.dir', 'R0120.dir', 'R0125.dir', 'R0131.dir', 'R0138.dir', 'R0145.dir', 'R0153.dir', 'R0162.dir', 'R0172.dir', 'R0183.dir', 'R0196.dir', 'R0211.dir', 'R0228.dir', 'R0248.dir', 'R0273.dir', 'R0302.dir', 'R0339.dir', 'R0386.dir', 'R0449.dir', 'R0535.dir', 'VersionHist.ver']>\n",
      "196\n",
      "ICTSEccParallel05\n",
      "<KeysViewHDF5 ['R0098.dir', 'R0102.dir', 'R0106.dir', 'R0110.dir', 'R0115.dir', 'R0120.dir', 'R0125.dir', 'R0131.dir', 'R0138.dir', 'R0145.dir', 'R0153.dir', 'R0162.dir', 'R0172.dir', 'R0183.dir', 'R0196.dir', 'R0211.dir', 'R0228.dir', 'R0248.dir', 'R0273.dir', 'R0302.dir', 'R0339.dir', 'R0386.dir', 'R0449.dir', 'R0535.dir', 'VersionHist.ver']>\n",
      "196\n",
      "ICTSEccParallel14\n",
      "<KeysViewHDF5 ['R0169.dir', 'R0174.dir', 'R0181.dir', 'R0188.dir', 'R0195.dir', 'R0203.dir', 'R0211.dir', 'R0221.dir', 'R0231.dir', 'R0242.dir', 'R0255.dir', 'R0268.dir', 'R0284.dir', 'R0301.dir', 'R0320.dir', 'R0342.dir', 'R0367.dir', 'R0396.dir', 'R0430.dir', 'R0470.dir', 'R0519.dir', 'R0580.dir', 'R0656.dir', 'R0755.dir', 'VersionHist.ver']>\n",
      "338\n",
      "ICTSEccParallel16\n",
      "<KeysViewHDF5 ['R0169.dir', 'R0174.dir', 'R0181.dir', 'R0188.dir', 'R0195.dir', 'R0203.dir', 'R0211.dir', 'R0221.dir', 'R0231.dir', 'R0242.dir', 'R0255.dir', 'R0268.dir', 'R0284.dir', 'R0301.dir', 'R0320.dir', 'R0342.dir', 'R0367.dir', 'R0396.dir', 'R0430.dir', 'R0470.dir', 'R0519.dir', 'R0580.dir', 'R0656.dir', 'R0755.dir', 'VersionHist.ver']>\n",
      "338\n",
      "0.9047567696133096 <class 'float'>\n",
      "0.09523786829335508 <class 'float'>\n",
      "-1.0630885999531651e-08 <class 'float'>\n",
      "3.124513350282327e-09 <class 'float'>\n",
      "0.49115428850065607 <class 'float'>\n",
      "-5.5315608599288535e-11 <class 'float'>\n",
      "-3.207500265518922e-10 <class 'float'>\n",
      "0.00272105214310674 <class 'float'>\n",
      "-1.2986908432206915e-08 <class 'float'>\n",
      "3.816969608846555e-09 <class 'float'>\n",
      "0.6000041549805698 <class 'float'>\n",
      "-1.2986908432206915e-08 <class 'float'>\n",
      "3.816969608846555e-09 <class 'float'>\n",
      "0.6000041549805698 <class 'float'>\n",
      "0.013603120701893045 <class 'float'>\n",
      "0.9047570721698552 <class 'float'>\n",
      "0.09523802211902434 <class 'float'>\n",
      "-4.690178596658524e-09 <class 'float'>\n",
      "1.6346751141463831e-09 <class 'float'>\n",
      "0.24557641523353832 <class 'float'>\n",
      "-2.6817728704967405e-10 <class 'float'>\n",
      "-2.714235007418261e-10 <class 'float'>\n",
      "0.0027210284281225993 <class 'float'>\n",
      "-5.729614561776848e-09 <class 'float'>\n",
      "1.996951319606489e-09 <class 'float'>\n",
      "0.3000009862638249 <class 'float'>\n",
      "-5.729614561776848e-09 <class 'float'>\n",
      "1.996951319606489e-09 <class 'float'>\n",
      "0.3000009862638249 <class 'float'>\n",
      "0.013999277317266887 <class 'float'>\n",
      "0.7499992683198797 <class 'float'>\n",
      "0.2500006687651553 <class 'float'>\n",
      "0.16694336835410012 <class 'float'>\n",
      "0.024622182785370775 <class 'float'>\n",
      "0.0001995727038813228 <class 'float'>\n",
      "0.017516589074608395 <class 'float'>\n",
      "0.006686618689715618 <class 'float'>\n",
      "5.620028414870291e-05 <class 'float'>\n",
      "0.29678878948555915 <class 'float'>\n",
      "0.04377285480344683 <class 'float'>\n",
      "0.0003547966102712401 <class 'float'>\n",
      "0.29678878948555915 <class 'float'>\n",
      "0.04377285480344683 <class 'float'>\n",
      "0.0003547966102712401 <class 'float'>\n",
      "0.01571752692239986 <class 'float'>\n",
      "0.8333353559761872 <class 'float'>\n",
      "0.16666668970517737 <class 'float'>\n",
      "8.288504480654963e-09 <class 'float'>\n",
      "-6.474456721108567e-09 <class 'float'>\n",
      "0.2083337960091549 <class 'float'>\n",
      "1.0113414908322421e-10 <class 'float'>\n",
      "-1.1446517282056965e-10 <class 'float'>\n",
      "0.00833308297177044 <class 'float'>\n",
      "1.1935388513604951e-08 <class 'float'>\n",
      "-9.323172420466042e-09 <class 'float'>\n",
      "0.29999920995239615 <class 'float'>\n",
      "1.1935388513604951e-08 <class 'float'>\n",
      "-9.323172420466042e-09 <class 'float'>\n",
      "0.29999920995239615 <class 'float'>\n",
      "0.014084638573060845 <class 'float'>\n",
      "0.9166609629596025 <class 'float'>\n",
      "0.08333363322242482 <class 'float'>\n",
      "-2.476072036697975e-09 <class 'float'>\n",
      "-3.574450403121422e-08 <class 'float'>\n",
      "-0.3361124184330066 <class 'float'>\n",
      "2.0897331052231334e-10 <class 'float'>\n",
      "-4.3006733384948715e-11 <class 'float'>\n",
      "0.0013888586416048111 <class 'float'>\n",
      "-2.946767028509306e-09 <class 'float'>\n",
      "-4.253944326679054e-08 <class 'float'>\n",
      "-0.4000065336676306 <class 'float'>\n",
      "-2.946767028509306e-09 <class 'float'>\n",
      "-4.253944326679054e-08 <class 'float'>\n",
      "-0.4000065336676306 <class 'float'>\n",
      "0.014416187692111577 <class 'float'>\n",
      "0.7142926735682508 <class 'float'>\n",
      "0.2857161815964191 <class 'float'>\n",
      "-0.022176027762015153 <class 'float'>\n",
      "-0.20918992170493061 <class 'float'>\n",
      "0.0004904947143620526 <class 'float'>\n",
      "-0.0019129017760876456 <class 'float'>\n",
      "0.03360279627007994 <class 'float'>\n",
      "-0.00019369619088132126 <class 'float'>\n",
      "-0.043464167467043305 <class 'float'>\n",
      "-0.4100042571634371 <class 'float'>\n",
      "0.0009613509071831427 <class 'float'>\n",
      "-0.043464167467043305 <class 'float'>\n",
      "-0.4100042571634371 <class 'float'>\n",
      "0.0009613509071831427 <class 'float'>\n",
      "0.015103435625099111 <class 'float'>\n",
      "0.9000159666801264 <class 'float'>\n",
      "0.09999949598822959 <class 'float'>\n",
      "0.11885678350770519 <class 'float'>\n",
      "-0.22852941897627468 <class 'float'>\n",
      "-0.15967909379871914 <class 'float'>\n",
      "-5.880212115993141e-05 <class 'float'>\n",
      "1.42124122960423e-05 <class 'float'>\n",
      "0.000998207463075114 <class 'float'>\n",
      "0.14673156345877714 <class 'float'>\n",
      "-0.2821250748430433 <class 'float'>\n",
      "-0.19712768925172772 <class 'float'>\n",
      "0.14673156345877714 <class 'float'>\n",
      "-0.2821250748430433 <class 'float'>\n",
      "-0.19712768925172772 <class 'float'>\n",
      "0.032550245060342216 <class 'float'>\n",
      "0.8333405655561947 <class 'float'>\n",
      "0.16666706268760625 <class 'float'>\n",
      "1.0346619002308197e-08 <class 'float'>\n",
      "-7.205450309541658e-10 <class 'float'>\n",
      "-0.41666727431615114 <class 'float'>\n",
      "1.9528237923409866e-10 <class 'float'>\n",
      "5.646004269056274e-10 <class 'float'>\n",
      "-0.008333128791941018 <class 'float'>\n",
      "1.4898872757478037e-08 <class 'float'>\n",
      "-1.0375668351008462e-09 <class 'float'>\n",
      "-0.5999904607347227 <class 'float'>\n",
      "1.4898872757478037e-08 <class 'float'>\n",
      "-1.0375668351008462e-09 <class 'float'>\n",
      "-0.5999904607347227 <class 'float'>\n",
      "0.015893016855277116 <class 'float'>\n",
      "0.9000049515803359 <class 'float'>\n",
      "0.10000097984521047 <class 'float'>\n",
      "-1.134037762171128e-10 <class 'float'>\n",
      "-9.980693728305411e-09 <class 'float'>\n",
      "0.405000162365308 <class 'float'>\n",
      "1.6832362887041499e-10 <class 'float'>\n",
      "1.0380446454845422e-11 <class 'float'>\n",
      "-0.003999804085021067 <class 'float'>\n",
      "-1.400031214661906e-10 <class 'float'>\n",
      "-1.232170852658018e-08 <class 'float'>\n",
      "0.49999469873826674 <class 'float'>\n",
      "-1.400031214661906e-10 <class 'float'>\n",
      "-1.232170852658018e-08 <class 'float'>\n",
      "0.49999469873826674 <class 'float'>\n",
      "0.01384434960541411 <class 'float'>\n",
      "0.6666676076182384 <class 'float'>\n",
      "0.3333334976424527 <class 'float'>\n",
      "3.8697677640761545e-09 <class 'float'>\n",
      "-5.727596011855816e-09 <class 'float'>\n",
      "0.17779592841503045 <class 'float'>\n",
      "-1.1816458007382616e-09 <class 'float'>\n",
      "-1.1734323594505878e-09 <class 'float'>\n",
      "0.022224011426659983 <class 'float'>\n",
      "8.706952890690985e-09 <class 'float'>\n",
      "-1.2887054648366937e-08 <class 'float'>\n",
      "0.40003970967904107 <class 'float'>\n",
      "8.706952890690985e-09 <class 'float'>\n",
      "-1.2887054648366937e-08 <class 'float'>\n",
      "0.40003970967904107 <class 'float'>\n",
      "0.027021127583235993 <class 'float'>\n",
      "0.7777782967981507 <class 'float'>\n",
      "0.22222260439626912 <class 'float'>\n",
      "0.10098258353182898 <class 'float'>\n",
      "0.08999231052364672 <class 'float'>\n",
      "0.00110477919659811 <class 'float'>\n",
      "0.0037053049021247013 <class 'float'>\n",
      "0.010398425950741507 <class 'float'>\n",
      "0.0002436141482071472 <class 'float'>\n",
      "0.166930170396213 <class 'float'>\n",
      "0.14876260048670964 <class 'float'>\n",
      "0.0018262652141414625 <class 'float'>\n",
      "0.166930170396213 <class 'float'>\n",
      "0.14876260048670964 <class 'float'>\n",
      "0.0018262652141414625 <class 'float'>\n",
      "0.029539814403586766 <class 'float'>\n",
      "0.8333414507111118 <class 'float'>\n",
      "0.16666731913618887 <class 'float'>\n",
      "1.5860517390866643e-07 <class 'float'>\n",
      "1.0700559886471664e-07 <class 'float'>\n",
      "0.06944111774137923 <class 'float'>\n",
      "1.006652769434774e-09 <class 'float'>\n",
      "1.4003781891663271e-09 <class 'float'>\n",
      "-0.0055549033518028845 <class 'float'>\n",
      "2.2838700103824827e-07 <class 'float'>\n",
      "1.5408506051062092e-07 <class 'float'>\n",
      "0.09999326149870902 <class 'float'>\n",
      "2.2838700103824827e-07 <class 'float'>\n",
      "1.5408506051062092e-07 <class 'float'>\n",
      "0.09999326149870902 <class 'float'>\n",
      "0.02624397899463974 <class 'float'>\n",
      "0.8889029253039051 <class 'float'>\n",
      "0.11110979081300401 <class 'float'>\n",
      "1.8625011067469728e-08 <class 'float'>\n",
      "4.3136669716244014e-08 <class 'float'>\n",
      "0.3950413939904825 <class 'float'>\n",
      "-7.255714477236613e-11 <class 'float'>\n",
      "-7.146616956174723e-11 <class 'float'>\n",
      "-0.0024688605618853623 <class 'float'>\n",
      "2.3571535191725026e-08 <class 'float'>\n",
      "5.4593123439598606e-08 <class 'float'>\n",
      "0.4999584744891 <class 'float'>\n",
      "2.3571535191725026e-08 <class 'float'>\n",
      "5.4593123439598606e-08 <class 'float'>\n",
      "0.4999584744891 <class 'float'>\n",
      "0.02921255529789235 <class 'float'>\n",
      "0.5833372724096992 <class 'float'>\n",
      "0.41666834930140306 <class 'float'>\n",
      "-3.2334123974410802e-09 <class 'float'>\n",
      "-6.6244834977302765e-09 <class 'float'>\n",
      "-0.17011862786165402 <class 'float'>\n",
      "-5.692669115415954e-10 <class 'float'>\n",
      "1.0636892677193368e-09 <class 'float'>\n",
      "0.034726022859062025 <class 'float'>\n",
      "-9.50214483724544e-09 <class 'float'>\n",
      "-1.9467606952083005e-08 <class 'float'>\n",
      "-0.49993370555954586 <class 'float'>\n",
      "-9.50214483724544e-09 <class 'float'>\n",
      "-1.9467606952083005e-08 <class 'float'>\n",
      "-0.49993370555954586 <class 'float'>\n",
      "0.03236846108467751 <class 'float'>\n",
      "0.904757679145669 <class 'float'>\n",
      "0.095238306075041 <class 'float'>\n",
      "5.395405857902819e-10 <class 'float'>\n",
      "5.512528843085295e-09 <class 'float'>\n",
      "-0.4911584522287856 <class 'float'>\n",
      "5.0390703839576255e-11 <class 'float'>\n",
      "3.899784938010452e-11 <class 'float'>\n",
      "-0.0027209473986968117 <class 'float'>\n",
      "6.591125232223672e-10 <class 'float'>\n",
      "6.734204786059058e-09 <class 'float'>\n",
      "-0.6000080351255351 <class 'float'>\n",
      "6.591125232223672e-10 <class 'float'>\n",
      "6.734204786059058e-09 <class 'float'>\n",
      "-0.6000080351255351 <class 'float'>\n",
      "0.01595057404696094 <class 'float'>\n",
      "0.8333363090584246 <class 'float'>\n",
      "0.16666666078085007 <class 'float'>\n",
      "3.260819890465847e-10 <class 'float'>\n",
      "-1.1404230536002839e-08 <class 'float'>\n",
      "0.4166669105739854 <class 'float'>\n",
      "2.3621161652720564e-10 <class 'float'>\n",
      "-3.902482593324062e-11 <class 'float'>\n",
      "0.008333052150777656 <class 'float'>\n",
      "4.695547107833318e-10 <class 'float'>\n",
      "-1.6421974690157573e-08 <class 'float'>\n",
      "0.5999960662028514 <class 'float'>\n",
      "4.695547107833318e-10 <class 'float'>\n",
      "-1.6421974690157573e-08 <class 'float'>\n",
      "0.5999960662028514 <class 'float'>\n",
      "0.013688088823517524 <class 'float'>\n"
     ]
    }
   ],
   "source": [
    "se.run()"
   ]
  },
  {
   "cell_type": "code",
   "execution_count": 15,
   "metadata": {},
   "outputs": [
    {
     "name": "stdout",
     "output_type": "stream",
     "text": [
      "|                   |   ReqRefTime |     Omega0 |   Omega_ref |      D0 |   MassRatio | ChiA              | ChiA_ref                      | ChiB             | ChiB_ref                      |    ChiEff |   ChiPrec |\n",
      "|:------------------|-------------:|-----------:|------------:|--------:|------------:|:------------------|:------------------------------|:-----------------|:------------------------------|----------:|----------:|\n",
      "| ICTSEccParallel13 |          338 | 0.0125772  |     0.0136  | 17.1103 |         9.5 | (0.0, 0.0, 0.6)   | (-0.0, 0.0, 0.6)              | (0.0, 0.0, 0.3)  | (-0.0, 0.0, 0.6)              |  0.571429 |  0        |\n",
      "| ICTSEccParallel12 |          338 | 0.0125772  |     0.014   | 17.1103 |         9.5 | (0.0, 0.0, 0.3)   | (-0.0, 0.0, 0.3)              | (0.0, 0.0, 0.3)  | (-0.0, 0.0, 0.3)              |  0.3      |  0        |\n",
      "| ICTSEccParallel01 |          308 | 0.0152181  |     0.01572 | 15.4136 |         3   | (0.3, 0.0, 0.0)   | (0.29679, 0.04377, 0.00035)   | (0.3, 0.0, 0.0)  | (0.29679, 0.04377, 0.00035)   |  0        |  0.3      |\n",
      "| ICTSEccParallel15 |          338 | 0.0125938  |     0.01408 | 17.1107 |         5   | (0.0, 0.0, 0.3)   | (0.0, -0.0, 0.3)              | (0.0, 0.0, 0.3)  | (0.0, -0.0, 0.3)              |  0.3      |  0        |\n",
      "| ICTSEccParallel10 |          284 | 0.0171697  |     0.01442 | 14.3231 |        11   | (0.0, 0.0, -0.4)  | (-0.0, -0.0, -0.40001)        | (0.0, 0.0, 0.2)  | (-0.0, -0.0, -0.40001)        | -0.35     |  0        |\n",
      "| ICTSEccParallel02 |          390 | 0.0120649  |     0.0151  | 17.9896 |         2.5 | (-0.1, -0.4, 0.0) | (-0.04346, -0.41, 0.00096)    | (0.1, 0.4, 0.0)  | (-0.04346, -0.41, 0.00096)    |  0        |  0.412311 |\n",
      "| ICTSEccParallel06 |          200 | 0.0202785  |     0.03255 | 12.0799 |         9   | (0.1, -0.3, -0.2) | (0.14673, -0.28213, -0.19713) | (0.0, 0.0, 0.1)  | (0.14673, -0.28213, -0.19713) | -0.17     |  0.316228 |\n",
      "| ICTSEccParallel09 |          nan | 0.00456364 |   nan       | 33.2806 |        11   | (0.0, 0.0, -0.4)  | nan                           | (0.0, 0.0, 0.2)  | nan                           | -0.35     |  0        |\n",
      "| ICTSEccParallel17 |          338 | 0.0125938  |     0.01589 | 17.1107 |         5   | (0.0, 0.0, -0.6)  | (0.0, -0.0, -0.59999)         | (0.0, 0.0, -0.3) | (0.0, -0.0, -0.59999)         | -0.55     |  0        |\n",
      "| ICTSEccParallel11 |          338 | 0.0125784  |     0.01384 | 17.1104 |         9   | (0.0, 0.0, 0.5)   | (-0.0, -0.0, 0.49999)         | (0.0, 0.0, -0.4) | (-0.0, -0.0, 0.49999)         |  0.41     |  0        |\n",
      "| ICTSEccParallel04 |          200 | 0.0284862  |     0.02702 |  9.9    |         2   | (0.0, 0.0, 0.4)   | (0.0, -0.0, 0.40004)          | (0.0, 0.0, 0.2)  | (0.0, -0.0, 0.40004)          |  0.333333 |  0        |\n",
      "| ICTSEccParallel03 |          200 | 0.0283864  |     0.02954 |  9.9    |         3.5 | (0.2, 0.1, 0.0)   | (0.16693, 0.14876, 0.00183)   | (0.2, 0.1, 0.0)  | (0.16693, 0.14876, 0.00183)   |  0        |  0.223607 |\n",
      "| ICTSEccParallel08 |          200 | 0.0368929  |     0.02624 |  8.36   |         5   | (0.0, 0.0, 0.1)   | (0.0, 0.0, 0.09999)           | (0.0, 0.0, -0.2) | (0.0, 0.0, 0.09999)           |  0.05     |  0        |\n",
      "| ICTSEccParallel07 |          196 | 0.0245271  |     0.02921 | 10.7901 |         8   | (0.0, 0.0, 0.5)   | (0.0, 0.0, 0.49996)           | (0.0, 0.0, -0.2) | (0.0, 0.0, 0.49996)           |  0.422222 |  0        |\n",
      "| ICTSEccParallel05 |          196 | 0.0285284  |     0.03237 |  9.9    |         1.4 | (0.0, 0.0, -0.5)  | (-0.0, -0.0, -0.49993)        | (0.0, 0.0, 0.2)  | (-0.0, -0.0, -0.49993)        | -0.208333 |  0        |\n",
      "| ICTSEccParallel14 |          338 | 0.0125772  |     0.01595 | 17.1103 |         9.5 | (0.0, 0.0, -0.6)  | (0.0, 0.0, -0.60001)          | (0.0, 0.0, -0.3) | (0.0, 0.0, -0.60001)          | -0.571429 |  0        |\n",
      "| ICTSEccParallel16 |          338 | 0.0125938  |     0.01369 | 17.1107 |         5   | (0.0, 0.0, 0.6)   | (0.0, -0.0, 0.6)              | (0.0, 0.0, 0.3)  | (0.0, -0.0, 0.6)              |  0.55     |  0        |\n"
     ]
    }
   ],
   "source": [
    "print(se.get_filtered_dataframe().to_markdown())"
   ]
  },
  {
   "cell_type": "code",
   "execution_count": null,
   "metadata": {},
   "outputs": [],
   "source": []
  }
 ],
 "metadata": {
  "kernelspec": {
   "display_name": "wprep",
   "language": "python",
   "name": "python3"
  },
  "language_info": {
   "codemirror_mode": {
    "name": "ipython",
    "version": 3
   },
   "file_extension": ".py",
   "mimetype": "text/x-python",
   "name": "python",
   "nbconvert_exporter": "python",
   "pygments_lexer": "ipython3",
   "version": "3.10.14"
  }
 },
 "nbformat": 4,
 "nbformat_minor": 2
}
